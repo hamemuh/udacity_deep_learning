{
 "cells": [
  {
   "cell_type": "markdown",
   "metadata": {},
   "source": [
    "# Sentiment Classification & How To \"Frame Problems\" for a Neural Network\n",
    "\n",
    "by Andrew Trask\n",
    "\n",
    "- **Twitter**: @iamtrask\n",
    "- **Blog**: http://iamtrask.github.io"
   ]
  },
  {
   "cell_type": "markdown",
   "metadata": {},
   "source": [
    "### What You Should Already Know\n",
    "\n",
    "- neural networks, forward and back-propagation\n",
    "- stochastic gradient descent\n",
    "- mean squared error\n",
    "- and train/test splits\n",
    "\n",
    "### Where to Get Help if You Need it\n",
    "- Re-watch previous Udacity Lectures\n",
    "- Leverage the recommended Course Reading Material - [Grokking Deep Learning](https://www.manning.com/books/grokking-deep-learning) (Check inside your classroom for a discount code)\n",
    "- Shoot me a tweet @iamtrask\n",
    "\n",
    "\n",
    "### Tutorial Outline:\n",
    "\n",
    "- Intro: The Importance of \"Framing a Problem\" (this lesson)\n",
    "\n",
    "- [Curate a Dataset](#lesson_1)\n",
    "- [Developing a \"Predictive Theory\"](#lesson_2)\n",
    "- [**PROJECT 1**: Quick Theory Validation](#project_1)\n",
    "\n",
    "\n",
    "- [Transforming Text to Numbers](#lesson_3)\n",
    "- [**PROJECT 2**: Creating the Input/Output Data](#project_2)\n",
    "\n",
    "\n",
    "- Putting it all together in a Neural Network (video only - nothing in notebook)\n",
    "- [**PROJECT 3**: Building our Neural Network](#project_3)\n",
    "\n",
    "\n",
    "- [Understanding Neural Noise](#lesson_4)\n",
    "- [**PROJECT 4**: Making Learning Faster by Reducing Noise](#project_4)\n",
    "\n",
    "\n",
    "- [Analyzing Inefficiencies in our Network](#lesson_5)\n",
    "- [**PROJECT 5**: Making our Network Train and Run Faster](#project_5)\n",
    "\n",
    "\n",
    "- [Further Noise Reduction](#lesson_6)\n",
    "- [**PROJECT 6**: Reducing Noise by Strategically Reducing the Vocabulary](#project_6)\n",
    "\n",
    "\n",
    "- [Analysis: What's going on in the weights?](#lesson_7)"
   ]
  },
  {
   "cell_type": "markdown",
   "metadata": {
    "nbpresent": {
     "id": "56bb3cba-260c-4ebe-9ed6-b995b4c72aa3"
    }
   },
   "source": [
    "# Lesson: Curate a Dataset<a id='lesson_1'></a>\n",
    "The cells from here until Project 1 include code Andrew shows in the videos leading up to mini project 1. We've included them so you can run the code along with the videos without having to type in everything."
   ]
  },
  {
   "cell_type": "code",
   "execution_count": 4,
   "metadata": {
    "collapsed": true,
    "nbpresent": {
     "id": "eba2b193-0419-431e-8db9-60f34dd3fe83"
    }
   },
   "outputs": [],
   "source": [
    "def pretty_print_review_and_label(i):\n",
    "    print(labels[i] + \"\\t:\\t\" + reviews[i][:80] + \"...\")\n",
    "\n",
    "g = open('reviews.txt','r') # What we know!\n",
    "reviews = list(map(lambda x:x[:-1],g.readlines()))\n",
    "g.close()\n",
    "\n",
    "g = open('labels.txt','r') # What we WANT to know!\n",
    "labels = list(map(lambda x:x[:-1].upper(),g.readlines()))\n",
    "g.close()"
   ]
  },
  {
   "cell_type": "markdown",
   "metadata": {},
   "source": [
    "**Note:** The data in `reviews.txt` we're using has already been preprocessed a bit and contains only lower case characters. If we were working from raw data, where we didn't know it was all lower case, we would want to add a step here to convert it. That's so we treat different variations of the same word, like `The`, `the`, and `THE`, all the same way."
   ]
  },
  {
   "cell_type": "code",
   "execution_count": 2,
   "metadata": {
    "collapsed": true
   },
   "outputs": [
    {
     "output_type": "execute_result",
     "data": {
      "text/plain": [
       "25000"
      ]
     },
     "metadata": {},
     "execution_count": 2
    }
   ],
   "source": [
    "len(reviews)"
   ]
  },
  {
   "cell_type": "code",
   "execution_count": 3,
   "metadata": {
    "collapsed": true,
    "nbpresent": {
     "id": "bb95574b-21a0-4213-ae50-34363cf4f87f"
    }
   },
   "outputs": [
    {
     "output_type": "execute_result",
     "data": {
      "text/plain": [
       "'bromwell high is a cartoon comedy . it ran at the same time as some other programs about school life  such as  teachers  . my   years in the teaching profession lead me to believe that bromwell high  s satire is much closer to reality than is  teachers  . the scramble to survive financially  the insightful students who can see right through their pathetic teachers  pomp  the pettiness of the whole situation  all remind me of the schools i knew and their students . when i saw the episode in which a student repeatedly tried to burn down the school  i immediately recalled . . . . . . . . . at . . . . . . . . . . high . a classic line inspector i  m here to sack one of your teachers . student welcome to bromwell high . i expect that many adults of my age think that bromwell high is far fetched . what a pity that it isn  t   '"
      ]
     },
     "metadata": {},
     "execution_count": 3
    }
   ],
   "source": [
    "reviews[0]"
   ]
  },
  {
   "cell_type": "code",
   "execution_count": 4,
   "metadata": {
    "collapsed": true,
    "nbpresent": {
     "id": "e0408810-c424-4ed4-afb9-1735e9ddbd0a"
    }
   },
   "outputs": [
    {
     "output_type": "execute_result",
     "data": {
      "text/plain": [
       "'POSITIVE'"
      ]
     },
     "metadata": {},
     "execution_count": 4
    }
   ],
   "source": [
    "labels[0]"
   ]
  },
  {
   "cell_type": "code",
   "execution_count": 5,
   "metadata": {},
   "outputs": [
    {
     "output_type": "stream",
     "name": "stdout",
     "text": [
      "['bromwell', 'high', 'is', 'a', 'cartoon', 'comedy', '.', 'it', 'ran', 'at', 'the', 'same', 'time', 'as', 'some', 'other', 'programs', 'about', 'school', 'life', '', 'such', 'as', '', 'teachers', '', '.', 'my', '', '', 'years', 'in', 'the', 'teaching', 'profession', 'lead', 'me', 'to', 'believe', 'that', 'bromwell', 'high', '', 's', 'satire', 'is', 'much', 'closer', 'to', 'reality', 'than', 'is', '', 'teachers', '', '.', 'the', 'scramble', 'to', 'survive', 'financially', '', 'the', 'insightful', 'students', 'who', 'can', 'see', 'right', 'through', 'their', 'pathetic', 'teachers', '', 'pomp', '', 'the', 'pettiness', 'of', 'the', 'whole', 'situation', '', 'all', 'remind', 'me', 'of', 'the', 'schools', 'i', 'knew', 'and', 'their', 'students', '.', 'when', 'i', 'saw', 'the', 'episode', 'in', 'which', 'a', 'student', 'repeatedly', 'tried', 'to', 'burn', 'down', 'the', 'school', '', 'i', 'immediately', 'recalled', '.', '.', '.', '.', '.', '.', '.', '.', '.', 'at', '.', '.', '.', '.', '.', '.', '.', '.', '.', '.', 'high', '.', 'a', 'classic', 'line', 'inspector', 'i', '', 'm', 'here', 'to', 'sack', 'one', 'of', 'your', 'teachers', '.', 'student', 'welcome', 'to', 'bromwell', 'high', '.', 'i', 'expect', 'that', 'many', 'adults', 'of', 'my', 'age', 'think', 'that', 'bromwell', 'high', 'is', 'far', 'fetched', '.', 'what', 'a', 'pity', 'that', 'it', 'isn', '', 't', '', '', '']\n"
     ]
    }
   ],
   "source": [
    "print(reviews[0].split(' '))"
   ]
  },
  {
   "cell_type": "markdown",
   "metadata": {},
   "source": [
    "# Lesson: Develop a Predictive Theory<a id='lesson_2'></a>"
   ]
  },
  {
   "cell_type": "code",
   "execution_count": 6,
   "metadata": {
    "collapsed": true,
    "nbpresent": {
     "id": "e67a709f-234f-4493-bae6-4fb192141ee0"
    }
   },
   "outputs": [
    {
     "output_type": "stream",
     "name": "stdout",
     "text": [
      "labels.txt \t : \t reviews.txt\n\nNEGATIVE\t:\tthis movie is terrible but it has some good effects .  ...\nPOSITIVE\t:\tadrian pasdar is excellent is this film . he makes a fascinating woman .  ...\nNEGATIVE\t:\tcomment this movie is impossible . is terrible  very improbable  bad interpretat...\nPOSITIVE\t:\texcellent episode movie ala pulp fiction .  days   suicides . it doesnt get more...\nNEGATIVE\t:\tif you haven  t seen this  it  s terrible . it is pure trash . i saw this about ...\nPOSITIVE\t:\tthis schiffer guy is a real genius  the movie is of excellent quality and both e...\n"
     ]
    }
   ],
   "source": [
    "print(\"labels.txt \\t : \\t reviews.txt\\n\")\n",
    "pretty_print_review_and_label(2137)\n",
    "pretty_print_review_and_label(12816)\n",
    "pretty_print_review_and_label(6267)\n",
    "pretty_print_review_and_label(21934)\n",
    "pretty_print_review_and_label(5297)\n",
    "pretty_print_review_and_label(4998)"
   ]
  },
  {
   "cell_type": "markdown",
   "metadata": {},
   "source": [
    "# Project 1: Quick Theory Validation<a id='project_1'></a>\n",
    "\n",
    "There are multiple ways to implement these projects, but in order to get your code closer to what Andrew shows in his solutions, we've provided some hints and starter code throughout this notebook.\n",
    "\n",
    "You'll find the [Counter](https://docs.python.org/2/library/collections.html#collections.Counter) class to be useful in this exercise, as well as the [numpy](https://docs.scipy.org/doc/numpy/reference/) library."
   ]
  },
  {
   "cell_type": "code",
   "execution_count": 8,
   "metadata": {
    "collapsed": true
   },
   "outputs": [],
   "source": [
    "from collections import Counter\n",
    "import numpy as np"
   ]
  },
  {
   "cell_type": "markdown",
   "metadata": {},
   "source": [
    "We'll create three `Counter` objects, one for words from postive reviews, one for words from negative reviews, and one for all the words."
   ]
  },
  {
   "cell_type": "code",
   "execution_count": 8,
   "metadata": {
    "collapsed": true
   },
   "outputs": [],
   "source": [
    "# Create three Counter objects to store positive, negative and total counts\n",
    "positive_counts = Counter()\n",
    "negative_counts = Counter()\n",
    "total_counts = Counter()"
   ]
  },
  {
   "cell_type": "markdown",
   "metadata": {},
   "source": [
    "**TODO:** Examine all the reviews. For each word in a positive review, increase the count for that word in both your positive counter and the total words counter; likewise, for each word in a negative review, increase the count for that word in both your negative counter and the total words counter.\n",
    "\n",
    "**Note:** Throughout these projects, you should use `split(' ')` to divide a piece of text (such as a review) into individual words. If you use `split()` instead, you'll get slightly different results than what the videos and solutions show."
   ]
  },
  {
   "cell_type": "code",
   "execution_count": 9,
   "metadata": {
    "collapsed": true
   },
   "outputs": [],
   "source": [
    "# TODO: Loop over all the words in all the reviews and increment the counts in the appropriate counter objects\n",
    "for i in range(0, len(reviews)):\n",
    "    words = reviews[i].split(' ')\n",
    "    if labels[i] == 'POSITIVE':\n",
    "        positive_counts.update(words)\n",
    "        total_counts.update(words)\n",
    "    else:\n",
    "        negative_counts.update(words)\n",
    "        total_counts.update(words)"
   ]
  },
  {
   "cell_type": "markdown",
   "metadata": {},
   "source": [
    "Run the following two cells to list the words used in positive reviews and negative reviews, respectively, ordered from most to least commonly used. "
   ]
  },
  {
   "cell_type": "code",
   "execution_count": 10,
   "metadata": {
    "collapsed": true,
    "tags": [
     "outputPrepend"
    ]
   },
   "outputs": [
    {
     "output_type": "stream",
     "name": "stdout",
     "text": [
      "erous', 1), ('pursing', 1), ('warpaint', 1), ('teasingly', 1), ('sadeghi', 1), ('tehrani', 1), ('safar', 1), ('mohamad', 1), ('kheirabadi', 1), ('reportage', 1), ('milling', 1), ('vrit', 1), ('prohibitions', 1), ('offisde', 1), ('interceding', 1), ('anonimul', 1), ('ayatollah', 1), ('khomeini', 1), ('koran', 1), ('mahmoud', 1), ('ahmadinejad', 1), ('sigfried', 1), ('flamengo', 1), ('safdar', 1), ('masoud', 1), ('kheymeh', 1), ('kaboud', 1), ('detaining', 1), ('adlai', 1), ('chador', 1), ('teheran', 1), ('makhmalbafs', 1), ('decreed', 1), ('attache', 1), ('harrods', 1), ('minutely', 1), ('entailing', 1), ('envoy', 1), ('gunboats', 1), ('pummels', 1), ('defray', 1), ('internalised', 1), ('externalised', 1), ('expansionist', 1), ('eiko', 1), ('ando', 1), ('pomposity', 1), ('roadway', 1), ('industrialisation', 1), ('consul', 1), ('gunboat', 1), ('tanglefoot', 1), ('archery', 1), ('vrs', 1), ('fanzine', 1), ('funiest', 1), ('carisle', 1), ('smoothie', 1), ('mortician', 1), ('gottlieb', 1), ('byers', 1), ('orangutan', 1), ('snout', 1), ('chutney', 1), ('sigfreid', 1), ('chace', 1), ('hatian', 1), ('dorkily', 1), ('abreast', 1), ('outshoot', 1), ('lizardry', 1), ('covertly', 1), ('doubters', 1), ('highpoints', 1), ('loutishness', 1), ('vulturine', 1), ('brassware', 1), ('squirmishness', 1), ('millers', 1), ('goten', 1), ('acquittal', 1), ('eschelons', 1), ('panged', 1), ('braley', 1), ('walchek', 1), ('menendez', 1), ('declamatory', 1), ('clarion', 1), ('sking', 1), ('alchoholic', 1), ('moimeme', 1), ('prosy', 1), ('quelle', 1), ('toed', 1), ('vocalised', 1), ('farlinger', 1), ('scowling', 1), ('madelene', 1), ('varotto', 1), ('duilio', 1), ('prete', 1), ('leonida', 1), ('bottacin', 1), ('piso', 1), ('heiresses', 1), ('adone', 1), ('invective', 1), ('xeroxing', 1), ('readjust', 1), ('foggiest', 1), ('synchronisation', 1), ('christoph', 1), ('ohrt', 1), ('immanuel', 1), ('repartees', 1), ('tuengerthal', 1), ('demmer', 1), ('nites', 1), ('pillman', 1), ('badd', 1), ('ddp', 1), ('jobber', 1), ('plunda', 1), ('dirrty', 1), ('oakhurts', 1), ('adell', 1), ('modell', 1), ('caprio', 1), ('sufferngs', 1), ('mementos', 1), ('memorials', 1), ('commemorations', 1), ('safran', 1), ('foer', 1), ('birma', 1), ('commiserated', 1), ('hutu', 1), ('rwandan', 1), ('lache', 1), ('imani', 1), ('hakim', 1), ('alsobrook', 1), ('byran', 1), ('sugarman', 1), ('disintegrates', 1), ('cloistered', 1), ('priorly', 1), ('lousing', 1), ('lidia', 1), ('devorah', 1), ('ptss', 1), ('paradoxically', 1), ('collosus', 1), ('propositioning', 1), ('motown', 1), ('psychotherapist', 1), ('dcor', 1), ('sideburns', 1), ('topcoat', 1), ('caroling', 1), ('workday', 1), ('earphones', 1), ('physiologically', 1), ('cheadles', 1), ('sandlers', 1), ('additive', 1), ('treacle', 1), ('condescended', 1), ('provocations', 1), ('sendback', 1), ('unfastened', 1), ('downcast', 1), ('motorised', 1), ('redecorating', 1), ('remission', 1), ('enabler', 1), ('sate', 1), ('commonsense', 1), ('reties', 1), ('reine', 1), ('mim', 1), ('carotids', 1), ('hyperventilate', 1), ('dredged', 1), ('clung', 1), ('hynde', 1), ('vedder', 1), ('chipper', 1), ('shutout', 1), ('hima', 1), ('stagnated', 1), ('veddar', 1), ('borat', 1), ('cadre', 1), ('referrals', 1), ('counteroffer', 1), ('reay', 1), ('greytack', 1), ('apel', 1), ('fasten', 1), ('louvred', 1), ('misapprehension', 1), ('hisself', 1), ('ute', 1), ('unbowed', 1), ('schmuck', 1), ('gainful', 1), ('mails', 1), ('bolye', 1), ('reshoskys', 1), ('reshovsky', 1), ('shor', 1), ('walshs', 1), ('oilfield', 1), ('yoing', 1), ('curved', 1), ('presumable', 1), ('moviebecause', 1), ('thirdrate', 1), ('dominos', 1), ('flyyn', 1), ('pts', 1), ('craftwork', 1), ('forsee', 1), ('sheriffs', 1), ('expansiveness', 1), ('layover', 1), ('bravi', 1), ('garment', 1), ('polysyllabic', 1), ('chug', 1), ('britsh', 1), ('stewards', 1), ('parables', 1), ('bdus', 1), ('revolutionise', 1), ('kierlaw', 1), ('labourers', 1), ('bluffing', 1), ('downturn', 1), ('fountainhead', 1), ('fibres', 1), ('unanticipated', 1), ('bandage', 1), ('crowned', 1), ('thorstein', 1), ('veblen', 1), ('exxon', 1), ('husky', 1), ('wheezing', 1), ('expenditures', 1), ('theisinger', 1), ('sympathizes', 1), ('calculations', 1), ('grandee', 1), ('resplendent', 1), ('frankel', 1), ('dessicated', 1), ('thesigner', 1), ('workforces', 1), ('dapne', 1), ('refreshment', 1), ('dauntless', 1), ('cont', 1), ('slings', 1), ('thesinger', 1), ('enunciates', 1), ('knudsen', 1), ('livelihoods', 1), ('disposability', 1), ('minder', 1), ('replaydvd', 1), ('gillies', 1), ('deulling', 1), ('manliness', 1), ('theorized', 1), ('dicey', 1), ('coyotes', 1), ('chulawasse', 1), ('reynold', 1), ('synonomous', 1), ('peacefulness', 1), ('woodsman', 1), ('woodsmen', 1), ('suppositives', 1), ('handbasket', 1), ('tranquillo', 1), ('bullard', 1), ('whitewater', 1), ('weissberg', 1), ('mendel', 1), ('quivers', 1), ('redden', 1), ('assaulters', 1), ('cocks', 1), ('shielded', 1), ('churningly', 1), ('sodomised', 1), ('woodlanders', 1), ('downstream', 1), ('exacted', 1), ('backcountry', 1), ('sugarcoated', 1), ('downriver', 1), ('shalt', 1), ('pacifism', 1), ('inbreeding', 1), ('deformities', 1), ('relapsing', 1), ('ooooh', 1), ('appalachians', 1), ('natureit', 1), ('retarted', 1), ('zardoz', 1), ('numberless', 1), ('darwinian', 1), ('counterbalances', 1), ('sinewy', 1), ('sapiens', 1), ('survivalist', 1), ('canoes', 1), ('demonstrable', 1), ('desperateness', 1), ('embellishment', 1), ('rosier', 1), ('undulating', 1), ('lithium', 1), ('troughs', 1), ('unheeded', 1), ('cratchitt', 1), ('breakfasts', 1), ('irmo', 1), ('nossa', 1), ('gilber', 1), ('norbert', 1), ('bedford', 1), ('rungs', 1), ('potentiality', 1), ('cyclone', 1), ('cot', 1), ('fidgeting', 1), ('yuwen', 1), ('archiev', 1), ('unbelivebly', 1), ('catylast', 1), ('oppurunity', 1), ('fernandel', 1), ('gavras', 1), ('lambrakis', 1), ('aveu', 1), ('stalinists', 1), ('surpring', 1), ('althogh', 1), ('assasination', 1), ('volnay', 1), ('procuror', 1), ('daslow', 1), ('icarus', 1), ('condor', 1), ('volney', 1), ('oracles', 1), ('ordination', 1), ('napkin', 1), ('tripled', 1), ('turds', 1), ('swarmed', 1), ('unmarked', 1), ('childen', 1), ('unsupervised', 1), ('denim', 1), ('digges', 1), ('maisie', 1), ('angelus', 1), ('sudan', 1), ('telefilms', 1), ('simpathetic', 1), ('everythings', 1), ('ley', 1), ('herodes', 1), ('bajo', 1), ('tiene', 1), ('quien', 1), ('escriba', 1), ('compadre', 1), ('iberian', 1), ('peninsular', 1), ('garcadiego', 1), ('timber', 1), ('godot', 1), ('lujan', 1), ('cockfight', 1), ('cockfighting', 1), ('augustin', 1), ('gamecock', 1), ('escreve', 1), ('disslikes', 1), ('abanks', 1), ('capping', 1), ('deviating', 1), ('unwholesome', 1), ('sullivanis', 1), ('shudderingly', 1), ('wacks', 1), ('teethed', 1), ('snickets', 1), ('allergy', 1), ('grits', 1), ('predominate', 1), ('sullivans', 1), ('upstaging', 1), ('dualities', 1), ('flatlands', 1), ('copland', 1), ('nitti', 1), ('bah', 1), ('portent', 1), ('astonish', 1), ('miscreant', 1), ('seldomly', 1), ('brazenly', 1), ('scorcesee', 1), ('conrads', 1), ('cthd', 1), ('parasitical', 1), ('decimate', 1), ('quench', 1), ('chacho', 1), ('tetsuothe', 1), ('fckin', 1), ('deathbots', 1), ('wiring', 1), ('henenlotter', 1), ('lavished', 1), ('mutate', 1), ('obscures', 1), ('yudai', 1), ('yamaguchi', 1), ('noway', 1), ('keita', 1), ('ketchup', 1), ('togan', 1), ('psyciatrist', 1), ('irrversible', 1), ('bellucci', 1), ('tiglon', 1), ('ply', 1), ('langrishe', 1), ('gutteridge', 1), ('whalley', 1), ('gauged', 1), ('okul', 1), ('dbbe', 1), ('yesilcam', 1), ('ribaldry', 1), ('susanah', 1), ('casette', 1), ('fopington', 1), ('hoyden', 1), ('jusenkkyo', 1), ('kuno', 1), ('kodachi', 1), ('happosai', 1), ('stealling', 1), ('ryoga', 1), ('inu', 1), ('yasha', 1), ('dojo', 1), ('kasumi', 1), ('nabiki', 1), ('maison', 1), ('ikkoku', 1), ('suggessted', 1), ('bludgeons', 1), ('deletion', 1), ('tonally', 1), ('escapeuntil', 1), ('ceasarean', 1), ('divorcing', 1), ('envious', 1), ('ddr', 1), ('policeschool', 1), ('alte', 1), ('yau', 1), ('tau', 1), ('classicks', 1), ('koreas', 1), ('unforunatley', 1), ('archs', 1), ('salo', 1), ('culminated', 1), ('urbanscapes', 1), ('mongkok', 1), ('eason', 1), ('shrugging', 1), ('upholds', 1), ('bilitis', 1), ('schulmdchen', 1), ('connotation', 1), ('phillistines', 1), ('mildest', 1), ('activating', 1), ('afer', 1), ('palazzo', 1), ('volpi', 1), ('freakness', 1), ('idolatry', 1), ('theieves', 1), ('complainers', 1), ('normative', 1), ('mahoganoy', 1), ('underserved', 1), ('rennaissance', 1), ('retrospectives', 1), ('relentlessy', 1), ('cunty', 1), ('gurl', 1), ('xtragavaganza', 1), ('malcom', 1), ('tradeoff', 1), ('documentry', 1), ('camadrie', 1), ('extroverts', 1), ('storyville', 1), ('textbooks', 1), ('eltinge', 1), ('minette', 1), ('postdates', 1), ('senelick', 1), ('chrystal', 1), ('willi', 1), ('labeija', 1), ('anji', 1), ('howdoilooknyc', 1), ('tranvestites', 1), ('wasabi', 1), ('glamorise', 1), ('shoplifting', 1), ('verizon', 1), ('curable', 1), ('sunscreen', 1), ('weem', 1), ('snowballing', 1), ('dgw', 1), ('kish', 1), ('ga', 1), ('someup', 1), ('sufferes', 1), ('fortuate', 1), ('barometers', 1), ('gradations', 1), ('oscillators', 1), ('vibrating', 1), ('katt', 1), ('havn', 1), ('waz', 1), ('rihanna', 1), ('lorden', 1), ('olander', 1), ('diabetes', 1), ('controlness', 1), ('thingthere', 1), ('proustian', 1), ('unbounded', 1), ('obliterated', 1), ('chippendale', 1), ('germ', 1), ('theirse', 1), ('loader', 1), ('germaphobe', 1), ('heslov', 1), ('huertas', 1), ('westcourt', 1), ('annelle', 1), ('eur', 1), ('carrol', 1), ('wallece', 1), ('equivocations', 1), ('shojo', 1), ('debriefing', 1), ('germaphobic', 1), ('motherf', 1), ('trudie', 1), ('styler', 1), ('twasn', 1), ('painkiller', 1), ('hatless', 1), ('whimpers', 1), ('sprites', 1), ('froud', 1), ('sider', 1), ('furdion', 1), ('sucessful', 1), ('reportary', 1), ('busch', 1), ('housman', 1), ('rejuvenating', 1), ('exhooker', 1), ('discription', 1), ('specialy', 1), ('extremly', 1), ('surrogated', 1), ('socioty', 1), ('comlex', 1), ('incapacity', 1), ('staphane', 1), ('ravishment', 1), ('juncos', 1), ('silvestres', 1), ('tchin', 1), ('vacations', 1), ('estival', 1), ('rationalism', 1), ('exhibitionist', 1), ('greased', 1), ('rearranging', 1), ('hormone', 1), ('brasher', 1), ('sequentially', 1), ('morel', 1), ('aphasia', 1), ('enfin', 1), ('mais', 1), ('nantes', 1), ('belami', 1), ('ellipsis', 1), ('treasureable', 1), ('reymond', 1), ('annick', 1), ('matheron', 1), ('laetitia', 1), ('legrix', 1), ('sunning', 1), ('consignations', 1), ('condiment', 1), ('dionysian', 1), ('apollonian', 1), ('nils', 1), ('ohlund', 1), ('incomparably', 1), ('eschewing', 1), ('teapot', 1), ('kappa', 1), ('brella', 1), ('sheeks', 1), ('fatcheek', 1), ('scrolls', 1), ('hoky', 1), ('babylonian', 1), ('scarsely', 1), ('yoshiyuki', 1), ('kuroda', 1), ('daimajin', 1), ('majin', 1), ('izoo', 1), ('daugter', 1), ('maura', 1), ('grubiness', 1), ('donell', 1), ('alterego', 1), ('ykai', 1), ('daisens', 1), ('shitless', 1), ('littler', 1), ('meanial', 1), ('embarasses', 1), ('banishses', 1), ('recants', 1), ('lifestory', 1), ('lachrymose', 1), ('samaurai', 1), ('cooling', 1), ('clipping', 1), ('andromedia', 1), ('gungan', 1), ('tpm', 1), ('minion', 1), ('villainies', 1), ('riled', 1), ('akuzi', 1), ('storyboards', 1), ('veeringly', 1), ('conure', 1), ('vilyenkov', 1), ('castaway', 1), ('perched', 1), ('atm', 1), ('usuing', 1), ('whove', 1), ('hedghog', 1), ('robotnik', 1), ('cowers', 1), ('yokia', 1), ('despondently', 1), ('tightness', 1), ('kaleidescope', 1), ('labrynth', 1), ('grims', 1), ('mindframe', 1), ('coined', 1), ('humerous', 1), ('animalsfx', 1), ('ignacio', 1), ('henchgirl', 1), ('chritmas', 1), ('providence', 1), ('succesfully', 1), ('binded', 1), ('gentlemens', 1), ('englishness', 1), ('marenghi', 1), ('darkplace', 1), ('boosh', 1), ('jermy', 1), ('lazarou', 1), ('barging', 1), ('lazarous', 1), ('repulsing', 1), ('redraws', 1), ('undefinable', 1), ('edwrad', 1), ('toads', 1), ('chinnery', 1), ('tipps', 1), ('plastics', 1), ('plums', 1), ('nosebleeds', 1), ('tlog', 1), ('waching', 1), ('dears', 1), ('biospheres', 1), ('megazones', 1), ('artbox', 1), ('minmay', 1), ('kirsted', 1), ('detaching', 1), ('schwimmer', 1), ('celeb', 1), ('thandie', 1), ('kristan', 1), ('grassroots', 1), ('badmouthing', 1), ('emand', 1), ('kahlua', 1), ('strivings', 1), ('foxtrot', 1), ('proficiency', 1), ('straughan', 1), ('weidstraughan', 1), ('pissing', 1), ('atkinmson', 1), ('romcom', 1), ('consort', 1), ('margolyes', 1), ('myles', 1), ('sexuals', 1), ('plotsidney', 1), ('hollywoodised', 1), ('yound', 1), ('cringy', 1), ('hackdom', 1), ('maddox', 1), ('delarua', 1), ('menen', 1), ('lances', 1), ('abrazo', 1), ('partido', 1), ('emiliano', 1), ('torres', 1), ('pineyro', 1), ('coselli', 1), ('melina', 1), ('petrielli', 1), ('esperando', 1), ('mesias', 1), ('puccini', 1), ('tosca', 1), ('napa', 1), ('yubari', 1), ('coexisted', 1), ('leoncavallo', 1), ('matinatta', 1), ('pav', 1), ('gioconda', 1), ('manon', 1), ('lescaut', 1), ('vaugely', 1), ('loooooove', 1), ('shepherdess', 1), ('willaims', 1), ('whiile', 1), ('rageddy', 1), ('mundanity', 1), ('hideousness', 1), ('quato', 1), ('monstrosities', 1), ('lumbered', 1), ('swiping', 1), ('liquidised', 1), ('corrodes', 1), ('hedgehog', 1), ('severing', 1), ('moshing', 1), ('eeyore', 1), ('losted', 1), ('ragdolls', 1), ('gazooks', 1), ('unico', 1), ('raggedys', 1), ('caramel', 1), ('superbit', 1), ('incursion', 1), ('magoo', 1), ('dyad', 1), ('oates', 1), ('esqe', 1), ('betuel', 1), ('aligns', 1), ('copola', 1), ('bads', 1), ('mindfck', 1), ('healers', 1), ('unbound', 1), ('erikssons', 1), ('bharti', 1), ('balaun', 1), ('chilcot', 1), ('skinhead', 1), ('miscommunication', 1), ('tunic', 1), ('bugger', 1), ('woodcuts', 1), ('bifff', 1), ('brussel', 1), ('terrorizer', 1), ('examplepeter', 1), ('martell', 1), ('wonderbook', 1), ('banishing', 1), ('exorcised', 1), ('quack', 1), ('eyelid', 1), ('cuticle', 1), ('monahans', 1), ('punter', 1), ('sommersault', 1), ('coorain', 1), ('bodyline', 1), ('shortland', 1), ('fluidly', 1), ('syrkin', 1), ('lemarit', 1), ('ayin', 1), ('investors', 1), ('yara', 1), ('tali', 1), ('gadi', 1), ('keren', 1), ('knightwing', 1), ('penquin', 1), ('indigo', 1), ('cobblepot', 1), ('overabundance', 1), ('costanzo', 1), ('motb', 1), ('crimefighter', 1), ('pengiun', 1), ('ruphert', 1), ('redesign', 1), ('pengium', 1), ('penguim', 1), ('bludhaven', 1), ('pengy', 1), ('valencia', 1), ('oar', 1), ('gordan', 1), ('marienthal', 1), ('kyra', 1), ('pequin', 1), ('batwomen', 1), ('sophisticate', 1), ('parmentier', 1), ('ansen', 1), ('bowe', 1), ('declan', 1), ('hauptmann', 1), ('trevyn', 1), ('internationalize', 1), ('randoph', 1), ('cathrine', 1), ('holdup', 1), ('draconian', 1), ('wallaces', 1), ('gramps', 1), ('strongbox', 1), ('kerby', 1), ('emboldened', 1), ('litel', 1), ('boyce', 1), ('freighting', 1), ('headquartered', 1), ('gop', 1), ('utopic', 1), ('mcfadden', 1), ('malfunction', 1), ('waylan', 1), ('redblock', 1), ('lodi', 1), ('carcass', 1), ('marlyn', 1), ('fretful', 1), ('matic', 1), ('skitter', 1), ('fairmindedness', 1), ('conservativism', 1), ('evenhanded', 1), ('refuges', 1), ('implants', 1), ('whirry', 1), ('nighteyes', 1), ('lauen', 1), ('unrelieved', 1), ('bonner', 1), ('barrimore', 1), ('elams', 1), ('goad', 1), ('numbering', 1), ('bacterial', 1), ('cremated', 1), ('inhumanly', 1), ('dardino', 1), ('sachetti', 1), ('fagrasso', 1), ('phillimines', 1), ('fabrazio', 1), ('deangelis', 1), ('tomassi', 1), ('gianetto', 1), ('luci', 1), ('happed', 1), ('matties', 1), ('rafters', 1), ('shufflers', 1), ('mowing', 1), ('uncontaminated', 1), ('cremating', 1), ('celaschi', 1), ('oragami', 1), ('telekinesis', 1), ('sabretooth', 1), ('nappy', 1), ('cavernous', 1), ('whoosh', 1), ('nippy', 1), ('vegetarians', 1), ('dandelions', 1), ('cones', 1), ('introductions', 1), ('suceed', 1), ('mamooth', 1), ('hazenut', 1), ('dumbness', 1), ('mssr', 1), ('congradulations', 1), ('aninmation', 1), ('baddy', 1), ('slothy', 1), ('aardvarks', 1), ('visnjic', 1), ('tudyk', 1), ('diedrich', 1), ('krakowski', 1), ('bagley', 1), ('pdi', 1), ('melons', 1), ('melman', 1), ('derm', 1), ('sloths', 1), ('iceland', 1), ('immigrating', 1), ('gelo', 1), ('subiaco', 1), ('nomads', 1), ('incredibles', 1), ('leguizano', 1), ('geysers', 1), ('drillers', 1), ('ankylosaurus', 1), ('ryhs', 1), ('summerlee', 1), ('rekay', 1), ('stagestruck', 1), ('floradora', 1), ('hoschna', 1), ('harbach', 1), ('emaciated', 1), ('railroads', 1), ('metoo', 1), ('bettger', 1), ('hyer', 1), ('marguerite', 1), ('nm', 1), ('wishbone', 1), ('moo', 1), ('shahan', 1), ('commancheroes', 1), ('tyrranical', 1), ('incrible', 1), ('triste', 1), ('historia', 1), ('cndida', 1), ('erndira', 1), ('eventhough', 1), ('witt', 1), ('espanol', 1), ('bien', 1), ('excellente', 1), ('coahuila', 1), ('zacatecas', 1), ('potosi', 1), ('sedona', 1), ('durango', 1), ('msmyth', 1), ('marquz', 1), ('dulled', 1), ('arrestingly', 1), ('ejemplo', 1), ('mundo', 1), ('pensaba', 1), ('chaulk', 1), ('scandi', 1), ('freaksa', 1), ('hyperdermic', 1), ('steadican', 1), ('thirtyish', 1), ('iannaccone', 1), ('smartaleck', 1), ('pudney', 1), ('cupidgrl', 1), ('carols', 1), ('dunked', 1), ('toliet', 1), ('disfiguring', 1), ('sinbad', 1), ('bwahahha', 1), ('nany', 1), ('electrocutes', 1), ('minx', 1), ('impalings', 1), ('fecal', 1), ('emmerdale', 1), ('cess', 1), ('tless', 1), ('calms', 1), ('hrr', 1), ('strenghths', 1), ('unprejudiced', 1), ('jabbed', 1), ('disfigure', 1), ('slahsers', 1), ('joies', 1), ('frittering', 1), ('farentino', 1), ('assylum', 1), ('ewaste', 1), ('jia', 1), ('khang', 1), ('sanxia', 1), ('haoren', 1), ('pencier', 1), ('weinzweig', 1), ('crates', 1), ('shipyards', 1), ('incursions', 1), ('koyaanisqatsi', 1), ('variegated', 1), ('gorge', 1), ('rows', 1), ('articulating', 1), ('externalities', 1), ('supplanting', 1), ('automata', 1), ('dormitories', 1), ('recyclable', 1), ('orchard', 1), ('lambaste', 1), ('excavations', 1), ('nikolaus', 1), ('geyrhalter', 1), ('plangent', 1), ('engag', 1), ('sebastio', 1), ('baltz', 1), ('shipbuilding', 1), ('dispiriting', 1), ('truisms', 1), ('depletion', 1), ('fossil', 1), ('peruse', 1), ('vermont', 1), ('neighbourhoods', 1), ('fahrenheit', 1), ('unsteady', 1), ('unsustainable', 1), ('ob', 1), ('claremont', 1), ('lizie', 1), ('warrier', 1), ('mostfamous', 1), ('inlcuded', 1), ('lindoi', 1), ('knighteley', 1), ('edulcorated', 1), ('clarmont', 1), ('bailsman', 1), ('zering', 1), ('hemmingway', 1), ('electronica', 1), ('dutched', 1), ('mescaline', 1), ('mindel', 1), ('underprivileged', 1), ('harvery', 1), ('rizwan', 1), ('abbasi', 1), ('followes', 1), ('leben', 1), ('mensch', 1), ('respiration', 1), ('lifecycle', 1), ('negotiator', 1), ('langoliers', 1), ('espace', 1), ('hopers', 1), ('tae', 1), ('porns', 1), ('felecia', 1), ('faceness', 1), ('beanies', 1), ('sistas', 1), ('meagan', 1), ('deltas', 1), ('keyshia', 1), ('rocsi', 1), ('deray', 1), ('groaned', 1), ('spartans', 1), ('imdbs', 1), ('rutina', 1), ('briana', 1), ('evigan', 1), ('dewan', 1), ('seldana', 1), ('feliz', 1), ('navidad', 1), ('brianiac', 1), ('freakiness', 1), ('pentagrams', 1), ('threes', 1), ('unhellish', 1), ('overcompensating', 1), ('recon', 1), ('santas', 1), ('imprisoning', 1), ('fou', 1), ('mopar', 1), ('oversteps', 1), ('abridge', 1), ('prudhomme', 1), ('blase', 1), ('vansishing', 1), ('louese', 1), ('speedometer', 1), ('wobbling', 1), ('supercharged', 1), ('aerodynamics', 1), ('aspirated', 1), ('aerodynamic', 1), ('disparage', 1), ('chaperoned', 1), ('sullied', 1), ('zegers', 1), ('appearanceswhen', 1), ('affronts', 1), ('precipitated', 1), ('viz', 1), ('fruitfully', 1), ('lowish', 1), ('petunias', 1), ('inchworms', 1), ('billionare', 1), ('hightly', 1), ('getty', 1), ('slagged', 1), ('averaging', 1), ('fanboy', 1), ('labeling', 1), ('malkovitchesque', 1), ('detonator', 1), ('muppified', 1), ('hued', 1)]\n"
     ]
    }
   ],
   "source": [
    "# Examine the counts of the most common words in positive reviews\n",
    "print(positive_counts.most_common())"
   ]
  },
  {
   "cell_type": "code",
   "execution_count": 11,
   "metadata": {
    "collapsed": true,
    "tags": [
     "outputPrepend"
    ]
   },
   "outputs": [
    {
     "output_type": "stream",
     "name": "stdout",
     "text": [
      "1), ('orgue', 1), ('finially', 1), ('draub', 1), ('shotty', 1), ('nurturing', 1), ('sputtered', 1), ('hikers', 1), ('dunderheads', 1), ('scampers', 1), ('evilest', 1), ('frogging', 1), ('effigies', 1), ('hellbreed', 1), ('chod', 1), ('awwwww', 1), ('synapse', 1), ('midproduction', 1), ('yamaha', 1), ('deterent', 1), ('humdinger', 1), ('forgiveable', 1), ('bytch', 1), ('cnt', 1), ('polt', 1), ('obbsessed', 1), ('budgeting', 1), ('downfalls', 1), ('megabomb', 1), ('yackin', 1), ('blabbing', 1), ('synapses', 1), ('wasson', 1), ('tts', 1), ('umderstand', 1), ('keitle', 1), ('waller', 1), ('couplea', 1), ('ashamedare', 1), ('latinity', 1), ('giovanna', 1), ('zacaras', 1), ('flaring', 1), ('pimpin', 1), ('ghettos', 1), ('forewarn', 1), ('eleventh', 1), ('bascally', 1), ('tennesse', 1), ('weezer', 1), ('tamale', 1), ('vacuums', 1), ('commentating', 1), ('annuder', 1), ('gliss', 1), ('wiskey', 1), ('weeklies', 1), ('mingled', 1), ('drunkeness', 1), ('articulation', 1), ('photocopied', 1), ('elapse', 1), ('pote', 1), ('maudit', 1), ('jobbo', 1), ('jolson', 1), ('spritely', 1), ('cloutish', 1), ('normandy', 1), ('muslimization', 1), ('arron', 1), ('buffaloes', 1), ('usable', 1), ('vexed', 1), ('mumblings', 1), ('bossed', 1), ('scates', 1), ('yelena', 1), ('lanskaya', 1), ('werewolve', 1), ('minty', 1), ('militarize', 1), ('korey', 1), ('pollinated', 1), ('slapper', 1), ('planks', 1), ('childhoods', 1), ('genuis', 1), ('perfectionist', 1), ('deludes', 1), ('sculpting', 1), ('endeven', 1), ('comptent', 1), ('domestication', 1), ('healers', 1), ('wealthier', 1), ('aleopathic', 1), ('rupee', 1), ('grewing', 1), ('indellible', 1), ('longstocking', 1), ('astrid', 1), ('lindgren', 1), ('dizziness', 1), ('nincompoops', 1), ('refrains', 1), ('bonnaire', 1), ('winos', 1), ('blyton', 1), ('eally', 1), ('bumpkins', 1), ('haplessly', 1), ('stoney', 1), ('dreier', 1), ('pinsent', 1), ('loo', 1), ('launchpad', 1), ('sikking', 1), ('magwood', 1), ('stensvold', 1), ('dildos', 1), ('justina', 1), ('unlighted', 1), ('elicots', 1), ('sanctity', 1), ('mcg', 1), ('mombi', 1), ('krog', 1), ('kroc', 1), ('gunsels', 1), ('firefight', 1), ('standoffs', 1), ('sunniest', 1), ('graber', 1), ('daley', 1), ('dumbss', 1), ('labratory', 1), ('helmut', 1), ('rovers', 1), ('rmftm', 1), ('firecrackers', 1), ('spearhead', 1), ('carbines', 1), ('fistfights', 1), ('doooor', 1), ('skeets', 1), ('swabby', 1), ('carnys', 1), ('pathe', 1), ('riddlers', 1), ('commishioner', 1), ('ohara', 1), ('rhymed', 1), ('gigglesome', 1), ('howson', 1), ('gurning', 1), ('vii', 1), ('goreheads', 1), ('horseshoe', 1), ('bleeder', 1), ('shadings', 1), ('backrounds', 1), ('betweeners', 1), ('unmasks', 1), ('hobgoblin', 1), ('hereabouts', 1), ('torino', 1), ('illuminated', 1), ('domesticity', 1), ('sakal', 1), ('pvt', 1), ('dondaro', 1), ('warnicki', 1), ('aiello', 1), ('crahan', 1), ('dukas', 1), ('trellis', 1), ('reposes', 1), ('vertical', 1), ('pulley', 1), ('developmental', 1), ('url', 1), ('unsatisfactorily', 1), ('wombat', 1), ('crossfire', 1), ('glady', 1), ('pollination', 1), ('attest', 1), ('everythings', 1), ('revist', 1), ('convergent', 1), ('ansley', 1), ('wilsey', 1), ('plasticized', 1), ('quarrel', 1), ('houseguest', 1), ('leper', 1), ('leaveever', 1), ('warnedit', 1), ('harridan', 1), ('reminiscences', 1), ('penner', 1), ('eyeshadow', 1), ('thunderstorms', 1), ('glazing', 1), ('reorganization', 1), ('horray', 1), ('sedation', 1), ('braves', 1), ('swinger', 1), ('unkiddy', 1), ('fume', 1), ('smuttishness', 1), ('seus', 1), ('vllad', 1), ('microwaves', 1), ('inuindo', 1), ('unwatch', 1), ('programed', 1), ('improvises', 1), ('aortic', 1), ('slimey', 1), ('humberfloob', 1), ('curiousity', 1), ('innapropriate', 1), ('spasitc', 1), ('chineese', 1), ('grotesuque', 1), ('mollecular', 1), ('blalack', 1), ('rif', 1), ('markes', 1), ('strangulations', 1), ('thier', 1), ('insted', 1), ('untastful', 1), ('cude', 1), ('hedeen', 1), ('forefather', 1), ('profanities', 1), ('borscht', 1), ('seussian', 1), ('weasing', 1), ('volkswagon', 1), ('disemboweled', 1), ('moviegoing', 1), ('horrendousness', 1), ('whatevers', 1), ('zaniness', 1), ('sawdust', 1), ('fearlessly', 1), ('fahklempt', 1), ('spca', 1), ('melania', 1), ('differring', 1), ('infra', 1), ('abounded', 1), ('actionless', 1), ('teleprinter', 1), ('dyslexia', 1), ('hellspawn', 1), ('hellbored', 1), ('departmentthe', 1), ('childishness', 1), ('unreasonableness', 1), ('whythey', 1), ('montrocity', 1), ('paynes', 1), ('demnio', 1), ('minimalistically', 1), ('somtimes', 1), ('quibbling', 1), ('regulatory', 1), ('cardiac', 1), ('mccombs', 1), ('harvesting', 1), ('coffey', 1), ('irremediably', 1), ('psychiatry', 1), ('hollywod', 1), ('anja', 1), ('manon', 1), ('bauchau', 1), ('hikes', 1), ('encapsulates', 1), ('itwould', 1), ('uninflected', 1), ('lunches', 1), ('yamashiro', 1), ('honkin', 1), ('hocked', 1), ('pleasingly', 1), ('embellishes', 1), ('grannys', 1), ('unrevealing', 1), ('rupp', 1), ('choosened', 1), ('uptade', 1), ('croaking', 1), ('epitaphs', 1), ('cok', 1), ('surfacing', 1), ('vandalised', 1), ('fresco', 1), ('conveniences', 1), ('haltingly', 1), ('recomment', 1), ('minuted', 1), ('historicaly', 1), ('schooners', 1), ('dirigible', 1), ('mvc', 1), ('ahahahahahaaaaa', 1), ('blatently', 1), ('storyplot', 1), ('tampopo', 1), ('okazaki', 1), ('quaalude', 1), ('hardwork', 1), ('genxyz', 1), ('benzocaine', 1), ('goodnik', 1), ('flooze', 1), ('oversees', 1), ('displacement', 1), ('poignance', 1), ('hyer', 1), ('snobbism', 1), ('greencard', 1), ('unfaithfulness', 1), ('unfaithfuness', 1), ('marionette', 1), ('defecate', 1), ('lattanzi', 1), ('highjinx', 1), ('someincredibly', 1), ('fervour', 1), ('unecessary', 1), ('traumatisingly', 1), ('googling', 1), ('dodson', 1), ('psychotically', 1), ('undifferentiated', 1), ('dodekakuple', 1), ('cobalt', 1), ('superball', 1), ('shelbyville', 1), ('bodacious', 1), ('mcilheny', 1), ('leitmotivs', 1), ('rinky', 1), ('brigley', 1), ('bestwithout', 1), ('rhee', 1), ('creepfest', 1), ('anatomie', 1), ('deadringer', 1), ('chema', 1), ('fele', 1), ('unravelling', 1), ('tantalisingly', 1), ('entrancing', 1), ('adcox', 1), ('possesor', 1), ('possessor', 1), ('zealousness', 1), ('impacting', 1), ('dazzles', 1), ('operational', 1), ('henie', 1), ('britons', 1), ('dogsbody', 1), ('ambrosine', 1), ('phillpotts', 1), ('reprogram', 1), ('braincell', 1), ('excitingly', 1), ('bioweapons', 1), ('bioterrorism', 1), ('interrogated', 1), ('actorsthey', 1), ('tryout', 1), ('vj', 1), ('masterminded', 1), ('activating', 1), ('phreak', 1), ('login', 1), ('backdoor', 1), ('circuits', 1), ('reroutes', 1), ('badat', 1), ('kerchner', 1), ('roodt', 1), ('suspensefully', 1), ('dulling', 1), ('hitlists', 1), ('gnashingly', 1), ('angering', 1), ('topple', 1), ('crypts', 1), ('trackings', 1), ('centeredness', 1), ('remodeled', 1), ('unaccustomed', 1), ('blueprints', 1), ('grills', 1), ('stealthy', 1), ('zigzaggy', 1), ('hidebound', 1), ('cule', 1), ('dweller', 1), ('durr', 1), ('numbskulls', 1), ('bodysuit', 1), ('onj', 1), ('duhllywood', 1), ('dui', 1), ('irrationality', 1), ('doodo', 1), ('disasterous', 1), ('goldcrest', 1), ('campest', 1), ('chancer', 1), ('moulin', 1), ('withers', 1), ('swankiest', 1), ('kensit', 1), ('overcompensate', 1), ('unremembered', 1), ('solidify', 1), ('unwelcomed', 1), ('befuddling', 1), ('suze', 1), ('negrophile', 1), ('fop', 1), ('hoplite', 1), ('bowdlerise', 1), ('comicy', 1), ('farmboy', 1), ('soong', 1), ('vengence', 1), ('absense', 1), ('devloping', 1), ('elbaorating', 1), ('swiftness', 1), ('burlap', 1), ('yumiko', 1), ('shaku', 1), ('colomb', 1), ('effortful', 1), ('girardot', 1), ('montand', 1), ('clatter', 1), ('amsterdam', 1), ('barretto', 1), ('aquino', 1), ('pinoy', 1), ('sayang', 1), ('benefiting', 1), ('devours', 1), ('mull', 1), ('capitalised', 1), ('awakebarely', 1), ('neseri', 1), ('victimization', 1), ('sexily', 1), ('danniele', 1), ('schizo', 1), ('protagoness', 1), ('mesa', 1), ('cavalery', 1), ('xxe', 1), ('spurs', 1), ('lipgloss', 1), ('fancied', 1), ('quill', 1), ('papercuts', 1), ('marcos', 1), ('meatier', 1), ('trice', 1), ('nieves', 1), ('papery', 1), ('nimble', 1), ('ryoko', 1), ('yonekura', 1), ('shingo', 1), ('tsurumi', 1), ('cripples', 1), ('crimelord', 1), ('vanquishes', 1), ('ctrlc', 1), ('ctrlv', 1), ('divined', 1), ('garafolo', 1), ('nerdier', 1), ('forking', 1), ('feffer', 1), ('chunder', 1), ('shart', 1), ('seymore', 1), ('bem', 1), ('favoritesyou', 1), ('frostbite', 1), ('ludicrious', 1), ('capri', 1), ('romolo', 1), ('plebs', 1), ('meditteranean', 1), ('tennesee', 1), ('repertory', 1), ('podgy', 1), ('savory', 1), ('obedience', 1), ('selton', 1), ('mello', 1), ('spoladore', 1), ('ardolino', 1), ('reburn', 1), ('wormholes', 1), ('titty', 1), ('sneeze', 1), ('ati', 1), ('uneffective', 1), ('wasim', 1), ('debutants', 1), ('manjit', 1), ('khosla', 1), ('amritlal', 1), ('sha', 1), ('visualized', 1), ('suresh', 1), ('dulls', 1), ('ompuri', 1), ('suckd', 1), ('aladin', 1), ('confetti', 1), ('unmentionable', 1), ('milos', 1), ('ebullient', 1), ('kinng', 1), ('devgn', 1), ('baja', 1), ('eshaan', 1), ('rannvijay', 1), ('parekh', 1), ('fte', 1), ('voguing', 1), ('maaan', 1), ('dev', 1), ('manna', 1), ('vimbley', 1), ('bharatnatyam', 1), ('chuke', 1), ('sanam', 1), ('guitarists', 1), ('riffles', 1), ('garand', 1), ('pike', 1), ('propagation', 1), ('fertilise', 1), ('unbeatableinspired', 1), ('diarrhoeic', 1), ('carabatsos', 1), ('screamershamburger', 1), ('infos', 1), ('misguiding', 1), ('unchallenging', 1), ('wolsky', 1), ('decorator', 1), ('grumble', 1), ('tlb', 1), ('nutjobs', 1), ('indefinite', 1), ('hulya', 1), ('avsar', 1), ('harmonized', 1), ('vildan', 1), ('atasever', 1), ('triumf', 1), ('willens', 1), ('headedness', 1), ('lodz', 1), ('swindlers', 1), ('interprets', 1), ('ewige', 1), ('regulated', 1), ('characterizes', 1), ('gentiles', 1), ('hoarded', 1), ('undesirables', 1), ('deceptiveness', 1), ('taxed', 1), ('execrated', 1), ('moviewatching', 1), ('ej', 1), ('propagandist', 1), ('musts', 1), ('gratefulness', 1), ('decivilization', 1), ('dandylion', 1), ('volt', 1), ('photosynthesis', 1), ('lamy', 1), ('debucourt', 1), ('lithium', 1), ('lulling', 1), ('spiret', 1), ('fufill', 1), ('cements', 1), ('vehemently', 1), ('eroticize', 1), ('oddballs', 1), ('palmira', 1), ('natacha', 1), ('amal', 1), ('ordinariness', 1), ('transaction', 1), ('delamere', 1), ('beastiality', 1), ('sublimity', 1), ('logician', 1), ('destructiveness', 1), ('riveria', 1), ('nonfictional', 1), ('kindling', 1), ('gamine', 1), ('grievously', 1), ('verbalizations', 1), ('franoise', 1), ('chanteuse', 1), ('dietrichesque', 1), ('drle', 1), ('sorbonne', 1), ('sinecures', 1), ('blighted', 1), ('foucault', 1), ('teenybopper', 1), ('copain', 1), ('consummately', 1), ('ungifted', 1), ('hedonism', 1), ('adenoidal', 1), ('normalizing', 1), ('clasp', 1), ('narcissus', 1), ('sunnier', 1), ('prinal', 1), ('laurents', 1), ('acidic', 1), ('martita', 1), ('unterwaldt', 1), ('comedyactors', 1), ('comedylooser', 1), ('laugthers', 1), ('spliss', 1), ('bubi', 1), ('walkees', 1), ('ralf', 1), ('cosma', 1), ('rdiger', 1), ('olli', 1), ('dittrich', 1), ('egal', 1), ('ich', 1), ('muss', 1), ('waldsterben', 1), ('samstag', 1), ('nacht', 1), ('yawned', 1), ('seriuosly', 1), ('svengoolie', 1), ('admonition', 1), ('mastershot', 1), ('obverse', 1), ('dickish', 1), ('kirkpatrick', 1), ('paperclip', 1), ('gumball', 1), ('toxie', 1), ('theatregoers', 1), ('busch', 1), ('williamsburg', 1), ('rollercoaster', 1), ('careening', 1), ('unmanageable', 1), ('canova', 1), ('harborfest', 1), ('dysantry', 1), ('muder', 1), ('sportsmen', 1), ('guttenburg', 1), ('twigs', 1), ('flagitious', 1), ('doxy', 1), ('quirkily', 1), ('mandible', 1), ('misdrawing', 1), ('poulain', 1), ('guillaume', 1), ('canet', 1), ('pacte', 1), ('loups', 1), ('gans', 1), ('adulhood', 1), ('jeux', 1), ('enfants', 1), ('chaimsaw', 1), ('loust', 1), ('verb', 1), ('spontaniously', 1), ('combust', 1), ('taht', 1), ('toasted', 1), ('earpiece', 1), ('slivers', 1), ('orlander', 1), ('manoeuvred', 1), ('unmemorably', 1), ('mangeshkar', 1), ('meena', 1), ('kumari', 1), ('amrohi', 1), ('yaaaaaaaaaaaaaawwwwwwwwwwwwwwwwwnnnnnnnnnnnnn', 1), ('zzzzzzzzzzzzzzzzzzzzzzzzzzzzzzzzzzzzzzzzz', 1), ('mooment', 1), ('zzzzzzzzzzzzzzzzzzzzzzzzzzzzzzz', 1), ('breakingly', 1), ('zzzzzzzzzzzzzzzzzzzzzzzzzzzzzzzzzzzzzzzzzzzz', 1), ('henna', 1), ('rinse', 1), ('vorelli', 1), ('teleported', 1), ('nachoo', 1), ('oration', 1), ('luckly', 1), ('encyclopidie', 1), ('anothers', 1), ('storing', 1), ('reasembling', 1), ('responsibilty', 1), ('remaindered', 1), ('tpm', 1), ('bullhorns', 1), ('frets', 1), ('tattersall', 1), ('smalls', 1), ('browsed', 1), ('protelco', 1), ('mlc', 1), ('pock', 1), ('derrick', 1), ('marney', 1), ('meltingly', 1), ('bowties', 1), ('crudeness', 1), ('babysitters', 1), ('squillions', 1), ('clung', 1), ('spinner', 1), ('paps', 1), ('paparazzi', 1), ('impressionist', 1), ('jokesdespite', 1), ('sadomania', 1), ('antiguo', 1), ('nacion', 1), ('philospher', 1), ('alchemist', 1), ('jousting', 1), ('graciela', 1), ('nilson', 1), ('oppresses', 1), ('malebranche', 1), ('jorobado', 1), ('orgia', 1), ('espanto', 1), ('tumba', 1), ('latidos', 1), ('panico', 1), ('rojo', 1), ('sangre', 1), ('sheng', 1), ('iu', 1), ('privation', 1), ('hormonal', 1), ('sidestepped', 1), ('avigail', 1), ('rachels', 1), ('hatreds', 1), ('harangue', 1), ('akras', 1), ('levys', 1), ('muezzin', 1), ('transliteration', 1), ('sweated', 1), ('capraesque', 1), ('flashiness', 1), ('gridiron', 1), ('plimton', 1), ('sombrero', 1), ('gass', 1), ('regenerating', 1), ('mosfilm', 1), ('unfamiliarity', 1), ('masque', 1), ('unclassifiable', 1), ('annihilates', 1), ('bitingly', 1), ('syndicates', 1), ('uptightness', 1), ('bregman', 1), ('purport', 1), ('reliables', 1), ('migrant', 1), ('purveyors', 1), ('orbach', 1), ('rikki', 1), ('brooklyners', 1), ('streetlights', 1), ('ppppuuuulllleeeeeez', 1), ('erasure', 1), ('tapestry', 1), ('leight', 1), ('knopfler', 1), ('nakano', 1), ('stoumen', 1), ('babaloo', 1), ('gemmell', 1), ('hedges', 1), ('devincentis', 1), ('americanizing', 1), ('veering', 1), ('ione', 1), ('dobler', 1), ('fenway', 1), ('lousier', 1), ('qualitys', 1), ('autocockers', 1), ('balling', 1), ('woolworths', 1), ('baller', 1), ('scouser', 1), ('listenings', 1), ('enormeous', 1), ('lipnicki', 1), ('snowbell', 1), ('getty', 1), ('chaz', 1), ('upgraded', 1), ('alucard', 1), ('engulf', 1), ('stu', 1), ('nickelodean', 1), ('duhs', 1), ('beetleborgs', 1), ('cbn', 1), ('balikbayan', 1), ('megazord', 1), ('mech', 1), ('senshi', 1), ('tobikage', 1), ('overdramatizes', 1), ('zyuranger', 1), ('leotards', 1), ('commericial', 1), ('initialize', 1), ('ladybug', 1), ('zords', 1), ('pewter', 1), ('vane', 1), ('husbang', 1), ('fllm', 1), ('diviner', 1), ('foretells', 1), ('randomized', 1), ('inferenced', 1), ('decrementing', 1), ('carlise', 1), ('conundrum', 1), ('poeple', 1), ('heathens', 1), ('thumpers', 1), ('wildmon', 1), ('lackies', 1), ('wsj', 1), ('liquer', 1), ('chartreuse', 1), ('honks', 1), ('roh', 1), ('laroux', 1), ('micah', 1), ('rifleman', 1), ('reposition', 1), ('trivialities', 1), ('easygoing', 1), ('minuter', 1), ('lonestar', 1), ('hitchens', 1), ('adaptions', 1), ('monasteries', 1), ('waldron', 1), ('allegories', 1), ('confessional', 1), ('pointblank', 1), ('bookkeeper', 1), ('denero', 1), ('arrrrgh', 1), ('garantee', 1), ('nghya', 1), ('neorealist', 1), ('embarkation', 1), ('organzation', 1), ('bureacracy', 1), ('tribbiani', 1), ('confusathon', 1), ('bladders', 1), ('cryptozoology', 1), ('unscience', 1), ('chemystry', 1), ('extincted', 1), ('cryptologist', 1), ('migr', 1), ('kodi', 1), ('smit', 1), ('mcphee', 1), ('masochistically', 1), ('gaita', 1), ('funereal', 1), ('despairing', 1), ('tabletop', 1), ('mockmuntaries', 1), ('gencon', 1), ('weeped', 1), ('cleanly', 1), ('tourette', 1), ('dorkness', 1), ('singe', 1), ('screener', 1), ('scientology', 1), ('ampas', 1), ('rustic', 1), ('collusive', 1), ('foxs', 1), ('foxed', 1), ('aggravation', 1), ('boggins', 1), ('bunce', 1), ('matilda', 1), ('monotoned', 1), ('atypically', 1), ('relentlessness', 1), ('incurs', 1), ('damir', 1), ('dunderheaded', 1), ('wooster', 1), ('unflappable', 1), ('valets', 1), ('wodehousian', 1), ('wearisome', 1), ('typeface', 1), ('awakenings', 1), ('cro', 1), ('magnon', 1), ('amply', 1), ('shears', 1), ('gesticulations', 1), ('longhetti', 1), ('solders', 1), ('phaoroh', 1), ('toga', 1), ('classicists', 1), ('octavius', 1), ('dramatical', 1), ('pms', 1), ('thimothy', 1), ('moroccan', 1), ('straggle', 1), ('eck', 1), ('unsuprised', 1), ('woodley', 1), ('creely', 1), ('mapple', 1), ('pequod', 1), ('queequeg', 1), ('harpooner', 1), ('stubbs', 1), ('thorwald', 1), ('milburn', 1), ('intellectualized', 1), ('gabbing', 1), ('whippersnappers', 1), ('transitted', 1), ('shoals', 1), ('walon', 1), ('committees', 1), ('firebombs', 1), ('reshot', 1), ('cooder', 1), ('parasol', 1), ('blizzard', 1), ('frostbitten', 1), ('cobbs', 1), ('dinghy', 1), ('landfall', 1), ('categorizing', 1), ('installs', 1), ('tabs', 1), ('conley', 1), ('eitel', 1), ('kayla', 1), ('campfield', 1), ('raine', 1), ('bacterium', 1), ('waver', 1), ('gongs', 1), ('mot', 1), ('luftwaffe', 1), ('vigilantism', 1), ('nullifies', 1), ('sanctifying', 1), ('hosannas', 1), ('fatherhood', 1), ('westway', 1), ('loder', 1), ('diehards', 1), ('wackyland', 1), ('colorization', 1), ('overdramatized', 1), ('lansky', 1), ('weinberg', 1), ('annivesery', 1), ('schtupp', 1), ('buzzer', 1), ('fern', 1), ('malaga', 1), ('willingham', 1), ('taggart', 1), ('sputter', 1), ('ner', 1), ('sssss', 1), ('uncomfortableness', 1), ('prescribe', 1), ('unamused', 1), ('cleavon', 1), ('colorlessly', 1), ('woolrich', 1), ('twill', 1), ('cadaverous', 1), ('courteous', 1), ('kindler', 1), ('glared', 1), ('enunciate', 1), ('tackily', 1), ('polemicist', 1), ('eclipsing', 1), ('americain', 1), ('mepris', 1), ('declaims', 1), ('belie', 1), ('nono', 1), ('carico', 1), ('internationally', 1), ('intellects', 1), ('wanking', 1), ('seiing', 1), ('occident', 1), ('syntax', 1), ('misserably', 1), ('retiree', 1), ('gurkan', 1), ('ozkan', 1), ('kebab', 1), ('playboys', 1), ('brereton', 1), ('buggery', 1), ('salik', 1), ('unification', 1), ('doncaster', 1), ('alexio', 1), ('phht', 1), ('plusthe', 1), ('botching', 1), ('dickerson', 1), ('gads', 1), ('modernizing', 1), ('victimize', 1), ('thelis', 1), ('emailed', 1), ('barrages', 1), ('ravenously', 1), ('imprinted', 1), ('warzone', 1), ('thunderously', 1), ('kller', 1), ('hairpin', 1), ('msft', 1), ('servicable', 1), ('anny', 1), ('duperrey', 1), ('lifelessly', 1), ('omelet', 1), ('juvenilia', 1), ('manichean', 1), ('hysterion', 1), ('afest', 1), ('wetters', 1), ('yawneroony', 1), ('rotheroe', 1), ('smolder', 1), ('uta', 1), ('enunciated', 1), ('ungainfully', 1), ('quire', 1), ('tem', 1), ('purr', 1), ('ance', 1), ('herlie', 1), ('breakable', 1), ('termagant', 1), ('herods', 1), ('herod', 1), ('featherweight', 1), ('heathcliffe', 1), ('elysee', 1), ('triomphe', 1), ('odile', 1), ('vernois', 1), ('badminton', 1), ('shuttlecock', 1), ('brubaker', 1), ('ani', 1), ('difranco', 1), ('athmosphere', 1), ('unfocussed', 1), ('hirsh', 1), ('vandalism', 1), ('shamefacedly', 1), ('brattiest', 1), ('rudest', 1), ('unrurly', 1), ('slackly', 1), ('lowlight', 1), ('outsmarts', 1), ('degeneration', 1), ('crackles', 1), ('vivisects', 1), ('francie', 1), ('hodet', 1), ('vannet', 1), ('echance', 1), ('nix', 1), ('waddling', 1), ('wishmaster', 1), ('coldness', 1), ('wushu', 1), ('unmated', 1), ('rebanished', 1), ('dahlink', 1), ('spotlessly', 1), ('fastidiously', 1), ('superhu', 1), ('yez', 1), ('vegan', 1), ('accelerant', 1), ('marinaro', 1), ('lagomorph', 1), ('ziller', 1), ('deamon', 1), ('feasts', 1), ('yaks', 1), ('firearm', 1), ('hoodies', 1), ('insulation', 1), ('leopards', 1), ('mwuhahahaa', 1), ('submerging', 1), ('oldsters', 1), ('bellwood', 1), ('ungar', 1), ('pressurized', 1), ('whelk', 1)]\n"
     ]
    }
   ],
   "source": [
    "# Examine the counts of the most common words in negative reviews\n",
    "print(negative_counts.most_common())"
   ]
  },
  {
   "cell_type": "markdown",
   "metadata": {},
   "source": [
    "As you can see, common words like \"the\" appear very often in both positive and negative reviews. Instead of finding the most common words in positive or negative reviews, what you really want are the words found in positive reviews more often than in negative reviews, and vice versa. To accomplish this, you'll need to calculate the **ratios** of word usage between positive and negative reviews.\n",
    "\n",
    "**TODO:** Check all the words you've seen and calculate the ratio of postive to negative uses and store that ratio in `pos_neg_ratios`. \n",
    ">Hint: the positive-to-negative ratio for a given word can be calculated with `positive_counts[word] / float(negative_counts[word]+1)`. Notice the `+1` in the denominator – that ensures we don't divide by zero for words that are only seen in positive reviews."
   ]
  },
  {
   "cell_type": "code",
   "execution_count": 12,
   "metadata": {
    "collapsed": true
   },
   "outputs": [],
   "source": [
    "# Create Counter object to store positive/negative ratios\n",
    "pos_neg_ratios = Counter()\n",
    "\n",
    "# TODO: Calculate the ratios of positive and negative uses of the most common words\n",
    "#       Consider words to be \"common\" if they've been used at least 100 times\n",
    "pos_common_words_filter = {x: count for x, count in positive_counts.items() if count > 100}\n",
    "neg_common_words_filter = {x: count for x, count in negative_counts.items() if count > 100}\n",
    "\n",
    "pos_common_words = Counter(pos_common_words_filter)\n",
    "neg_common_words = Counter(neg_common_words_filter)\n",
    "\n",
    "for word in pos_common_words:\n",
    "    ratio = positive_counts[word]/float(negative_counts[word] + 1)\n",
    "    d = {word: ratio}\n",
    "    pos_neg_ratios.update(d)"
   ]
  },
  {
   "cell_type": "markdown",
   "metadata": {},
   "source": [
    "Examine the ratios you've calculated for a few words:"
   ]
  },
  {
   "cell_type": "code",
   "execution_count": 13,
   "metadata": {
    "collapsed": true
   },
   "outputs": [
    {
     "output_type": "stream",
     "name": "stdout",
     "text": [
      "Pos-to-neg ratio for 'the' = 1.0607993145235326\nPos-to-neg ratio for 'amazing' = 4.022813688212928\nPos-to-neg ratio for 'terrible' = 0.17744252873563218\n"
     ]
    }
   ],
   "source": [
    "print(\"Pos-to-neg ratio for 'the' = {}\".format(pos_neg_ratios[\"the\"]))\n",
    "print(\"Pos-to-neg ratio for 'amazing' = {}\".format(pos_neg_ratios[\"amazing\"]))\n",
    "print(\"Pos-to-neg ratio for 'terrible' = {}\".format(pos_neg_ratios[\"terrible\"]))"
   ]
  },
  {
   "cell_type": "markdown",
   "metadata": {},
   "source": [
    "Looking closely at the values you just calculated, we see the following:\n",
    "\n",
    "* Words that you would expect to see more often in positive reviews – like \"amazing\" – have a ratio greater than 1. The more skewed a word is toward postive, the farther from 1 its positive-to-negative ratio  will be.\n",
    "* Words that you would expect to see more often in negative reviews – like \"terrible\" – have positive values that are less than 1. The more skewed a word is toward negative, the closer to zero its positive-to-negative ratio will be.\n",
    "* Neutral words, which don't really convey any sentiment because you would expect to see them in all sorts of reviews – like \"the\" – have values very close to 1. A perfectly neutral word – one that was used in exactly the same number of positive reviews as negative reviews – would be almost exactly 1. The `+1` we suggested you add to the denominator slightly biases words toward negative, but it won't matter because it will be a tiny bias and later we'll be ignoring words that are too close to neutral anyway.\n",
    "\n",
    "Ok, the ratios tell us which words are used more often in postive or negative reviews, but the specific values we've calculated are a bit difficult to work with. A very positive word like \"amazing\" has a value above 4, whereas a very negative word like \"terrible\" has a value around 0.18. Those values aren't easy to compare for a couple of reasons:\n",
    "\n",
    "* Right now, 1 is considered neutral, but the absolute value of the postive-to-negative rations of very postive words is larger than the absolute value of the ratios for the very negative words. So there is no way to directly compare two numbers and see if one word conveys the same magnitude of positive sentiment as another word conveys negative sentiment. So we should center all the values around netural so the absolute value fro neutral of the postive-to-negative ratio for a word would indicate how much sentiment (positive or negative) that word conveys.\n",
    "* When comparing absolute values it's easier to do that around zero than one. \n",
    "\n",
    "To fix these issues, we'll convert all of our ratios to new values using logarithms.\n",
    "\n",
    "**TODO:** Go through all the ratios you calculated and convert them to logarithms. (i.e. use `np.log(ratio)`)\n",
    "\n",
    "In the end, extremely positive and extremely negative words will have positive-to-negative ratios with similar magnitudes but opposite signs."
   ]
  },
  {
   "cell_type": "code",
   "execution_count": 14,
   "metadata": {
    "collapsed": true
   },
   "outputs": [],
   "source": [
    "# TODO: Convert ratios to logs\n",
    "transformation = {word: np.log(ratio) for word, ratio in pos_neg_ratios.items()}\n",
    "pos_neg_ratios = Counter(transformation)"
   ]
  },
  {
   "cell_type": "markdown",
   "metadata": {},
   "source": [
    "Examine the new ratios you've calculated for the same words from before:"
   ]
  },
  {
   "cell_type": "code",
   "execution_count": 15,
   "metadata": {
    "collapsed": true
   },
   "outputs": [
    {
     "output_type": "stream",
     "name": "stdout",
     "text": [
      "Pos-to-neg ratio for 'the' = 0.05902269426102881\n",
      "Pos-to-neg ratio for 'amazing' = 1.3919815802404802\n",
      "Pos-to-neg ratio for 'terrible' = -1.7291085042663878\n"
     ]
    }
   ],
   "source": [
    "print(\"Pos-to-neg ratio for 'the' = {}\".format(pos_neg_ratios[\"the\"]))\n",
    "print(\"Pos-to-neg ratio for 'amazing' = {}\".format(pos_neg_ratios[\"amazing\"]))\n",
    "print(\"Pos-to-neg ratio for 'terrible' = {}\".format(pos_neg_ratios[\"terrible\"]))"
   ]
  },
  {
   "cell_type": "markdown",
   "metadata": {},
   "source": [
    "If everything worked, now you should see neutral words with values close to zero. In this case, \"the\" is near zero but slightly positive, so it was probably used in more positive reviews than negative reviews. But look at \"amazing\"'s ratio - it's above `1`, showing it is clearly a word with positive sentiment. And \"terrible\" has a similar score, but in the opposite direction, so it's below `-1`. It's now clear that both of these words are associated with specific, opposing sentiments.\n",
    "\n",
    "Now run the following cells to see more ratios. \n",
    "\n",
    "The first cell displays all the words, ordered by how associated they are with postive reviews. (Your notebook will most likely truncate the output so you won't actually see *all* the words in the list.)\n",
    "\n",
    "The second cell displays the 30 words most associated with negative reviews by reversing the order of the first list and then looking at the first 30 words. (If you want the second cell to display all the words, ordered by how associated they are with negative reviews, you could just write `reversed(pos_neg_ratios.most_common())`.)\n",
    "\n",
    "You should continue to see values similar to the earlier ones we checked – neutral words will be close to `0`, words will get more positive as their ratios approach and go above `1`, and words will get more negative as their ratios approach and go below `-1`. That's why we decided to use the logs instead of the raw ratios."
   ]
  },
  {
   "cell_type": "code",
   "execution_count": 16,
   "metadata": {
    "collapsed": true,
    "tags": [
     "outputPrepend"
    ]
   },
   "outputs": [
    {
     "output_type": "stream",
     "name": "stdout",
     "text": [
      "nce', -0.14486399425905422), ('worked', -0.14490712094369695), ('acts', -0.14710012183059154), ('male', -0.14719170950295485), ('kids', -0.14777374934006574), ('space', -0.14842000511827333), ('middle', -0.14865349541002942), ('p', -0.1491431580966359), ('allow', -0.1491431580966359), ('around', -0.1495317339709637), ('shooting', -0.150282203049338), ('afraid', -0.1514516228580933), ('entertained', -0.15154989812720093), ('built', -0.15154989812720093), ('hurt', -0.151726436215752), ('responsible', -0.151916042025842), ('instance', -0.15201620729862575), ('this', -0.15401221120850592), ('anyone', -0.15603170554059914), ('aside', -0.15610571466306167), ('drive', -0.15621893289131727), ('main', -0.1566107056681207), ('hospital', -0.1567447150043049), ('quality', -0.1570037488096648), ('laughed', -0.15750638767423059), ('reading', -0.15776079205135796), ('be', -0.15805505078700213), ('attractive', -0.1585232272398676), ('victim', -0.15860503017663852), ('teacher', -0.1590646946296874), ('usually', -0.15919482671393628), ('hot', -0.16045984902052307), ('vehicle', -0.16068238169047347), ('give', -0.16084334748558962), ('steal', -0.1616413515564159), ('direction', -0.16196932794505614), ('fire', -0.16200155430299706), ('army', -0.16299728396755178), ('know', -0.1631364585192076), ('fly', -0.16345307248957186), ('get', -0.16492707627252468), ('using', -0.16496159593147394), ('director', -0.16501580969636206), ('fast', -0.16518527455096735), ('considering', -0.16551443847757344), ('comment', -0.16551443847757344), ('appears', -0.16665544004955526), ('generally', -0.16669623889087373), ('ll', -0.16763403016454534), ('look', -0.16818704585904987), ('impossible', -0.1704519812385708), ('appear', -0.17110869219115568), ('shouldn', -0.17151064068973904), ('bet', -0.17185025692665928), ('site', -0.17185025692665928), ('made', -0.17233198896909094), ('cost', -0.17237122594078652), ('example', -0.17243767774663887), ('cult', -0.17399133066001177), ('interest', -0.17452286430813574), ('actors', -0.17480272437992725), ('finish', -0.17520408902509063), ('cartoon', -0.17627924233799205), ('far', -0.17641312010778837), ('standing', -0.17645643734155653), ('ten', -0.17657314388309067), ('had', -0.1767049324479102), ('ever', -0.17718769880010274), ('got', -0.17772384754532516), ('rated', -0.1779831551953564), ('laughing', -0.1781635466452909), ('evil', -0.17877455535537187), ('managed', -0.1788792126029819), ('correct', -0.17904823144898543), ('funny', -0.179501403662179), ('trailer', -0.18038169197612808), ('soldiers', -0.18058393689541388), ('went', -0.18081892690941961), ('basic', -0.18091409702607486), ('news', -0.18121719445090145), ('line', -0.18134068373836265), ('am', -0.18140753962514441), ('was', -0.18200211900174784), ('executed', -0.1823215567939546), ('jones', -0.1823215567939546), ('deliver', -0.1823215567939546), ('bits', -0.18356456503355162), ('comparison', -0.18378247743362947), ('felt', -0.184959764344051), ('have', -0.18500590916983273), ('st', -0.185224316451916), ('depressing', -0.18555257737540104), ('religious', -0.18703854667209344), ('cause', -0.18711116567651884), ('involves', -0.18721154208814647), ('speaking', -0.18774162426329385), ('picked', -0.18786173716957), ('girls', -0.18867654867633193), ('writer', -0.1896382746585744), ('add', -0.1904627143776545), ('run', -0.19074012725955047), ('clearly', -0.1916959886000951), ('expectations', -0.19319122903085847), ('etc', -0.1938333470544526), ('nightmare', -0.19497267434751345), ('offer', -0.19587452319865817), ('folks', -0.19602762269832177), ('prove', -0.1961148789262905), ('because', -0.1969641757897921), ('been', -0.19697455697589172), ('shot', -0.19752077652735106), ('happen', -0.19777130230314863), ('group', -0.19969480000068507), ('talent', -0.20196855417775114), ('left', -0.20200111474040053), ('fair', -0.20244295999337564), ('happened', -0.20310949228109373), ('ve', -0.20432873246352967), ('read', -0.20529819099419933), ('impression', -0.2076393647782445), ('reviewer', -0.20821790109753413), ('already', -0.2091527585998609), ('gang', -0.20929143850605825), ('religion', -0.20997308812446475), ('villain', -0.21042358931464947), ('say', -0.21164438285727175), ('actual', -0.2123816235997556), ('mom', -0.2133395512175889), ('kind', -0.21345042210855003), ('title', -0.2144360950070666), ('starts', -0.21540728137972007), ('product', -0.21542150522029946), ('machine', -0.21622310846963594), ('huge', -0.21648637028503043), ('like', -0.21795196154704205), ('possible', -0.21864916172637044), ('plan', -0.21887915252775217), ('happening', -0.21962860920676522), ('bright', -0.21985947611301976), ('ended', -0.21991253073276326), ('girlfriend', -0.22032267497256836), ('talk', -0.22154226994723586), ('twist', -0.22166097135398694), ('meant', -0.22168263067453492), ('students', -0.22190054307461274), ('pacing', -0.2231435513142097), ('ii', -0.2231435513142097), ('weird', -0.22382128770070733), ('called', -0.22408502321805163), ('quick', -0.22446717824471804), ('flashbacks', -0.22501096548900523), ('so', -0.2250207482944204), ('laughs', -0.2258795311330845), ('cannot', -0.2268328360890056), ('were', -0.2272338779820423), ('floor', -0.22793206804600688), ('answer', -0.22813109282524877), ('appeal', -0.22815609313775398), ('did', -0.22871937532476683), ('shock', -0.22897447162500303), ('list', -0.2292785398817257), ('student', -0.23001643060197186), ('surely', -0.2306826284873758), ('expected', -0.2308064240597789), ('store', -0.2318016140573243), ('christmas', -0.2318016140573243), ('finished', -0.23205891497216205), ('filmmaker', -0.2338963430904715), ('wait', -0.2344007058388443), ('bed', -0.23483959107740107), ('tell', -0.23493150706625196), ('gags', -0.23684239567237167), ('seems', -0.23757525239760208), ('calls', -0.23867449334508634), ('plots', -0.23889190828234896), ('carry', -0.23967285326542034), ('reviewers', -0.23995066963059103), ('bizarre', -0.2411620568168881), ('said', -0.24241829197193546), ('alex', -0.24256163717131135), ('chase', -0.24264134702747725), ('turned', -0.24309069772329361), ('parody', -0.24312605090154804), ('production', -0.2435190518342713), ('woods', -0.24561640716626829), ('merely', -0.24567266437423793), ('begin', -0.2457058886212965), ('getting', -0.24694760911456565), ('treated', -0.24763457132250555), ('sense', -0.24793180734590514), ('result', -0.24810028328807734), ('awkward', -0.2502945403801606), ('clothes', -0.25054252550232414), ('sound', -0.2511221760453816), ('hunter', -0.25131442828090605), ('start', -0.25176235661986246), ('sean', -0.2522801454008651), ('corny', -0.25621880299599586), ('military', -0.2562527099214887), ('absolute', -0.2563522223108632), ('bank', -0.25704510298989114), ('hate', -0.25743262479284185), ('speak', -0.25762972738537904), ('imagine', -0.2592441371312474), ('free', -0.25932320789171215), ('rescue', -0.26007680635989217), ('going', -0.2632698467972152), ('falls', -0.2644411084123301), ('would', -0.26478298941418316), ('started', -0.2671375432201488), ('if', -0.2674723616220001), ('sell', -0.2676814057451114), ('count', -0.2678794451556012), ('movie', -0.26918874807213855), ('rest', -0.26991961611194054), ('average', -0.27071196823331944), ('absolutely', -0.2708222337642361), ('hadn', -0.2711527705005704), ('beyond', -0.2715526905218973), ('they', -0.2738424295565759), ('jump', -0.27412910604707746), ('might', -0.27510329024492075), ('five', -0.2758254592952558), ('your', -0.2764079958785629), ('yourself', -0.2764956149110658), ('names', -0.2772730565370453), ('mike', -0.27738332025120643), ('boyfriend', -0.27745554066794964), ('only', -0.27780279221831605), ('stuck', -0.28103752973311236), ('keaton', -0.2819840513371431), ('insane', -0.282862786015832), ('stop', -0.28391963855895025), ('forward', -0.284104251103897), ('or', -0.2841515328880422), ('do', -0.28431431708448407), ('intended', -0.28468356945552437), ('sort', -0.28570226582609054), ('anyway', -0.2882038569666195), ('kid', -0.2901110267671842), ('there', -0.290780160313004), ('point', -0.2916625372694957), ('believe', -0.2925720577459727), ('angry', -0.29287688932888495), ('box', -0.29316153821640645), ('making', -0.2932004151902277), ('cops', -0.2934791901361068), ('watching', -0.2951566115900204), ('laugh', -0.2957415010177778), ('doesn', -0.2961730536085684), ('stuff', -0.2966240098274423), ('hill', -0.2972515234679316), ('kept', -0.2977870943099756), ('forced', -0.2982641817823179), ('theater', -0.2989497972981232), ('try', -0.29915447361401776), ('animal', -0.2995971070296521), ('female', -0.3000126849092596), ('name', -0.3000503639858037), ('whole', -0.30038727796458803), ('needed', -0.3004863446977687), ('material', -0.3014753945841168), ('simply', -0.30342575126526494), ('d', -0.30380992415861163), ('piece', -0.3040105157314985), ('ideas', -0.30434095843841963), ('running', -0.30650615769741646), ('looking', -0.3067302674224755), ('kinda', -0.3067302674224755), ('dies', -0.3073053436359203), ('unable', -0.3088842801023839), ('drunk', -0.30961714931803663), ('turning', -0.309698203016156), ('suit', -0.3101549283038396), ('eating', -0.3107197405187982), ('pretty', -0.3119179525613213), ('wrote', -0.3120735255759401), ('ship', -0.3128723212803394), ('actually', -0.313872404703972), ('million', -0.3141153295199364), ('doing', -0.3142822926535802), ('want', -0.31577292060806283), ('directing', -0.3157763533478182), ('myself', -0.3161972427598022), ('enough', -0.317140779602906), ('storyline', -0.31818552674519557), ('sounds', -0.3184537311185346), ('plane', -0.3184537311185346), ('hair', -0.31888044330764215), ('should', -0.32003834782305857), ('confused', -0.32016752759626926), ('something', -0.3209628225707479), ('exception', -0.32113973864262707), ('ill', -0.32138199089762304), ('decide', -0.32158362412746233), ('loud', -0.3223985094095509), ('reviews', -0.32265920442393176), ('normally', -0.324119468654212), ('slow', -0.325890127290676), ('fault', -0.32652190576804485), ('filming', -0.327776529653659), ('desert', -0.3296462715508131), ('re', -0.3301587481870979), ('isn', -0.33151158803599134), ('rating', -0.3316866578211998), ('straight', -0.3336983097384877), ('footage', -0.33436918642443414), ('head', -0.335138310234001), ('act', -0.3353769462597982), ('somehow', -0.335567668490786), ('biggest', -0.3364722366212129), ('body', -0.33894442576660205), ('hours', -0.34065488475454864), ('better', -0.34412274312543), ('intelligence', -0.3448404862917295), ('anti', -0.3450498446092533), ('cars', -0.3462762367178338), ('guys', -0.34699864960820037), ('describe', -0.34787723323520314), ('murdered', -0.3483066942682157), ('suddenly', -0.3485704421267934), ('then', -0.349322189409322), ('nor', -0.349962323785477), ('incredibly', -0.35011501302499953), ('driving', -0.35040533092513704), ('dead', -0.350729469529641), ('apparent', -0.3519764231571781), ('totally', -0.3522205935893521), ('die', -0.3533156492847536), ('theatre', -0.3536400402435783), ('humans', -0.3536400402435783), ('original', -0.3536553140650124), ('fell', -0.35527536358430917), ('make', -0.3576130445053275), ('ask', -0.3581719502063257), ('gun', -0.35839759725017856), ('nasty', -0.35950780702303653), ('thinks', -0.36000273403140703), ('kill', -0.36179004460550285), ('wanted', -0.36314048370337426), ('mention', -0.3635581074304714), ('non', -0.3639653772014116), ('context', -0.3641237679517231), ('shots', -0.36435744011074866), ('anywhere', -0.3646431135879093), ('van', -0.36696662997528), ('door', -0.36902771190573336), ('could', -0.37014574399646183), ('happens', -0.3701582942760194), ('off', -0.370625095579362), ('anybody', -0.3707486711503944), ('lines', -0.37232471560586006), ('let', -0.373513508301562), ('cop', -0.3746934494414107), ('concept', -0.37675500222573305), ('talking', -0.37677996010930576), ('manage', -0.3780661339200499), ('shame', -0.3794896217049037), ('lighting', -0.3802054413489266), ('bloody', -0.38077249551779285), ('decided', -0.38426290045756134), ('entire', -0.3849865767646237), ('single', -0.3855549481488347), ('cuts', -0.3903362265118642), ('edited', -0.39280671123624095), ('camera', -0.39422903484123845), ('t', -0.39481579638726483), ('just', -0.3953469779425798), ('attack', -0.39621434833601343), ('boat', -0.39890770756200533), ('writing', -0.3990834655186438), ('b', -0.39928589174220636), ('horror', -0.40059553326820796), ('car', -0.4020649008199949), ('else', -0.4042158887077325), ('maybe', -0.40510929952942387), ('word', -0.4063631773198489), ('stay', -0.4065227496662999), ('m', -0.4067988862318684), ('pay', -0.40819362276136834), ('killed', -0.4084636111044209), ('credits', -0.4091756875047), ('trying', -0.4098459070266734), ('heads', -0.41119578281714947), ('blonde', -0.41161897368254274), ('college', -0.41217654269615117), ('sick', -0.41572160827535354), ('nobody', -0.4165149442947494), ('attempts', -0.41689380393178715), ('video', -0.41702593050924036), ('teen', -0.4226013903511516), ('value', -0.42451330307885893), ('soap', -0.4259037757854385), ('spend', -0.4267948749144987), ('spoilers', -0.4285875255290185), ('scream', -0.43031110669469513), ('care', -0.4307829160924542), ('don', -0.43108563843351233), ('possibly', -0.4348963082823821), ('even', -0.43744880432563066), ('development', -0.43927847247394247), ('any', -0.4395220996233895), ('otherwise', -0.44156112386503715), ('cut', -0.44341879543467405), ('hopes', -0.44516497795484883), ('aren', -0.44698050378875726), ('pass', -0.44920965707102145), ('spoiler', -0.450279123897957), ('thinking', -0.45158892722440386), ('dialogue', -0.4521366274173111), ('purpose', -0.4530478230991792), ('effects', -0.4548484800660138), ('ass', -0.45547552868282576), ('rape', -0.4558189942537792), ('minute', -0.45849980476425095), ('guns', -0.4585749334221128), ('didn', -0.4594064085824543), ('hardly', -0.4641850463128795), ('exist', -0.46676563397196014), ('wearing', -0.4670230011075977), ('phone', -0.4679854650894983), ('filmmakers', -0.4705768594133382), ('project', -0.47198579044972677), ('island', -0.4742422065874818), ('wondering', -0.4754236967150748), ('call', -0.47633944769482134), ('explain', -0.4779201873235867), ('sitting', -0.4779201873235867), ('flicks', -0.4781817756896279), ('blood', -0.4790485038453035), ('kills', -0.47980762934235643), ('sign', -0.4818380868927383), ('sub', -0.48225225132193467), ('completely', -0.48326482418711936), ('complete', -0.4866785476227362), ('obvious', -0.48740068024995364), ('thrown', -0.4874782597689995), ('eat', -0.4877032063451364), ('tries', -0.4912130610510222), ('gay', -0.49247648509779407), ('disappointed', -0.4934338810541215), ('giant', -0.4940185054496094), ('sex', -0.495345927525747), ('damn', -0.5018969930216893), ('wow', -0.5046717581916124), ('acting', -0.509676009581241), ('hey', -0.5160069825079884), ('imdb', -0.5161549093140746), ('jokes', -0.5168349289298346), ('scary', -0.51892283399861), ('accent', -0.521814745341586), ('superman', -0.522926030700078), ('review', -0.523364973018726), ('obviously', -0.5236757317472887), ('potential', -0.5238977053333435), ('warning', -0.5245244681241525), ('killer', -0.5255047864290397), ('computer', -0.5255734804005463), ('wonder', -0.5257397598116003), ('wood', -0.5265430396614004), ('whatever', -0.5275959767006513), ('seemed', -0.5280674302004967), ('walking', -0.5302673053805761), ('tired', -0.531879032963823), ('killing', -0.5331428254812263), ('plot', -0.535598464203491), ('basically', -0.5397447237380392), ('saving', -0.539813160639243), ('sleep', -0.5403844260075351), ('victims', -0.5419896188008189), ('writers', -0.543086485984212), ('thing', -0.5452444904679763), ('sadly', -0.5452957341606741), ('looks', -0.5467815609211327), ('god', -0.5476123996954557), ('wrong', -0.5484328756956771), ('either', -0.5501589558731609), ('sit', -0.5507857084871506), ('anything', -0.556287997842748), ('positive', -0.5573456394008836), ('editing', -0.560628446249809), ('walk', -0.5611507076535064), ('someone', -0.565501620112684), ('somewhere', -0.5685553029742313), ('sequel', -0.5692220097408626), ('no', -0.5768933642075774), ('half', -0.5778510897317335), ('cheesy', -0.5794675564881543), ('naked', -0.5821088639854377), ('budget', -0.5855856989750998), ('idea', -0.5856564145530178), ('wasn', -0.5889995213273284), ('hell', -0.5950859673837305), ('mouth', -0.599953403661998), ('least', -0.6020025415067699), ('problem', -0.606490854168755), ('guy', -0.6068994538556127), ('dialog', -0.6104872748718178), ('freddy', -0.6114691495456782), ('flick', -0.6143292127823047), ('except', -0.6145727479273251), ('remake', -0.622051258876215), ('why', -0.6245392946407903), ('thats', -0.6265864140416062), ('creature', -0.6319927574066146), ('neither', -0.6378845018848958), ('please', -0.6434563338894683), ('mistake', -0.6443570163905132), ('watchable', -0.6448286032891376), ('cover', -0.6479417437918985), ('saying', -0.6491149104094419), ('utterly', -0.6505875661411494), ('wouldn', -0.6535940021739235), ('holes', -0.6564831961883538), ('makers', -0.6627497033755744), ('lack', -0.6635467107836547), ('reason', -0.6655193391754234), ('hour', -0.6667471558357254), ('low', -0.6682496289382183), ('spent', -0.6709240437752351), ('channel', -0.6796334613932224), ('looked', -0.6798235193614747), ('mean', -0.6807025755118615), ('suppose', -0.6893806977644684), ('tried', -0.6931471805599453), ('thin', -0.697305190708609), ('weren', -0.7023075499586096), ('rent', -0.703553101721062), ('stick', -0.7059678689890068), ('none', -0.7091942061574629), ('shoot', -0.7192924606642676), ('effort', -0.723567777260657), ('instead', -0.731043551298824), ('silly', -0.737296965172875), ('alien', -0.7375989431307791), ('throw', -0.7382676158404149), ('slasher', -0.7392382877602123), ('scientist', -0.742374121325096), ('guess', -0.7427250564676267), ('zero', -0.7442388417176565), ('write', -0.7518547813867232), ('k', -0.7594482603811853), ('premise', -0.7612586064190912), ('seriously', -0.7705170643849446), ('monster', -0.7743040944768852), ('confusing', -0.7758388964050588), ('okay', -0.7762620872704519), ('producers', -0.7766578134331151), ('script', -0.7770527612165121), ('grade', -0.7890884743012799), ('unfortunately', -0.7923275006495794), ('bottom', -0.7939518796819109), ('zombie', -0.7982902812805092), ('supposedly', -0.8060016700151797), ('total', -0.8092193518126993), ('money', -0.818432356585065), ('couldn', -0.8194038173353225), ('nothing', -0.8332435151803199), ('apparently', -0.835408343230033), ('barely', -0.8364763086440252), ('christian', -0.8371325886103529), ('weak', -0.8466738354059552), ('attempt', -0.8486574799032433), ('ok', -0.8646488232247508), ('decent', -0.8696036179015019), ('nudity', -0.8849474813084437), ('hoping', -0.8873031950009028), ('yeah', -0.9087435262387722), ('f', -0.9313035242633402), ('minutes', -0.9446631201765459), ('honestly', -0.9518706643067806), ('plain', -0.9647775440012183), ('flat', -0.9689667177019062), ('bunch', -0.9746442459459795), ('gore', -0.9746915748225191), ('save', -0.9920476789454789), ('vampire', -1.0059534581854048), ('sorry', -1.0107179094136018), ('brain', -1.0108848357438358), ('predictable', -1.0235962574281547), ('nowhere', -1.0277862360994972), ('painful', -1.0419933946686017), ('bored', -1.056369983469809), ('failed', -1.0658224658451187), ('oh', -1.0894379123920686), ('trash', -1.1118575154181303), ('cheap', -1.236281047558594), ('joke', -1.242506468328179), ('fake', -1.2595426554807467), ('poor', -1.270462545594769), ('supposed', -1.2800917401491423), ('zombies', -1.3107868086117456), ('fails', -1.349630376748299), ('unless', -1.351524161378173), ('bad', -1.3562189073456823), ('annoying', -1.3663932068025957), ('dumb', -1.4237207666390075), ('boring', -1.490978972730356), ('ridiculous', -1.5085119938441398), ('avoid', -1.5757955960158656), ('dull', -1.5846733548097038), ('stupid', -1.6552583827449077), ('terrible', -1.7291085042663878), ('worse', -1.7372712839439852), ('crap', -1.8281271133989299), ('horrible', -1.9102590939512902), ('awful', -2.227194247027435), ('worst', -2.286987896180378)]\n"
     ]
    }
   ],
   "source": [
    "# words most frequently seen in a review with a \"POSITIVE\" label\n",
    "print(pos_neg_ratios.most_common())"
   ]
  },
  {
   "cell_type": "code",
   "execution_count": 17,
   "metadata": {
    "collapsed": true
   },
   "outputs": [
    {
     "output_type": "execute_result",
     "data": {
      "text/plain": [
       "[('worst', -2.286987896180378),\n",
       " ('awful', -2.227194247027435),\n",
       " ('horrible', -1.9102590939512902),\n",
       " ('crap', -1.8281271133989299),\n",
       " ('worse', -1.7372712839439852),\n",
       " ('terrible', -1.7291085042663878),\n",
       " ('stupid', -1.6552583827449077),\n",
       " ('dull', -1.5846733548097038),\n",
       " ('avoid', -1.5757955960158656),\n",
       " ('ridiculous', -1.5085119938441398),\n",
       " ('boring', -1.490978972730356),\n",
       " ('dumb', -1.4237207666390075),\n",
       " ('annoying', -1.3663932068025957),\n",
       " ('bad', -1.3562189073456823),\n",
       " ('unless', -1.351524161378173),\n",
       " ('fails', -1.349630376748299),\n",
       " ('zombies', -1.3107868086117456),\n",
       " ('supposed', -1.2800917401491423),\n",
       " ('poor', -1.270462545594769),\n",
       " ('fake', -1.2595426554807467),\n",
       " ('joke', -1.242506468328179),\n",
       " ('cheap', -1.236281047558594),\n",
       " ('trash', -1.1118575154181303),\n",
       " ('oh', -1.0894379123920686),\n",
       " ('failed', -1.0658224658451187),\n",
       " ('bored', -1.056369983469809),\n",
       " ('painful', -1.0419933946686017),\n",
       " ('nowhere', -1.0277862360994972),\n",
       " ('predictable', -1.0235962574281547),\n",
       " ('brain', -1.0108848357438358)]"
      ]
     },
     "metadata": {},
     "execution_count": 17
    }
   ],
   "source": [
    "# words most frequently seen in a review with a \"NEGATIVE\" label\n",
    "list(reversed(pos_neg_ratios.most_common()))[0:30]\n",
    "\n",
    "# Note: Above is the code Andrew uses in his solution video, \n",
    "#       so we've included it here to avoid confusion.\n",
    "#       If you explore the documentation for the Counter class, \n",
    "#       you will see you could also find the 30 least common\n",
    "#       words like this: pos_neg_ratios.most_common()[:-31:-1]"
   ]
  },
  {
   "cell_type": "markdown",
   "metadata": {},
   "source": [
    "# End of Project 1. \n",
    "## Watch the next video to see Andrew's solution, then continue on to the next lesson.\n",
    "\n",
    "# Transforming Text into Numbers<a id='lesson_3'></a>\n",
    "The cells here include code Andrew shows in the next video. We've included it so you can run the code along with the video without having to type in everything."
   ]
  },
  {
   "cell_type": "code",
   "execution_count": 18,
   "metadata": {
    "collapsed": true
   },
   "outputs": [
    {
     "output_type": "execute_result",
     "data": {
      "image/png": "[encoded data removed]",
      "text/plain": [
       "<IPython.core.display.Image object>"
      ]
     },
     "metadata": {},
     "execution_count": 18
    }
   ],
   "source": [
    "from IPython.display import Image\n",
    "\n",
    "review = \"This was a horrible, terrible movie.\"\n",
    "\n",
    "Image(filename='sentiment_network.png')"
   ]
  },
  {
   "cell_type": "code",
   "execution_count": 19,
   "metadata": {
    "collapsed": true
   },
   "outputs": [
    {
     "output_type": "execute_result",
     "data": {
      "image/png": "[encoded data removed]",
      "text/plain": [
       "<IPython.core.display.Image object>"
      ]
     },
     "metadata": {},
     "execution_count": 19
    }
   ],
   "source": [
    "review = \"The movie was excellent\"\n",
    "\n",
    "Image(filename='sentiment_network_pos.png')"
   ]
  },
  {
   "cell_type": "markdown",
   "metadata": {},
   "source": [
    "# Project 2: Creating the Input/Output Data<a id='project_2'></a>\n",
    "\n",
    "**TODO:** Create a [set](https://docs.python.org/3/tutorial/datastructures.html#sets) named `vocab` that contains every word in the vocabulary."
   ]
  },
  {
   "cell_type": "code",
   "execution_count": 20,
   "metadata": {
    "collapsed": true
   },
   "outputs": [],
   "source": [
    "# TODO: Create set named \"vocab\" containing all of the words from all of the reviews\n",
    "# note: using a set ensures uniqueness, as duplicates are auto dropped\n",
    "vocab = set(total_counts.keys())"
   ]
  },
  {
   "cell_type": "code",
   "execution_count": 21,
   "metadata": {
    "tags": [
     "outputPrepend"
    ]
   },
   "outputs": [
    {
     "output_type": "stream",
     "name": "stdout",
     "text": [
      "trelkovsky', 'jessup', 'aggravatingly', 'degobah', 'waterslides', 'underlies', 'linclon', 'hitchhiker', 'quicker', 'musket', 'fastway', 'glenaan', 'eyes', 'retires', 'mapping', 'jenna', 'longoria', 'perk', 'vining', 'screened', 'ferrets', 'montel', 'unhellish', 'cities', 'afterlives', 'laupta', 'mammarian', 'tansy', 'unbelievably', 'skewed', 'hotshots', 'teabagging', 'dylan', 'dakar', 'saito', 'enjoyability', 'carthage', 'gamer', 'coward', 'partisans', 'vacate', 'testings', 'truthfully', 'generalization', 'sathya', 'quiver', 'dej', 'outsourcing', 'marthe', 'sources', 'accompanied', 'immersion', 'peruvians', 'intends', 'hinton', 'throwback', 'unnecessary', 'mattei', 'snozzcumbers', 'normals', 'berries', 'showcased', 'other', 'sparsest', 'sculpt', 'craig', 'frontyard', 'strategist', 'stockholm', 'sparce', 'manicheistic', 'vieila', 'oscers', 'tanak', 'scullery', 'losch', 'herein', 'suitably', 'occastional', 'dignified', 'saucy', 'wisecrackes', 'rudolph', 'eventuality', 'mamoru', 'voc', 'zim', 'alchemical', 'unearp', 'shambling', 'ceausescu', 'aweigh', 'imdbsix', 'sai', 'convictions', 'diney', 'spade', 'achilleas', 'hantz', 'corsair', 'photosynthesis', 'vilifies', 'sarajevo', 'picot', 'consequence', 'disapproving', 'alec', 'fluffier', 'justine', 'company', 'lussier', 'bragg', 'lcc', 'unwritten', 'soid', 'harm', 'morose', 'improv', 'borge', 'katey', 'drank', 'prosperity', 'mathematician', 'brommell', 'persian', 'rhames', 'jamboree', 'farcical', 'elementary', 'anbody', 'mormon', 'scorch', 'chillout', 'kazuo', 'hamiltons', 'untied', 'launcher', 'nelli', 'voiced', 'critically', 'unconnected', 'blacktop', 'cogently', 'biel', 'alden', 'wesendock', 'absorption', 'befores', 'killin', 'endnote', 'project', 'strangelove', 'lawman', 'parlors', 'gingold', 'furthest', 'queuing', 'savory', 'criminal', 'gainey', 'nwa', 'thuy', 'supermarkets', 'counsels', 'indianvalues', 'fetchingly', 'tetsuro', 'wimsey', 'dtr', 'zebras', 'nokitofa', 'diced', 'chaplinesque', 'nips', 'syncopated', 'madperson', 'unwholesome', 'storyboard', 'cantinflas', 'tightest', 'valeria', 'glamorized', 'ranjeet', 'moneys', 'eeriest', 'nightfire', 'kehna', 'subspecies', 'suggestion', 'bemoaned', 'stogumber', 'unconcious', 'edging', 'breats', 'odysseus', 'breathing', 'hellbent', 'cornerstones', 'gershwyn', 'outage', 'expansiveness', 'gwyenths', 'erfoud', 'spaghetti', 'superstrong', 'soo', 'dass', 'macchio', 'jointly', 'macready', 'ventilating', 'hindering', 'harbou', 'changeling', 'tahou', 'maddin', 'hellman', 'breaks', 'bopper', 'aaa', 'abdomen', 'lago', 'washingtonians', 'converse', 'graphics', 'batboy', 'corrals', 'knb', 'ziegfield', 'precludes', 'agonizes', 'tricia', 'suceeds', 'nash', 'vodka', 'lyf', 'phonebooth', 'annapolis', 'highlander', 'accessability', 'top', 'preach', 'feitshans', 'vieux', 'marvik', 'outs', 'fetches', 'aborting', 'ahhhhh', 'spicing', 'cryptic', 'makepease', 'safaris', 'willis', 'fetch', 'popularizer', 'bruce', 'seedpeople', 'changdong', 'strikebreakers', 'corrupt', 'malloy', 'lied', 'afghani', 'fruitful', 'ally', 'plunked', 'dassin', 'jurking', 'paycheque', 'percepts', 'clunker', 'annihilator', 'mugs', 'assure', 'votes', 'satanism', 'mustaches', 'missionary', 'chimay', 'collagen', 'circle', 'disconnect', 'mothballs', 'somesuch', 'monarchs', 'g', 'dummy', 'formations', 'thirbly', 'buyers', 'humorof', 'muscled', 'anomalous', 'username', 'shanti', 'parallelisms', 'literalism', 'uneducated', 'psychodramas', 'dwarfed', 'cursorily', 'fictionalizes', 'haasan', 'domains', 'blithesome', 'inhalator', 'anchorwoman', 'theatrics', 'rectitude', 'iba', 'barbarash', 'admire', 'godson', 'obssession', 'rapidly', 'skippy', 'strenghtens', 'betacam', 'figments', 'esculator', 'schine', 'hearsay', 'artel', 'caprioli', 'bennah', 'synonamess', 'collaborate', 'numbed', 'firecracker', 'stefanson', 'croat', 'laurel', 'bloodsucking', 'lazarous', 'corn', 'unscrupulously', 'cultivated', 'capitulates', 'ellipses', 'joystick', 'sandbagger', 'belters', 'chuckawalla', 'exploitists', 'snarls', 'archdiocese', 'mcneil', 'heslov', 'hesh', 'extort', 'fallibility', 'breakup', 'presentations', 'jerry', 'pinup', 'mist', 'gyrate', 'trickiness', 'rebelious', 'motivations', 'earth', 'padget', 'iedereen', 'moonlanding', 'fraudulence', 'litghow', 'aftermath', 'reinking', 'cycle', 'sacrifice', 'mens', 'ofter', 'tumhe', 'gourmets', 'goitre', 'recesses', 'slouch', 'farcically', 'warrant', 'shogunate', 'cratchit', 'deja', 'impressionists', 'mastrontonio', 'workouts', 'wierdo', 'pos', 'grafted', 'counterattack', 'breeder', 'magnificient', 'impure', 'sematically', 'offered', 'aauugghh', 'chandulal', 'pemberton', 'robertson', 'desmond', 'streneously', 'barrett', 'backfired', 'tubercular', 'neck', 'piebeta', 'resigning', 'freeloaders', 'calloused', 'bondian', 'blind', 'afirming', 'andretti', 'chantings', 'attendance', 'appallingness', 'wrath', 'whovier', 'magnify', 'siana', 'poppins', 'elstree', 'sabotaged', 'interwiew', 'shushui', 'macliammir', 'burnett', 'grandmaster', 'frankness', 'horsepower', 'fickle', 'frenzy', 'gears', 'actreesess', 'gb', 'exits', 'ringleader', 'kindly', 'hustons', 'squeeze', 'lovecraftian', 'aerobic', 'cte', 'aicha', 'itv', 'individualist', 'broad', 'mississip', 'greece', 'sector', 'lima', 'royally', 'outlived', 'jojo', 'crackpot', 'ruban', 'initial', 'shouts', 'handle', 'magnoli', 'problems', 'detached', 'polysyllabic', 'hector', 'spindly', 'whitt', 'unavoidable', 'aquarian', 'petronius', 'blotto', 'agnosticism', 'tugger', 'clubbed', 'gaghan', 'sinking', 'naaaa', 'paro', 'inspiration', 'sickest', 'dishonesty', 'adrenaline', 'shachnovelle', 'treacly', 'baked', 'filmfare', 'hypnosis', 'legions', 'spewings', 'delegation', 'aliases', 'sardonicus', 'buckner', 'flatlined', 'interlaces', 'rooker', 'nanny', 'solti', 'chow', 'unreliable', 'hll', 'miscommunication', 'rosenfield', 'juncos', 'rothrock', 'latin', 'astros', 'leaven', 'prolly', 'krutcher', 'balsa', 'eattheblinds', 'checker', 'splashing', 'dumbo', 'devastiingly', 'entirity', 'estimable', 'sathoor', 'pumpy', 'lugosiyet', 'mobsters', 'prepping', 'okanagan', 'harnessing', 'benfer', 'inhales', 'lions', 'marathan', 'bombed', 'coachload', 'doorman', 'diplomacy', 'questions', 'hobbyhorse', 'wardrobe', 'rudenessjack', 'paraphrasing', 'soilders', 'ieuan', 'xbox', 'adultry', 'illigal', 'cartmans', 'wiseman', 'lancr', 'trustworthy', 'favoritism', 'glimpsing', 'envirofascist', 'overrides', 'cosima', 'tunic', 'antiquity', 'pennies', 'warrants', 'plex', 'enlish', 'slicked', 'superficiality', 'angel', 'spaceflight', 'gillman', 'impatience', 'bureaucratic', 'lama', 'copywrite', 'ivin', 'enslin', 'camus', 'benard', 'petersson', 'ulees', 'raved', 'grafitti', 'eneide', 'transvestite', 'plods', 'wal', 'impeded', 'pickford', 'dribble', 'grievous', 'autant', 'buds', 'thorstenson', 'insurance', 'speculations', 'skeletons', 'erickson', 'weinbauer', 'released', 'phildelphia', 'overrun', 'allright', 'atkinmson', 'rambos', 'labouf', 'forslani', 'aylmer', 'waterfalls', 'jik', 'manuscripts', 'shitters', 'scrolls', 'pileggi', 'holler', 'slithis', 'ditch', 'orgazim', 'nono', 'sadist', 'unrepentant', 'latrine', 'herbut', 'reintroduces', 'bigwigs', 'ziabar', 'scoped', 'curdled', 'ninga', 'mundainly', 'piquor', 'enumerating', 'negativity', 'quincy', 'iek', 'aclu', 'hyser', 'steampile', 'fransico', 'anja', 'superstition', 'tate', 'buying', 'fine', 'benzedrine', 'related', 'drowsily', 'fondas', 'goldstien', 'eq', 'oversaw', 'penitentiary', 'emeritus', 'unsettling', 'overbearingly', 'aimlessly', 'peng', 'zombiesnatch', 'olmes', 'scarface', 'limiting', 'nuyen', 'topness', 'thorsen', 'radziwill', 'mercilessness', 'blandman', 'armored', 'scholastic', 'alexei', 'condemned', 'rags', 'hackers', 'shani', 'adenoidal', 'zeder', 'prolix', 'snapshot', 'smog', 'adibah', 'pottery', 'drowned', 'mopester', 'classroom', 'chee', 'tirith', 'cashback', 'undulating', 'unrealness', 'mouth', 'sisto', 'shaaadaaaap', 'nardini', 'cooper', 'haggis', 'forsyth', 'dror', 'luckier', 'professionell', 'kajol', 'ragging', 'chickens', 'moslems', 'hue', 'trailer', 'haply', 'joshua', 'beckons', 'pout', 'pickens', 'headmaster', 'humanization', 'carlton', 'jd', 'belated', 'relationships', 'cappomaggi', 'tiffany', 'cultic', 'composer', 'conny', 'transfers', 'yeager', 'fearfully', 'defininitive', 'sternberg', 'tamo', 'imaginings', 'predictable', 'platinum', 'laser', 'slvia', 'pledge', 'law', 'tenancier', 'franzisca', 'suppression', 'anger', 'mencia', 'jospeh', 'squidoids', 'unparalleled', 'birmingham', 'witchcraft', 'ulaganaayakan', 'homme', 'attributing', 'darkman', 'wasson', 'galvatron', 'schreiber', 'weered', 'spate', 'costar', 'jemima', 'heartbreaking', 'bachelorette', 'hopefulness', 'samara', 'idealists', 'mesmerization', 'sharing', 'schoolers', 'birdy', 'meets', 'irretrievable', 'fearlessness', 'zaps', 'naustradamous', 'scholar', 'riksihi', 'lampooning', 'redraws', 'choreographs', 'bredell', 'greedo', 'bien', 'aeneid', 'hong', 'farrel', 'animie', 'ion', 'reeve', 'hussey', 'needy', 'tatooine', 'like', 'commodified', 'occasion', 'computerized', 'caprice', 'bonzos', 'aramaic', 'draco', 'patb', 'disgusts', 'iijima', 'dunaway', 'virtue', 'filmographers', 'ritz', 'surronding', 'indolently', 'personalty', 'buccella', 'analise', 'sandhya', 'schamus', 'licking', 'reacting', 'resemblances', 'blocker', 'crowe', 'confrontations', 'smoky', 'genndy', 'costumesand', 'deritive', 'preachiest', 'harped', 'cleary', 'baught', 'antic', 'cintematography', 'mahoganoy', 'witter', 'ere', 'communion', 'portugueses', 'trumped', 'rosalie', 'shelf', 'spanishness', 'chuckled', 'fawlty', 'kirby', 'randell', 'stringing', 'jaglom', 'hietala', 'iffr', 'acceded', 'absolutely', 'same', 'maladjusted', 'yell', 'clogged', 'diane', 'eurasians', 'down', 'geeze', 'discernment', 'lynley', 'quiroz', 'discriminated', 'commiserations', 'bamatabois', 'model', 'emirate', 'totin', 'spheerhead', 'completly', 'pretzels', 'words', 'godspell', 'brobdingnagian', 'angelfire', 'eifel', 'be', 'nudie', 'amsterdam', 'giannini', 'multimillionaire', 'coexistence', 'weatherman', 'decimated', 'maintained', 'petition', 'assets', 'southhampton', 'mantis', 'patriarch', 'franz', 'starfleet', 'denizens', 'stiers', 'sulia', 'lending', 'intestines', 'parishioners', 'patient', 'nuno', 'pintilie', 'situational', 'worldviews', 'millisecond', 'mcdowall', 'unessential', 'realated', 'clothesline', 'mcgowan', 'whiz', 'devilishly', 'sloppy', 'baap', 'comparable', 'luckless', 'sawant', 'pahalniuk', 'reni', 'duomo', 'crothers', 'names', 'dispenser', 'critisism', 'anim', 'framework', 'forwarding', 'ahhhh', 'vietnam', 'dodds', 'nerves', 'orsen', 'caselli', 'hamburgers', 'nugget', 'equippe', 'discover', 'steirs', 'opine', 'postmodernism', 'ivanova', 'strata', 'culture', 'wormtong', 'therapist', 'musicly', 'sued', 'ikuru', 'both', 'cinemablend', 'imbibe', 'pharmacist', 'dadaist', 'terrorism', 'mcclug', 'netted', 'k', 'bsm', 'cavil', 'disturbing', 'huggers', 'videostore', 'fatted', 'housewives', 'rigid', 'cruz', 'emraan', 'salgado', 'afloat', 'genvieve', 'overexposure', 'tomaselli', 'nebraskan', 'bolivarian', 'refrains', 'whoville', 'braley', 'homolka', 'cadena', 'describe', 'misconstrues', 'misnomered', 'accentuates', 'headset', 'arrangements', 'krusty', 'persevering', 'blackenstein', 'hsien', 'kavalier', 'eskimos', 'schelsinger', 'indiscriminately', 'pflug', 'strate', 'announce', 'satisfying', 'moorehead', 'penitents', 'johars', 'vohrer', 'drumbeat', 'courses', 'newness', 'soetman', 'national', 'congenial', 'arther', 'policemen', 'fundraiser', 'dwarfing', 'zeroness', 'contradictive', 'poorest', 'downsizing', 'metamorphosis', 'liebman', 'diarrhoea', 'nikolaus', 'sixes', 'snubbed', 'birney', 'cheater', 'murpy', 'consumingly', 'contempary', 'blanketed', 'ddlj', 'concha', 'terrorizes', 'bmob', 'overriding', 'shoulda', 'cisco', 'devolve', 'invective', 'probie', 'aapkey', 'masaru', 'anaesthesia', 'striptease', 'cinematographic', 'hermit', 'lidth', 'recertified', 'hideaki', 'contractor', 'pabst', 'darrell', 'steets', 'soundbites', 'hunchul', 'sergio', 'mackendrick', 'piere', 'chuke', 'beset', 'banjo', 'multiplying', 'assembles', 'osullivan', 'houswife', 'peeved', 'romcomic', 'ferox', 'acadmey', 'rize', 'undescribably', 'keung', 'guilherme', 'flicked', 'inches', 'blooded', 'instructions', 'ermey', 'obviousness', 'rectifying', 'nacional', 'watchably', 'enjoythe', 'poupon', 'babs', 'rancour', 'hmmm', 'tambor', 'amused', 'luncheon', 'winds', 'impalement', 'immutable', 'koenig', 'elvidge', 'jellybeans', 'katelin', 'viewed', 'picutres', 'bloodlust', 'wolsky', 'presence', 'bearbado', 'grumping', 'bunuels', 'delicatessen', 'reaffirm', 'choreographing', 'breached', 'exhumed', 'inclusive', 'regales', 'midnite', 'alters', 'boomerangs', 'outshine', 'wans', 'personalize', 'olosio', 'tiffs', 'sanditon', 'zdenek', 'asif', 'memoriam', 'zaire', 'apalled', 'hypnotist', 'huckleberry', 'homepages', 'mom', 'cheswick', 'deepening', 'finalize', 'mahattan', 'nonpareil', 'calvins', 'dawsons', 'hump', 'ailment', 'autographed', 'foxbarkingyahoo', 'subsuming', 'hellooooo', 'womenfolk', 'israelo', 'nietszchean', 'sympathy', 'beanpoles', 'lache', 'gab', 'utilitarian', 'samways', 'leiutenant', 'biscuit', 'intoxicating', 'pert', 'unloaded', 'excessively', 'insulate', 'zappruder', 'whelmed', 'bibiddi', 'jonathon', 'avowed', 'yvone', 'plague', 'shearmur', 'daugher', 'wwii', 'documented', 'mockingly', 'nyatta', 'execrated', 'roue', 'amazes', 'unreality', 'tiw', 'batch', 'int', 'ullal', 'beckoning', 'romi', 'clapton', 'iconic', 'liszt', 'nailed', 'slot', 'consensual', 'lazed', 'patoot', 'inappropriate', 'jewel', 'semester', 'theorists', 'karla', 'leonida', 'strange', 'toonami', 'succinctly', 'radioraptus', 'sexpot', 'curdling', 'updike', 'luque', 'seldomly', 'disaster', 'townsend', 'gardens', 'dfroqu', 'keitels', 'redoing', 'balcans', 'fardeen', 'lenser', 'harnois', 'guggenheim', 'serrat', 'musketeer', 'shafts', 'spinetingling', 'covenant', 'jenni', 'hottub', 'matchbox', 'hurtle', 'kitsch', 'specter', 'prinz', 'steege', 'spiers', 'discounting', 'desperations', 'shapely', 'portayal', 'oklahoma', 'vibrator', 'tumble', 'redoubled', 'illustrious', 'virginya', 'press', 'ziva', 'drifters', 'kronos', 'quinnell', 'naivete', 'dubiously', 'supposively', 'mephestophelion', 'coulter', 'rejoicing', 'recaptured', 'bourne', 'regularity', 'casomai', 'quits', 'scattergun', 'jlu', 'flavors', 'exploding', 'discursive', 'woom', 'cookers', 'goga', 'washout', 'utterances', 'everard', 'afghan', 'foxs', 'playsjack', 'blonde', 'brits', 'beefheart', 'boniface', 'paddy', 'belched', 'sellers', 'overarching', 'touchingly', 'rushton', 'intending', 'megazone', 'comparative', 'musings', 'grossing', 'rashomon', 'billy', 'dexterity', 'joked', 'anthropomorphized', 'shaping', 'koltai', 'coalville', 'mexicans', 'ymca', 'christen', 'beefed', 'rocking', 'whistler', 'uninviting', 'kristen', 'junglebunny', 'cassettes', 'typographic', 'competition', 'liquid', 'oprah', 'seema', 'londonesque', 'deverell', 'bhature', 'esthetics', 'bludgeon', 'rdm', 'continually', 'scarlett', 'sumner', 'melvis', 'stomping', 'nance', 'settingscostumes', 'womens', 'stunned', 'mog', 'sanctifying', 'sanitary', 'herbs', 'touchdown', 'olsen', 'invites', 'vagabond', 'thereof', 'rareness', 'sierck', 'limerick', 'manticores', 'lawyers', 'exuding', 'kove', 'backgroundother', 'recklessly', 'administering', 'dummee', 'juke', 'excusing', 'locations', 'petrifying', 'plympton', 'surpassed', 'validation', 'technicality', 'seppuku', 'destructible', 'imdbs', 'lifewell', 'rajasthan', 'kapow', 'solders', 'livelihood', 'buffalo', 'forrester', 'evinces', 'coleslaw', 'demer', 'supremacy', 'uncapturable', 'chaingun', 'jacqualine', 'grinded', 'googling', 'zeze', 'backstage', 'keels', 'caf', 'sickos', 'ruthless', 'combs', 'sumptous', 'martyn', 'sanada', 'pochath', 'gottlieb', 'hester', 'houghton', 'chrecter', 'axes', 'overuse', 'spectacle', 'golgo', 'clothes', 'pathetic', 'idyllic', 'sucky', 'exaggerating', 'petersburg', 'ninotchka', 'tremaine', 'mamardashvili', 'glamour', 'strolls', 'utopian', 'burdened', 'britfilm', 'kumar', 'exurbia', 'littlesearch', 'whoopi', 'cohens', 'shipwrecked', 'microbiology', 'hackery', 'accessed', 'laptop', 'mundanely', 'cohesively', 'marked', 'usb', 'feudal', 'backstabbed', 'nurturing', 'jaq', 'briain', 'candidates', 'piss', 'samira', 'ooverall', 'floozie', 'wesker', 'emerging', 'sivaji', 'broaden', 'quatermass', 'fuurin', 'hirjee', 'straws', 'fundraising', 'dermatonecrotic', 'stis', 'subscribes', 'engineer', 'citywide', 'pussycats', 'mikels', 'subliminal', 'fcking', 'dattilo', 'deathscythe', 'rediscovers', 'seldomely', 'ravage', 'relish', 'tangible', 'licence', 'onhand', 'garwin', 'forgo', 'sigh', 'keys', 'standardized', 'nenette', 'arron', 'genera', 'kareeena', 'tarnishes', 'flirtation', 'emefy', 'shudn', 'boarded', 'weill', 'shutting', 'manufacturers', 'frain', 'kowalkski', 'moskve', 'insolence', 'maintaining', 'huit', 'zardoz', 'rookie', 'stupendous', 'artur', 'incorporating', 'hardened', 'enrage', 'si', 'ducts', 'innovates', 'pol', 'falkland', 'swordfish', 'asanine', 'canoodle', 'aured', 'harrers', 'tonga', 'positively', 'contactees', 'heirs', 'youngberries', 'gandhi', 'ravenously', 'basie', 'exported', 'haine', 'uncooked', 'unselfishly', 'jeon', 'terminals', 'crythin', 'edgiest', 'navajo', 'holdouts', 'surveillance', 'malaga', 'principles', 'gyllenhaal', 'truman', 'plagiary', 'perfetic', 'rousers', 'makin', 'vacillations', 'sauntered', 'theatrically', 'asuka', 'tenner', 'utah', 'glitters', 'beings', 'lamb', 'funiest', 'helin', 'simpsonian', 'harkens', 'sanata', 'zschering', 'gruesome', 'invaded', 'raye', 'charasmatic', 'haaaaaaaa', 'sweetin', 'faze', 'empahh', 'confetti', 'adjournment', 'bonacorsi', 'weaving', 'rankings', 'bowzer', 'tammy', 'blackberry', 'reboot', 'sepia', 'bixby', 'gunshot', 'mclaglen', 'unawares', 'belittling', 'zatoichi', 'ceramics', 'synapse', 'shakspeare', 'schertler', 'medem', 'disputes', 'entirelly', 'lording', 'ziering', 'entelechy', 'fairplay', 'grosser', 'sunrising', 'tragic', 'spotlighting', 'mallik', 'raked', 'bullet', 'jam', 'erwin', 'makeups', 'mcdonnell', 'premiers', 'gracing', 'flaunting', 'shafeek', 'chippendale', 'dissection', 'repeats', 'crew', 'gruesomeness', 'flapping', 'fully', 'implicitly', 'brownshirt', 'humanness', 'adrienne', 'nurplex', 'replicate', 'ailes', 'buoyed', 'pushovers', 'salmonova', 'anatomical', 'disoriented', 'lao', 'thunderous', 'forestry', 'ily', 'dinners', 'fogies', 'submits', 'contracts', 'columbus', 'proscenium', 'oddness', 'curriculum', 'ede', 'lizzy', 'security', 'telfair', 'darndest', 'hindustaan', 'enlarge', 'passive', 'ragdolls', 'egomaniacs', 'sciamma', 'brogado', 'pita', 'railbird', 'picchu', 'affordable', 'tread', 'cullinan', 'joycelyn', 'patching', 'safeguarding', 'nlson', 'arbitrarily', 'mazursky', 'maid', 'choker', 'mowgli', 'worthwhile', 'waged', 'gona', 'paneling', 'morphs', 'timber', 'bespeak', 'octress', 'everyone', 'kool', 'caiaphas', 'appendages', 'encased', 'lakes', 'unconfident', 'securing', 'chilly', 'degradable', 'medicos', 'interrelationships', 'untraced', 'julius', 'uttara', 'rung', 'aztec', 'poets', 'swagger', 'isnt', 'preciously', 'overdose', 'piracy', 'camouflages', 'slayn', 'gallop', 'slideshow', 'skinhead', 'pube', 'psst', 'alexio', 'goods', 'uganda', 'laath', 'manually', 'jbl', 'stile', 'karvan', 'prophets', 'bonjour', 'petroleum', 'sniper', 'scourge', 'plascencia', 'kazaki', 'polytheists', 'ambassadors', 'shall', 'shuffling', 'comported', 'newbie', 'aurelius', 'gaupeau', 'godby', 'masak', 'cheadle', 'eggerth', 'rackham', 'bujeau', 'topping', 'imparts', 'frenegonde', 'halton', 'cumming', 'eschatalogy', 'barjatya', 'chinnarasu', 'radiations', 'enthusiastic', 'sozzled', 'treehouse', 'glaswegian', 'shep', 'skedaddled', 'memorial', 'freeeeee', 'stateliness', 'hoyos', 'sat', 'obrow', 'summarizes', 'anamorphic', 'twoface', 'rippling', 'kiesser', 'tonino', 'cohabiting', 'ity', 'spots', 'expenses', 'dashiell', 'riger', 'clambers', 'autie', 'dogs', 'elmann', 'remaster', 'magnates'}\n"
     ]
    }
   ],
   "source": [
    "print(vocab)"
   ]
  },
  {
   "cell_type": "markdown",
   "metadata": {},
   "source": [
    "Run the following cell to check your vocabulary size. If everything worked correctly, it should print **74074**"
   ]
  },
  {
   "cell_type": "code",
   "execution_count": 22,
   "metadata": {
    "collapsed": true
   },
   "outputs": [
    {
     "output_type": "stream",
     "name": "stdout",
     "text": [
      "74074\n"
     ]
    }
   ],
   "source": [
    "vocab_size = len(vocab)\n",
    "print(vocab_size)"
   ]
  },
  {
   "cell_type": "markdown",
   "metadata": {},
   "source": [
    "Take a look at the following image. It represents the layers of the neural network you'll be building throughout this notebook. `layer_0` is the input layer, `layer_1` is a hidden layer, and `layer_2` is the output layer."
   ]
  },
  {
   "cell_type": "code",
   "execution_count": 23,
   "metadata": {},
   "outputs": [
    {
     "output_type": "execute_result",
     "data": {
      "image/png": "[encoded data removed]",
      "text/plain": [
       "<IPython.core.display.Image object>"
      ]
     },
     "metadata": {},
     "execution_count": 23
    }
   ],
   "source": [
    "from IPython.display import Image\n",
    "Image(filename='sentiment_network_2.png')"
   ]
  },
  {
   "cell_type": "markdown",
   "metadata": {},
   "source": [
    "**TODO:** Create a numpy array called `layer_0` and initialize it to all zeros. You will find the [zeros](https://docs.scipy.org/doc/numpy/reference/generated/numpy.zeros.html) function particularly helpful here. Be sure you create `layer_0` as a 2-dimensional matrix with 1 row and `vocab_size` columns. "
   ]
  },
  {
   "cell_type": "code",
   "execution_count": 24,
   "metadata": {
    "collapsed": true
   },
   "outputs": [],
   "source": [
    "# TODO: Create layer_0 matrix with dimensions 1 by vocab_size, initially filled with zeros\n",
    "# note: creating a vector once and then updating in place is more memory efficient then creating a new one each time\n",
    "layer_0 = np.zeros((1, vocab_size))"
   ]
  },
  {
   "cell_type": "markdown",
   "metadata": {},
   "source": [
    "Run the following cell. It should display `(1, 74074)`"
   ]
  },
  {
   "cell_type": "code",
   "execution_count": 25,
   "metadata": {
    "collapsed": true
   },
   "outputs": [
    {
     "output_type": "execute_result",
     "data": {
      "text/plain": [
       "(1, 74074)"
      ]
     },
     "metadata": {},
     "execution_count": 25
    }
   ],
   "source": [
    "layer_0.shape"
   ]
  },
  {
   "cell_type": "code",
   "execution_count": 26,
   "metadata": {
    "collapsed": true
   },
   "outputs": [
    {
     "output_type": "execute_result",
     "data": {
      "image/png": "[encoded data removed]",
      "text/plain": [
       "<IPython.core.display.Image object>"
      ]
     },
     "metadata": {},
     "execution_count": 26
    }
   ],
   "source": [
    "from IPython.display import Image\n",
    "Image(filename='sentiment_network.png')"
   ]
  },
  {
   "cell_type": "markdown",
   "metadata": {},
   "source": [
    "`layer_0` contains one entry for every word in the vocabulary, as shown in the above image. We need to make sure we know the index of each word, so run the following cell to create a lookup table that stores the index of every word."
   ]
  },
  {
   "cell_type": "code",
   "execution_count": 27,
   "metadata": {
    "collapsed": true,
    "tags": [
     "outputPrepend"
    ]
   },
   "outputs": [
    {
     "output_type": "stream",
     "name": "stdout",
     "text": [
      "miting': 72996, 'nuyen': 72997, 'topness': 72998, 'thorsen': 72999, 'radziwill': 73000, 'mercilessness': 73001, 'blandman': 73002, 'armored': 73003, 'scholastic': 73004, 'alexei': 73005, 'condemned': 73006, 'rags': 73007, 'hackers': 73008, 'shani': 73009, 'adenoidal': 73010, 'zeder': 73011, 'prolix': 73012, 'snapshot': 73013, 'smog': 73014, 'adibah': 73015, 'pottery': 73016, 'drowned': 73017, 'mopester': 73018, 'classroom': 73019, 'chee': 73020, 'tirith': 73021, 'cashback': 73022, 'undulating': 73023, 'unrealness': 73024, 'mouth': 73025, 'sisto': 73026, 'shaaadaaaap': 73027, 'nardini': 73028, 'cooper': 73029, 'haggis': 73030, 'forsyth': 73031, 'dror': 73032, 'luckier': 73033, 'professionell': 73034, 'kajol': 73035, 'ragging': 73036, 'chickens': 73037, 'moslems': 73038, 'hue': 73039, 'trailer': 73040, 'haply': 73041, 'joshua': 73042, 'beckons': 73043, 'pout': 73044, 'pickens': 73045, 'headmaster': 73046, 'humanization': 73047, 'carlton': 73048, 'jd': 73049, 'belated': 73050, 'relationships': 73051, 'cappomaggi': 73052, 'tiffany': 73053, 'cultic': 73054, 'composer': 73055, 'conny': 73056, 'transfers': 73057, 'yeager': 73058, 'fearfully': 73059, 'defininitive': 73060, 'sternberg': 73061, 'tamo': 73062, 'imaginings': 73063, 'predictable': 73064, 'platinum': 73065, 'laser': 73066, 'slvia': 73067, 'pledge': 73068, 'law': 73069, 'tenancier': 73070, 'franzisca': 73071, 'suppression': 73072, 'anger': 73073, 'mencia': 73074, 'jospeh': 73075, 'squidoids': 73076, 'unparalleled': 73077, 'birmingham': 73078, 'witchcraft': 73079, 'ulaganaayakan': 73080, 'homme': 73081, 'attributing': 73082, 'darkman': 73083, 'wasson': 73084, 'galvatron': 73085, 'schreiber': 73086, 'weered': 73087, 'spate': 73088, 'costar': 73089, 'jemima': 73090, 'heartbreaking': 73091, 'bachelorette': 73092, 'hopefulness': 73093, 'samara': 73094, 'idealists': 73095, 'mesmerization': 73096, 'sharing': 73097, 'schoolers': 73098, 'birdy': 73099, 'meets': 73100, 'irretrievable': 73101, 'fearlessness': 73102, 'zaps': 73103, 'naustradamous': 73104, 'scholar': 73105, 'riksihi': 73106, 'lampooning': 73107, 'redraws': 73108, 'choreographs': 73109, 'bredell': 73110, 'greedo': 73111, 'bien': 73112, 'aeneid': 73113, 'hong': 73114, 'farrel': 73115, 'animie': 73116, 'ion': 73117, 'reeve': 73118, 'hussey': 73119, 'needy': 73120, 'tatooine': 73121, 'like': 73122, 'commodified': 73123, 'occasion': 73124, 'computerized': 73125, 'caprice': 73126, 'bonzos': 73127, 'aramaic': 73128, 'draco': 73129, 'patb': 73130, 'disgusts': 73131, 'iijima': 73132, 'dunaway': 73133, 'virtue': 73134, 'filmographers': 73135, 'ritz': 73136, 'surronding': 73137, 'indolently': 73138, 'personalty': 73139, 'buccella': 73140, 'analise': 73141, 'sandhya': 73142, 'schamus': 73143, 'licking': 73144, 'reacting': 73145, 'resemblances': 73146, 'blocker': 73147, 'crowe': 73148, 'confrontations': 73149, 'smoky': 73150, 'genndy': 73151, 'costumesand': 73152, 'deritive': 73153, 'preachiest': 73154, 'harped': 73155, 'cleary': 73156, 'baught': 73157, 'antic': 73158, 'cintematography': 73159, 'mahoganoy': 73160, 'witter': 73161, 'ere': 73162, 'communion': 73163, 'portugueses': 73164, 'trumped': 73165, 'rosalie': 73166, 'shelf': 73167, 'spanishness': 73168, 'chuckled': 73169, 'fawlty': 73170, 'kirby': 73171, 'randell': 73172, 'stringing': 73173, 'jaglom': 73174, 'hietala': 73175, 'iffr': 73176, 'acceded': 73177, 'absolutely': 73178, 'same': 73179, 'maladjusted': 73180, 'yell': 73181, 'clogged': 73182, 'diane': 73183, 'eurasians': 73184, 'down': 73185, 'geeze': 73186, 'discernment': 73187, 'lynley': 73188, 'quiroz': 73189, 'discriminated': 73190, 'commiserations': 73191, 'bamatabois': 73192, 'model': 73193, 'emirate': 73194, 'totin': 73195, 'spheerhead': 73196, 'completly': 73197, 'pretzels': 73198, 'words': 73199, 'godspell': 73200, 'brobdingnagian': 73201, 'angelfire': 73202, 'eifel': 73203, 'be': 73204, 'nudie': 73205, 'amsterdam': 73206, 'giannini': 73207, 'multimillionaire': 73208, 'coexistence': 73209, 'weatherman': 73210, 'decimated': 73211, 'maintained': 73212, 'petition': 73213, 'assets': 73214, 'southhampton': 73215, 'mantis': 73216, 'patriarch': 73217, 'franz': 73218, 'starfleet': 73219, 'denizens': 73220, 'stiers': 73221, 'sulia': 73222, 'lending': 73223, 'intestines': 73224, 'parishioners': 73225, 'patient': 73226, 'nuno': 73227, 'pintilie': 73228, 'situational': 73229, 'worldviews': 73230, 'millisecond': 73231, 'mcdowall': 73232, 'unessential': 73233, 'realated': 73234, 'clothesline': 73235, 'mcgowan': 73236, 'whiz': 73237, 'devilishly': 73238, 'sloppy': 73239, 'baap': 73240, 'comparable': 73241, 'luckless': 73242, 'sawant': 73243, 'pahalniuk': 73244, 'reni': 73245, 'duomo': 73246, 'crothers': 73247, 'names': 73248, 'dispenser': 73249, 'critisism': 73250, 'anim': 73251, 'framework': 73252, 'forwarding': 73253, 'ahhhh': 73254, 'vietnam': 73255, 'dodds': 73256, 'nerves': 73257, 'orsen': 73258, 'caselli': 73259, 'hamburgers': 73260, 'nugget': 73261, 'equippe': 73262, 'discover': 73263, 'steirs': 73264, 'opine': 73265, 'postmodernism': 73266, 'ivanova': 73267, 'strata': 73268, 'culture': 73269, 'wormtong': 73270, 'therapist': 73271, 'musicly': 73272, 'sued': 73273, 'ikuru': 73274, 'both': 73275, 'cinemablend': 73276, 'imbibe': 73277, 'pharmacist': 73278, 'dadaist': 73279, 'terrorism': 73280, 'mcclug': 73281, 'netted': 73282, 'k': 73283, 'bsm': 73284, 'cavil': 73285, 'disturbing': 73286, 'huggers': 73287, 'videostore': 73288, 'fatted': 73289, 'housewives': 73290, 'rigid': 73291, 'cruz': 73292, 'emraan': 73293, 'salgado': 73294, 'afloat': 73295, 'genvieve': 73296, 'overexposure': 73297, 'tomaselli': 73298, 'nebraskan': 73299, 'bolivarian': 73300, 'refrains': 73301, 'whoville': 73302, 'braley': 73303, 'homolka': 73304, 'cadena': 73305, 'describe': 73306, 'misconstrues': 73307, 'misnomered': 73308, 'accentuates': 73309, 'headset': 73310, 'arrangements': 73311, 'krusty': 73312, 'persevering': 73313, 'blackenstein': 73314, 'hsien': 73315, 'kavalier': 73316, 'eskimos': 73317, 'schelsinger': 73318, 'indiscriminately': 73319, 'pflug': 73320, 'strate': 73321, 'announce': 73322, 'satisfying': 73323, 'moorehead': 73324, 'penitents': 73325, 'johars': 73326, 'vohrer': 73327, 'drumbeat': 73328, 'courses': 73329, 'newness': 73330, 'soetman': 73331, 'national': 73332, 'congenial': 73333, 'arther': 73334, 'policemen': 73335, 'fundraiser': 73336, 'dwarfing': 73337, 'zeroness': 73338, 'contradictive': 73339, 'poorest': 73340, 'downsizing': 73341, 'metamorphosis': 73342, 'liebman': 73343, 'diarrhoea': 73344, 'nikolaus': 73345, 'sixes': 73346, 'snubbed': 73347, 'birney': 73348, 'cheater': 73349, 'murpy': 73350, 'consumingly': 73351, 'contempary': 73352, 'blanketed': 73353, 'ddlj': 73354, 'concha': 73355, 'terrorizes': 73356, 'bmob': 73357, 'overriding': 73358, 'shoulda': 73359, 'cisco': 73360, 'devolve': 73361, 'invective': 73362, 'probie': 73363, 'aapkey': 73364, 'masaru': 73365, 'anaesthesia': 73366, 'striptease': 73367, 'cinematographic': 73368, 'hermit': 73369, 'lidth': 73370, 'recertified': 73371, 'hideaki': 73372, 'contractor': 73373, 'pabst': 73374, 'darrell': 73375, 'steets': 73376, 'soundbites': 73377, 'hunchul': 73378, 'sergio': 73379, 'mackendrick': 73380, 'piere': 73381, 'chuke': 73382, 'beset': 73383, 'banjo': 73384, 'multiplying': 73385, 'assembles': 73386, 'osullivan': 73387, 'houswife': 73388, 'peeved': 73389, 'romcomic': 73390, 'ferox': 73391, 'acadmey': 73392, 'rize': 73393, 'undescribably': 73394, 'keung': 73395, 'guilherme': 73396, 'flicked': 73397, 'inches': 73398, 'blooded': 73399, 'instructions': 73400, 'ermey': 73401, 'obviousness': 73402, 'rectifying': 73403, 'nacional': 73404, 'watchably': 73405, 'enjoythe': 73406, 'poupon': 73407, 'babs': 73408, 'rancour': 73409, 'hmmm': 73410, 'tambor': 73411, 'amused': 73412, 'luncheon': 73413, 'winds': 73414, 'impalement': 73415, 'immutable': 73416, 'koenig': 73417, 'elvidge': 73418, 'jellybeans': 73419, 'katelin': 73420, 'viewed': 73421, 'picutres': 73422, 'bloodlust': 73423, 'wolsky': 73424, 'presence': 73425, 'bearbado': 73426, 'grumping': 73427, 'bunuels': 73428, 'delicatessen': 73429, 'reaffirm': 73430, 'choreographing': 73431, 'breached': 73432, 'exhumed': 73433, 'inclusive': 73434, 'regales': 73435, 'midnite': 73436, 'alters': 73437, 'boomerangs': 73438, 'outshine': 73439, 'wans': 73440, 'personalize': 73441, 'olosio': 73442, 'tiffs': 73443, 'sanditon': 73444, 'zdenek': 73445, 'asif': 73446, 'memoriam': 73447, 'zaire': 73448, 'apalled': 73449, 'hypnotist': 73450, 'huckleberry': 73451, 'homepages': 73452, 'mom': 73453, 'cheswick': 73454, 'deepening': 73455, 'finalize': 73456, 'mahattan': 73457, 'nonpareil': 73458, 'calvins': 73459, 'dawsons': 73460, 'hump': 73461, 'ailment': 73462, 'autographed': 73463, 'foxbarkingyahoo': 73464, 'subsuming': 73465, 'hellooooo': 73466, 'womenfolk': 73467, 'israelo': 73468, 'nietszchean': 73469, 'sympathy': 73470, 'beanpoles': 73471, 'lache': 73472, 'gab': 73473, 'utilitarian': 73474, 'samways': 73475, 'leiutenant': 73476, 'biscuit': 73477, 'intoxicating': 73478, 'pert': 73479, 'unloaded': 73480, 'excessively': 73481, 'insulate': 73482, 'zappruder': 73483, 'whelmed': 73484, 'bibiddi': 73485, 'jonathon': 73486, 'avowed': 73487, 'yvone': 73488, 'plague': 73489, 'shearmur': 73490, 'daugher': 73491, 'wwii': 73492, 'documented': 73493, 'mockingly': 73494, 'nyatta': 73495, 'execrated': 73496, 'roue': 73497, 'amazes': 73498, 'unreality': 73499, 'tiw': 73500, 'batch': 73501, 'int': 73502, 'ullal': 73503, 'beckoning': 73504, 'romi': 73505, 'clapton': 73506, 'iconic': 73507, 'liszt': 73508, 'nailed': 73509, 'slot': 73510, 'consensual': 73511, 'lazed': 73512, 'patoot': 73513, 'inappropriate': 73514, 'jewel': 73515, 'semester': 73516, 'theorists': 73517, 'karla': 73518, 'leonida': 73519, 'strange': 73520, 'toonami': 73521, 'succinctly': 73522, 'radioraptus': 73523, 'sexpot': 73524, 'curdling': 73525, 'updike': 73526, 'luque': 73527, 'seldomly': 73528, 'disaster': 73529, 'townsend': 73530, 'gardens': 73531, 'dfroqu': 73532, 'keitels': 73533, 'redoing': 73534, 'balcans': 73535, 'fardeen': 73536, 'lenser': 73537, 'harnois': 73538, 'guggenheim': 73539, 'serrat': 73540, 'musketeer': 73541, 'shafts': 73542, 'spinetingling': 73543, 'covenant': 73544, 'jenni': 73545, 'hottub': 73546, 'matchbox': 73547, 'hurtle': 73548, 'kitsch': 73549, 'specter': 73550, 'prinz': 73551, 'steege': 73552, 'spiers': 73553, 'discounting': 73554, 'desperations': 73555, 'shapely': 73556, 'portayal': 73557, 'oklahoma': 73558, 'vibrator': 73559, 'tumble': 73560, 'redoubled': 73561, 'illustrious': 73562, 'virginya': 73563, 'press': 73564, 'ziva': 73565, 'drifters': 73566, 'kronos': 73567, 'quinnell': 73568, 'naivete': 73569, 'dubiously': 73570, 'supposively': 73571, 'mephestophelion': 73572, 'coulter': 73573, 'rejoicing': 73574, 'recaptured': 73575, 'bourne': 73576, 'regularity': 73577, 'casomai': 73578, 'quits': 73579, 'scattergun': 73580, 'jlu': 73581, 'flavors': 73582, 'exploding': 73583, 'discursive': 73584, 'woom': 73585, 'cookers': 73586, 'goga': 73587, 'washout': 73588, 'utterances': 73589, 'everard': 73590, 'afghan': 73591, 'foxs': 73592, 'playsjack': 73593, 'blonde': 73594, 'brits': 73595, 'beefheart': 73596, 'boniface': 73597, 'paddy': 73598, 'belched': 73599, 'sellers': 73600, 'overarching': 73601, 'touchingly': 73602, 'rushton': 73603, 'intending': 73604, 'megazone': 73605, 'comparative': 73606, 'musings': 73607, 'grossing': 73608, 'rashomon': 73609, 'billy': 73610, 'dexterity': 73611, 'joked': 73612, 'anthropomorphized': 73613, 'shaping': 73614, 'koltai': 73615, 'coalville': 73616, 'mexicans': 73617, 'ymca': 73618, 'christen': 73619, 'beefed': 73620, 'rocking': 73621, 'whistler': 73622, 'uninviting': 73623, 'kristen': 73624, 'junglebunny': 73625, 'cassettes': 73626, 'typographic': 73627, 'competition': 73628, 'liquid': 73629, 'oprah': 73630, 'seema': 73631, 'londonesque': 73632, 'deverell': 73633, 'bhature': 73634, 'esthetics': 73635, 'bludgeon': 73636, 'rdm': 73637, 'continually': 73638, 'scarlett': 73639, 'sumner': 73640, 'melvis': 73641, 'stomping': 73642, 'nance': 73643, 'settingscostumes': 73644, 'womens': 73645, 'stunned': 73646, 'mog': 73647, 'sanctifying': 73648, 'sanitary': 73649, 'herbs': 73650, 'touchdown': 73651, 'olsen': 73652, 'invites': 73653, 'vagabond': 73654, 'thereof': 73655, 'rareness': 73656, 'sierck': 73657, 'limerick': 73658, 'manticores': 73659, 'lawyers': 73660, 'exuding': 73661, 'kove': 73662, 'backgroundother': 73663, 'recklessly': 73664, 'administering': 73665, 'dummee': 73666, 'juke': 73667, 'excusing': 73668, 'locations': 73669, 'petrifying': 73670, 'plympton': 73671, 'surpassed': 73672, 'validation': 73673, 'technicality': 73674, 'seppuku': 73675, 'destructible': 73676, 'imdbs': 73677, 'lifewell': 73678, 'rajasthan': 73679, 'kapow': 73680, 'solders': 73681, 'livelihood': 73682, 'buffalo': 73683, 'forrester': 73684, 'evinces': 73685, 'coleslaw': 73686, 'demer': 73687, 'supremacy': 73688, 'uncapturable': 73689, 'chaingun': 73690, 'jacqualine': 73691, 'grinded': 73692, 'googling': 73693, 'zeze': 73694, 'backstage': 73695, 'keels': 73696, 'caf': 73697, 'sickos': 73698, 'ruthless': 73699, 'combs': 73700, 'sumptous': 73701, 'martyn': 73702, 'sanada': 73703, 'pochath': 73704, 'gottlieb': 73705, 'hester': 73706, 'houghton': 73707, 'chrecter': 73708, 'axes': 73709, 'overuse': 73710, 'spectacle': 73711, 'golgo': 73712, 'clothes': 73713, 'pathetic': 73714, 'idyllic': 73715, 'sucky': 73716, 'exaggerating': 73717, 'petersburg': 73718, 'ninotchka': 73719, 'tremaine': 73720, 'mamardashvili': 73721, 'glamour': 73722, 'strolls': 73723, 'utopian': 73724, 'burdened': 73725, 'britfilm': 73726, 'kumar': 73727, 'exurbia': 73728, 'littlesearch': 73729, 'whoopi': 73730, 'cohens': 73731, 'shipwrecked': 73732, 'microbiology': 73733, 'hackery': 73734, 'accessed': 73735, 'laptop': 73736, 'mundanely': 73737, 'cohesively': 73738, 'marked': 73739, 'usb': 73740, 'feudal': 73741, 'backstabbed': 73742, 'nurturing': 73743, 'jaq': 73744, 'briain': 73745, 'candidates': 73746, 'piss': 73747, 'samira': 73748, 'ooverall': 73749, 'floozie': 73750, 'wesker': 73751, 'emerging': 73752, 'sivaji': 73753, 'broaden': 73754, 'quatermass': 73755, 'fuurin': 73756, 'hirjee': 73757, 'straws': 73758, 'fundraising': 73759, 'dermatonecrotic': 73760, 'stis': 73761, 'subscribes': 73762, 'engineer': 73763, 'citywide': 73764, 'pussycats': 73765, 'mikels': 73766, 'subliminal': 73767, 'fcking': 73768, 'dattilo': 73769, 'deathscythe': 73770, 'rediscovers': 73771, 'seldomely': 73772, 'ravage': 73773, 'relish': 73774, 'tangible': 73775, 'licence': 73776, 'onhand': 73777, 'garwin': 73778, 'forgo': 73779, 'sigh': 73780, 'keys': 73781, 'standardized': 73782, 'nenette': 73783, 'arron': 73784, 'genera': 73785, 'kareeena': 73786, 'tarnishes': 73787, 'flirtation': 73788, 'emefy': 73789, 'shudn': 73790, 'boarded': 73791, 'weill': 73792, 'shutting': 73793, 'manufacturers': 73794, 'frain': 73795, 'kowalkski': 73796, 'moskve': 73797, 'insolence': 73798, 'maintaining': 73799, 'huit': 73800, 'zardoz': 73801, 'rookie': 73802, 'stupendous': 73803, 'artur': 73804, 'incorporating': 73805, 'hardened': 73806, 'enrage': 73807, 'si': 73808, 'ducts': 73809, 'innovates': 73810, 'pol': 73811, 'falkland': 73812, 'swordfish': 73813, 'asanine': 73814, 'canoodle': 73815, 'aured': 73816, 'harrers': 73817, 'tonga': 73818, 'positively': 73819, 'contactees': 73820, 'heirs': 73821, 'youngberries': 73822, 'gandhi': 73823, 'ravenously': 73824, 'basie': 73825, 'exported': 73826, 'haine': 73827, 'uncooked': 73828, 'unselfishly': 73829, 'jeon': 73830, 'terminals': 73831, 'crythin': 73832, 'edgiest': 73833, 'navajo': 73834, 'holdouts': 73835, 'surveillance': 73836, 'malaga': 73837, 'principles': 73838, 'gyllenhaal': 73839, 'truman': 73840, 'plagiary': 73841, 'perfetic': 73842, 'rousers': 73843, 'makin': 73844, 'vacillations': 73845, 'sauntered': 73846, 'theatrically': 73847, 'asuka': 73848, 'tenner': 73849, 'utah': 73850, 'glitters': 73851, 'beings': 73852, 'lamb': 73853, 'funiest': 73854, 'helin': 73855, 'simpsonian': 73856, 'harkens': 73857, 'sanata': 73858, 'zschering': 73859, 'gruesome': 73860, 'invaded': 73861, 'raye': 73862, 'charasmatic': 73863, 'haaaaaaaa': 73864, 'sweetin': 73865, 'faze': 73866, 'empahh': 73867, 'confetti': 73868, 'adjournment': 73869, 'bonacorsi': 73870, 'weaving': 73871, 'rankings': 73872, 'bowzer': 73873, 'tammy': 73874, 'blackberry': 73875, 'reboot': 73876, 'sepia': 73877, 'bixby': 73878, 'gunshot': 73879, 'mclaglen': 73880, 'unawares': 73881, 'belittling': 73882, 'zatoichi': 73883, 'ceramics': 73884, 'synapse': 73885, 'shakspeare': 73886, 'schertler': 73887, 'medem': 73888, 'disputes': 73889, 'entirelly': 73890, 'lording': 73891, 'ziering': 73892, 'entelechy': 73893, 'fairplay': 73894, 'grosser': 73895, 'sunrising': 73896, 'tragic': 73897, 'spotlighting': 73898, 'mallik': 73899, 'raked': 73900, 'bullet': 73901, 'jam': 73902, 'erwin': 73903, 'makeups': 73904, 'mcdonnell': 73905, 'premiers': 73906, 'gracing': 73907, 'flaunting': 73908, 'shafeek': 73909, 'chippendale': 73910, 'dissection': 73911, 'repeats': 73912, 'crew': 73913, 'gruesomeness': 73914, 'flapping': 73915, 'fully': 73916, 'implicitly': 73917, 'brownshirt': 73918, 'humanness': 73919, 'adrienne': 73920, 'nurplex': 73921, 'replicate': 73922, 'ailes': 73923, 'buoyed': 73924, 'pushovers': 73925, 'salmonova': 73926, 'anatomical': 73927, 'disoriented': 73928, 'lao': 73929, 'thunderous': 73930, 'forestry': 73931, 'ily': 73932, 'dinners': 73933, 'fogies': 73934, 'submits': 73935, 'contracts': 73936, 'columbus': 73937, 'proscenium': 73938, 'oddness': 73939, 'curriculum': 73940, 'ede': 73941, 'lizzy': 73942, 'security': 73943, 'telfair': 73944, 'darndest': 73945, 'hindustaan': 73946, 'enlarge': 73947, 'passive': 73948, 'ragdolls': 73949, 'egomaniacs': 73950, 'sciamma': 73951, 'brogado': 73952, 'pita': 73953, 'railbird': 73954, 'picchu': 73955, 'affordable': 73956, 'tread': 73957, 'cullinan': 73958, 'joycelyn': 73959, 'patching': 73960, 'safeguarding': 73961, 'nlson': 73962, 'arbitrarily': 73963, 'mazursky': 73964, 'maid': 73965, 'choker': 73966, 'mowgli': 73967, 'worthwhile': 73968, 'waged': 73969, 'gona': 73970, 'paneling': 73971, 'morphs': 73972, 'timber': 73973, 'bespeak': 73974, 'octress': 73975, 'everyone': 73976, 'kool': 73977, 'caiaphas': 73978, 'appendages': 73979, 'encased': 73980, 'lakes': 73981, 'unconfident': 73982, 'securing': 73983, 'chilly': 73984, 'degradable': 73985, 'medicos': 73986, 'interrelationships': 73987, 'untraced': 73988, 'julius': 73989, 'uttara': 73990, 'rung': 73991, 'aztec': 73992, 'poets': 73993, 'swagger': 73994, 'isnt': 73995, 'preciously': 73996, 'overdose': 73997, 'piracy': 73998, 'camouflages': 73999, 'slayn': 74000, 'gallop': 74001, 'slideshow': 74002, 'skinhead': 74003, 'pube': 74004, 'psst': 74005, 'alexio': 74006, 'goods': 74007, 'uganda': 74008, 'laath': 74009, 'manually': 74010, 'jbl': 74011, 'stile': 74012, 'karvan': 74013, 'prophets': 74014, 'bonjour': 74015, 'petroleum': 74016, 'sniper': 74017, 'scourge': 74018, 'plascencia': 74019, 'kazaki': 74020, 'polytheists': 74021, 'ambassadors': 74022, 'shall': 74023, 'shuffling': 74024, 'comported': 74025, 'newbie': 74026, 'aurelius': 74027, 'gaupeau': 74028, 'godby': 74029, 'masak': 74030, 'cheadle': 74031, 'eggerth': 74032, 'rackham': 74033, 'bujeau': 74034, 'topping': 74035, 'imparts': 74036, 'frenegonde': 74037, 'halton': 74038, 'cumming': 74039, 'eschatalogy': 74040, 'barjatya': 74041, 'chinnarasu': 74042, 'radiations': 74043, 'enthusiastic': 74044, 'sozzled': 74045, 'treehouse': 74046, 'glaswegian': 74047, 'shep': 74048, 'skedaddled': 74049, 'memorial': 74050, 'freeeeee': 74051, 'stateliness': 74052, 'hoyos': 74053, 'sat': 74054, 'obrow': 74055, 'summarizes': 74056, 'anamorphic': 74057, 'twoface': 74058, 'rippling': 74059, 'kiesser': 74060, 'tonino': 74061, 'cohabiting': 74062, 'ity': 74063, 'spots': 74064, 'expenses': 74065, 'dashiell': 74066, 'riger': 74067, 'clambers': 74068, 'autie': 74069, 'dogs': 74070, 'elmann': 74071, 'remaster': 74072, 'magnates': 74073}\n"
     ]
    }
   ],
   "source": [
    "# Create a dictionary of words in the vocabulary mapped to index positions\n",
    "# (to be used in layer_0)\n",
    "word2index = {}\n",
    "for i,word in enumerate(vocab):\n",
    "    word2index[word] = i\n",
    "    \n",
    "# display the map of words to indices\n",
    "print(word2index)"
   ]
  },
  {
   "cell_type": "markdown",
   "metadata": {},
   "source": [
    "**TODO:**  Complete the implementation of `update_input_layer`. It should count \n",
    "          how many times each word is used in the given review, and then store\n",
    "          those counts at the appropriate indices inside `layer_0`."
   ]
  },
  {
   "cell_type": "code",
   "execution_count": 28,
   "metadata": {
    "collapsed": true
   },
   "outputs": [],
   "source": [
    "def update_input_layer(review):\n",
    "    \"\"\" Modify the global layer_0 to represent the vector form of review.\n",
    "    The element at a given index of layer_0 should represent\n",
    "    how many times the given word occurs in the review.\n",
    "    Args:\n",
    "        review(string) - the string of the review\n",
    "    Returns:\n",
    "        None\n",
    "    \"\"\"\n",
    "    global layer_0\n",
    "    # clear out previous state by resetting the layer to be all 0s\n",
    "    layer_0 *= 0\n",
    "    \n",
    "    # TODO: count how many times each word is used in the given review and store the results in layer_0\n",
    "    review_word_cnt = Counter()\n",
    "    words = review.split(' ')\n",
    "    review_word_cnt.update(words)\n",
    "    for word,cnt in review_word_cnt.items():\n",
    "        ind = word2index[word]\n",
    "        layer_0[0][ind] = cnt # not slicing array by row index then column index (layer_0 has dimensions [1, 74074])"
   ]
  },
  {
   "cell_type": "markdown",
   "metadata": {},
   "source": [
    "Run the following cell to test updating the input layer with the first review. The indices assigned may not be the same as in the solution, but hopefully you'll see some non-zero values in `layer_0`.  "
   ]
  },
  {
   "cell_type": "code",
   "execution_count": 29,
   "metadata": {
    "collapsed": true
   },
   "outputs": [
    {
     "output_type": "execute_result",
     "data": {
      "text/plain": [
       "array([[18.,  0.,  0., ...,  0.,  0.,  0.]])"
      ]
     },
     "metadata": {},
     "execution_count": 29
    }
   ],
   "source": [
    "update_input_layer(reviews[0])\n",
    "layer_0"
   ]
  },
  {
   "cell_type": "markdown",
   "metadata": {},
   "source": [
    "**TODO:** Complete the implementation of `get_target_for_labels`. It should return `0` or `1`, \n",
    "          depending on whether the given label is `NEGATIVE` or `POSITIVE`, respectively."
   ]
  },
  {
   "cell_type": "code",
   "execution_count": 30,
   "metadata": {
    "collapsed": true
   },
   "outputs": [],
   "source": [
    "def get_target_for_label(label):\n",
    "    \"\"\"Convert a label to `0` or `1`.\n",
    "    Args:\n",
    "        label(string) - Either \"POSITIVE\" or \"NEGATIVE\".\n",
    "    Returns:\n",
    "        `0` or `1`.\n",
    "    \"\"\"\n",
    "    # TODO: Your code here\n",
    "    if label == \"POSITIVE\":\n",
    "        return 1\n",
    "    else:\n",
    "        return 0"
   ]
  },
  {
   "cell_type": "markdown",
   "metadata": {},
   "source": [
    "Run the following two cells. They should print out`'POSITIVE'` and `1`, respectively."
   ]
  },
  {
   "cell_type": "code",
   "execution_count": 31,
   "metadata": {
    "collapsed": true
   },
   "outputs": [
    {
     "output_type": "execute_result",
     "data": {
      "text/plain": [
       "'POSITIVE'"
      ]
     },
     "metadata": {},
     "execution_count": 31
    }
   ],
   "source": [
    "labels[0]"
   ]
  },
  {
   "cell_type": "code",
   "execution_count": 32,
   "metadata": {
    "collapsed": true
   },
   "outputs": [
    {
     "output_type": "execute_result",
     "data": {
      "text/plain": [
       "1"
      ]
     },
     "metadata": {},
     "execution_count": 32
    }
   ],
   "source": [
    "get_target_for_label(labels[0])"
   ]
  },
  {
   "cell_type": "markdown",
   "metadata": {},
   "source": [
    "Run the following two cells. They should print out `'NEGATIVE'` and `0`, respectively."
   ]
  },
  {
   "cell_type": "code",
   "execution_count": 33,
   "metadata": {
    "collapsed": true
   },
   "outputs": [
    {
     "output_type": "execute_result",
     "data": {
      "text/plain": [
       "'NEGATIVE'"
      ]
     },
     "metadata": {},
     "execution_count": 33
    }
   ],
   "source": [
    "labels[1]"
   ]
  },
  {
   "cell_type": "code",
   "execution_count": 34,
   "metadata": {
    "collapsed": true
   },
   "outputs": [
    {
     "output_type": "execute_result",
     "data": {
      "text/plain": [
       "0"
      ]
     },
     "metadata": {},
     "execution_count": 34
    }
   ],
   "source": [
    "get_target_for_label(labels[1])"
   ]
  },
  {
   "cell_type": "markdown",
   "metadata": {},
   "source": [
    "# End of Project 2. \n",
    "## Watch the next video to see Andrew's solution, then continue on to the next lesson."
   ]
  },
  {
   "cell_type": "markdown",
   "metadata": {},
   "source": [
    "# Project 3: Building a Neural Network<a id='project_3'></a>"
   ]
  },
  {
   "cell_type": "markdown",
   "metadata": {},
   "source": [
    "**TODO:** We've included the framework of a class called `SentimentNetork`. Implement all of the items marked `TODO` in the code. These include doing the following:\n",
    "- Create a basic neural network much like the networks you've seen in earlier lessons and in Project 1, with an input layer, a hidden layer, and an output layer. \n",
    "- Do **not** add a non-linearity in the hidden layer. That is, do not use an activation function when calculating the hidden layer outputs.\n",
    "- Re-use the code from earlier in this notebook to create the training data (see `TODO`s in the code)\n",
    "- Implement the `pre_process_data` function to create the vocabulary for our training data generating functions\n",
    "- Ensure `train` trains over the entire corpus"
   ]
  },
  {
   "cell_type": "markdown",
   "metadata": {},
   "source": [
    "### Where to Get Help if You Need it\n",
    "- Re-watch earlier Udacity lectures\n",
    "- Chapters 3-5 - [Grokking Deep Learning](https://www.manning.com/books/grokking-deep-learning) - (Check inside your classroom for a discount code)"
   ]
  },
  {
   "cell_type": "code",
   "execution_count": 35,
   "metadata": {
    "collapsed": true
   },
   "outputs": [],
   "source": [
    "import time\n",
    "import sys\n",
    "import numpy as np\n",
    "\n",
    "# Encapsulate our neural network in a class\n",
    "class SentimentNetwork:\n",
    "    def __init__(self, reviews, labels, hidden_nodes = 10, learning_rate = 0.1):\n",
    "        \"\"\"Create a SentimenNetwork with the given settings\n",
    "        Args:\n",
    "            reviews(list) - List of reviews used for training\n",
    "            labels(list) - List of POSITIVE/NEGATIVE labels associated with the given reviews\n",
    "            hidden_nodes(int) - Number of nodes to create in the hidden layer\n",
    "            learning_rate(float) - Learning rate to use while training\n",
    "        \n",
    "        \"\"\"\n",
    "        # Assign a seed to our random number generator to ensure we get\n",
    "        # reproducable results during development \n",
    "        np.random.seed(1)\n",
    "\n",
    "        # process the reviews and their associated labels so that everything\n",
    "        # is ready for training\n",
    "        self.pre_process_data(reviews, labels)\n",
    "        \n",
    "        # Build the network to have the number of hidden nodes and the learning rate that\n",
    "        # were passed into this initializer. Make the same number of input nodes as\n",
    "        # there are vocabulary words and create a single output node.\n",
    "        self.init_network(len(self.review_vocab),hidden_nodes, 1, learning_rate)\n",
    "\n",
    "    def pre_process_data(self, reviews, labels):\n",
    "        \n",
    "        review_vocab = set()\n",
    "        # TODO: populate review_vocab with all of the words in the given reviews\n",
    "        #       Remember to split reviews into individual words \n",
    "        #       using \"split(' ')\" instead of \"split()\".\n",
    "        for review in reviews:\n",
    "            words = review.split(' ')\n",
    "            review_vocab.update(words)\n",
    "        # Convert the vocabulary set to a list so we can access words via indices\n",
    "        self.review_vocab = list(review_vocab)\n",
    "        \n",
    "        label_vocab = set()\n",
    "        # TODO: populate label_vocab with all of the words in the given labels.\n",
    "        #       There is no need to split the labels because each one is a single word.\n",
    "        label_vocab.update(labels)\n",
    "        # Convert the label vocabulary set to a list so we can access labels via indices\n",
    "        self.label_vocab = list(label_vocab)\n",
    "        \n",
    "        # Store the sizes of the review and label vocabularies.\n",
    "        self.review_vocab_size = len(self.review_vocab)\n",
    "        self.label_vocab_size = len(self.label_vocab)\n",
    "        \n",
    "        # Create a dictionary of words in the vocabulary mapped to index positions\n",
    "        self.word2index = {}\n",
    "        # TODO: populate self.word2index with indices for all the words in self.review_vocab\n",
    "        #       like you saw earlier in the notebook\n",
    "        for i,word in enumerate(self.review_vocab):\n",
    "            self.word2index[word] = i\n",
    "        # Create a dictionary of labels mapped to index positions\n",
    "        self.label2index = {}\n",
    "        # TODO: do the same thing you did for self.word2index and self.review_vocab, \n",
    "        #       but for self.label2index and self.label_vocab instead\n",
    "        for i,label in enumerate(self.label_vocab):\n",
    "            self.label2index[label] = i\n",
    "        \n",
    "    def init_network(self, input_nodes, hidden_nodes, output_nodes, learning_rate):\n",
    "        # Store the number of nodes in input, hidden, and output layers.\n",
    "        self.input_nodes = input_nodes\n",
    "        self.hidden_nodes = hidden_nodes\n",
    "        self.output_nodes = output_nodes\n",
    "\n",
    "        # Store the learning rate\n",
    "        self.learning_rate = learning_rate\n",
    "\n",
    "        # Initialize weights\n",
    "        \n",
    "        # TODO: initialize self.weights_0_1 as a matrix of zeros. These are the weights between\n",
    "        #       the input layer and the hidden layer.\n",
    "        self.weights_0_1 = np.zeros((self.input_nodes, self.hidden_nodes))\n",
    "        \n",
    "        # TODO: initialize self.weights_1_2 as a matrix of random values. \n",
    "        #       These are the weights between the hidden layer and the output layer.\n",
    "        self.weights_1_2 = np.random.normal(\n",
    "            loc=0.0,\n",
    "            scale=self.hidden_nodes ** -0.5,\n",
    "            size=(self.hidden_nodes, self.output_nodes)\n",
    "            )\n",
    "        \n",
    "        # TODO: Create the input layer, a two-dimensional matrix with shape \n",
    "        #       1 x input_nodes, with all values initialized to zero\n",
    "        self.layer_0 = np.zeros((self.input_nodes, 1))\n",
    "    \n",
    "        \n",
    "    def update_input_layer(self,review):\n",
    "        # TODO: You can copy most of the code you wrote for update_input_layer \n",
    "        #       earlier in this notebook. \n",
    "        #\n",
    "        #       However, MAKE SURE YOU CHANGE ALL VARIABLES TO REFERENCE\n",
    "        #       THE VERSIONS STORED IN THIS OBJECT, NOT THE GLOBAL OBJECTS.\n",
    "        #       For example, replace \"layer_0 *= 0\" with \"self.layer_0 *= 0\"\n",
    "        \"\"\" Modify the global layer_0 to represent the vector form of review.\n",
    "        The element at a given index of layer_0 should represent\n",
    "        how many times the given word occurs in the review.\n",
    "        Args:\n",
    "        review(string) - the string of the review\n",
    "        Returns: None\n",
    "        \"\"\"\n",
    "        # clear out previous state by resetting the layer to be all 0s\n",
    "        self.layer_0 *= 0\n",
    "        # count how many times each word is used in the given review and store the results in layer_0\n",
    "        review_word_cnt = Counter()\n",
    "        words = review.split(' ')\n",
    "        review_word_cnt.update(words)\n",
    "        for word,cnt in review_word_cnt.items():\n",
    "            if word in word2index.keys():\n",
    "                # note: some test reviews contain words that are not in training reviews, so that word is not saved into word2index set. You can ignore those unknown words\n",
    "                try:\n",
    "                    ind = self.word2index[word]\n",
    "                    self.layer_0[ind,0] = cnt # not slicing array by row index then column index (layer_0 has dimensions [74074,1])\n",
    "                except:\n",
    "                    pass\n",
    "            \n",
    "\n",
    "                \n",
    "    def get_target_for_label(self,label):\n",
    "        # TODO: Copy the code you wrote for get_target_for_label \n",
    "        #       earlier in this notebook. \n",
    "        if label == \"POSITIVE\":\n",
    "            return 1\n",
    "        else:\n",
    "            return 0\n",
    "        \n",
    "    def sigmoid(self,x):\n",
    "        # TODO: Return the result of calculating the sigmoid activation function\n",
    "        #       shown in the lectures\n",
    "        return 1/(1 + np.exp(-x))\n",
    "    \n",
    "    def sigmoid_output_2_derivative(self,output):\n",
    "        # TODO: Return the derivative of the sigmoid activation function, \n",
    "        #       where \"output\" is the original output from the sigmoid fucntion \n",
    "        return output * (1 - output)\n",
    "\n",
    "    def train(self, training_reviews, training_labels):\n",
    "        \n",
    "        # make sure out we have a matching number of reviews and labels\n",
    "        assert(len(training_reviews) == len(training_labels))\n",
    "        \n",
    "        # Keep track of correct predictions to display accuracy during training \n",
    "        correct_so_far = 0\n",
    "        \n",
    "        # Remember when we started for printing time statistics\n",
    "        start = time.time()\n",
    "\n",
    "        # loop through all the given reviews and run a forward and backward pass,\n",
    "        # updating weights for every item\n",
    "        for i in range(len(training_reviews)):\n",
    "            \n",
    "            # TODO: Get the next review and its correct label\n",
    "            review = training_reviews[i]\n",
    "            label = get_target_for_label(training_labels[i])\n",
    "            # TODO: Implement the forward pass through the network. \n",
    "            #       That means use the given review to update the input layer, \n",
    "            #       then calculate values for the hidden layer,\n",
    "            #       and finally calculate the output layer.\n",
    "            # \n",
    "            #       Do not use an activation function for the hidden layer,\n",
    "            #       but use the sigmoid activation function for the output layer.\n",
    "            self.update_input_layer(review)\n",
    "            hidden_layer_out = np.matmul(self.weights_0_1.T, self.layer_0)\n",
    "            out_layer_out = self.sigmoid(np.matmul(self.weights_1_2.T, hidden_layer_out))\n",
    "            # TODO: Implement the back propagation pass here. \n",
    "            #       That means calculate the error for the forward pass's prediction\n",
    "            #       and update the weights in the network according to their\n",
    "            #       contributions toward the error, as calculated via the\n",
    "            #       gradient descent and back propagation algorithms you \n",
    "            #       learned in class.\n",
    "            out_layer_error = (label - out_layer_out) * self.sigmoid_output_2_derivative(out_layer_out)\n",
    "            hidden_layer_error = self.weights_1_2 * out_layer_error\n",
    "\n",
    "            weights_0_1_delta = self.learning_rate * np.matmul(self.layer_0, hidden_layer_error.T)\n",
    "            weights_1_2_delta = self.learning_rate * np.matmul(hidden_layer_out, out_layer_error.T)\n",
    "\n",
    "            self.weights_0_1 += weights_0_1_delta\n",
    "            self.weights_1_2 += weights_1_2_delta\n",
    "            # TODO: Keep track of correct predictions. To determine if the prediction was\n",
    "            #       correct, check that the absolute value of the output error \n",
    "            #       is less than 0.5. If so, add one to the correct_so_far count.\n",
    "            if(out_layer_error >= 0.5 and label == 1):\n",
    "                correct_so_far += 1\n",
    "            elif(out_layer_error < 0.5 and label == 0):\n",
    "                correct_so_far += 1\n",
    "            # For debug purposes, print out our prediction accuracy and speed \n",
    "            # throughout the training process. \n",
    "\n",
    "            elapsed_time = float(time.time() - start)\n",
    "            reviews_per_second = i / elapsed_time if elapsed_time > 0 else 0\n",
    "            \n",
    "            sys.stdout.write(\"\\rProgress:\" + str(100 * i/float(len(training_reviews)))[:4] \\\n",
    "                             + \"% Speed(reviews/sec):\" + str(reviews_per_second)[0:5] \\\n",
    "                             + \" #Correct:\" + str(correct_so_far) + \" #Trained:\" + str(i+1) \\\n",
    "                             + \" Training Accuracy:\" + str(correct_so_far * 100 / float(i+1))[:4] + \"%\")\n",
    "            if(i % 2500 == 0):\n",
    "                print(\"\")\n",
    "    \n",
    "    def test(self, testing_reviews, testing_labels):\n",
    "        \"\"\"\n",
    "        Attempts to predict the labels for the given testing_reviews,\n",
    "        and uses the test_labels to calculate the accuracy of those predictions.\n",
    "        \"\"\"\n",
    "        \n",
    "        # keep track of how many correct predictions we make\n",
    "        correct = 0\n",
    "\n",
    "        # we'll time how many predictions per second we make\n",
    "        start = time.time()\n",
    "\n",
    "        # Loop through each of the given reviews and call run to predict\n",
    "        # its label. \n",
    "        for i in range(len(testing_reviews)):\n",
    "            pred = self.run(testing_reviews[i])\n",
    "            if(pred == testing_labels[i]):\n",
    "                correct += 1\n",
    "            \n",
    "            # For debug purposes, print out our prediction accuracy and speed \n",
    "            # throughout the prediction process. \n",
    "\n",
    "            elapsed_time = float(time.time() - start)\n",
    "            reviews_per_second = i / elapsed_time if elapsed_time > 0 else 0\n",
    "            \n",
    "            sys.stdout.write(\"\\rProgress:\" + str(100 * i/float(len(testing_reviews)))[:4] \\\n",
    "                             + \"% Speed(reviews/sec):\" + str(reviews_per_second)[0:5] \\\n",
    "                             + \" #Correct:\" + str(correct) + \" #Tested:\" + str(i+1) \\\n",
    "                             + \" Testing Accuracy:\" + str(correct * 100 / float(i+1))[:4] + \"%\")\n",
    "    \n",
    "    def run(self, review):\n",
    "        \"\"\"\n",
    "        Returns a POSITIVE or NEGATIVE prediction for the given review.\n",
    "        \"\"\"\n",
    "        # TODO: Run a forward pass through the network, like you did in the\n",
    "        #       \"train\" function. That means use the given review to \n",
    "        #       update the input layer, then calculate values for the hidden layer,\n",
    "        #       and finally calculate the output layer.\n",
    "        #\n",
    "        #       Note: The review passed into this function for prediction \n",
    "        #             might come from anywhere, so you should convert it \n",
    "        #             to lower case prior to using it.\n",
    "        review = review.lower()\n",
    "        self.update_input_layer(review)\n",
    "        hidden_layer_out = np.matmul(self.weights_0_1.T, self.layer_0)\n",
    "        out_layer_out = self.sigmoid(np.matmul(self.weights_1_2.T, hidden_layer_out))\n",
    "        # TODO: The output layer should now contain a prediction. \n",
    "        #       Return `POSITIVE` for predictions greater-than-or-equal-to `0.5`, \n",
    "        #       and `NEGATIVE` otherwise.\n",
    "        if out_layer_out >= 0.5:\n",
    "            return 'POSITIVE'\n",
    "        else:\n",
    "            return 'NEGATIVE'\n"
   ]
  },
  {
   "cell_type": "markdown",
   "metadata": {},
   "source": [
    "Run the following cell to create a `SentimentNetwork` that will train on all but the last 1000 reviews (we're saving those for testing). Here we use a learning rate of `0.1`."
   ]
  },
  {
   "cell_type": "code",
   "execution_count": 36,
   "metadata": {
    "collapsed": true
   },
   "outputs": [],
   "source": [
    "mlp = SentimentNetwork(reviews[:-1000],labels[:-1000], learning_rate=0.1)"
   ]
  },
  {
   "cell_type": "markdown",
   "metadata": {},
   "source": [
    "Run the following cell to test the network's performance against the last 1000 reviews (the ones we held out from our training set). \n",
    "\n",
    "**We have not trained the model yet, so the results should be about 50% as it will just be guessing and there are only two possible values to choose from.**"
   ]
  },
  {
   "cell_type": "code",
   "execution_count": 37,
   "metadata": {
    "collapsed": true
   },
   "outputs": [
    {
     "output_type": "stream",
     "name": "stdout",
     "text": [
      "Progress:99.9% Speed(reviews/sec):2270. #Correct:500 #Tested:1000 Testing Accuracy:50.0%"
     ]
    }
   ],
   "source": [
    "mlp.test(reviews[-1000:],labels[-1000:])"
   ]
  },
  {
   "cell_type": "markdown",
   "metadata": {},
   "source": [
    "Run the following cell to actually train the network. During training, it will display the model's accuracy repeatedly as it trains so you can see how well it's doing."
   ]
  },
  {
   "cell_type": "code",
   "execution_count": 38,
   "metadata": {
    "collapsed": true
   },
   "outputs": [
    {
     "output_type": "stream",
     "name": "stdout",
     "text": [
      "Progress:0.0% Speed(reviews/sec):0.0 #Correct:0 #Trained:1 Training Accuracy:0.0%\n",
      "Progress:10.4% Speed(reviews/sec):178.1 #Correct:0 #Trained:2501 Training Accuracy:0.0%\n",
      "Progress:20.8% Speed(reviews/sec):174.6 #Correct:0 #Trained:5001 Training Accuracy:0.0%\n",
      "Progress:31.2% Speed(reviews/sec):174.4 #Correct:0 #Trained:7501 Training Accuracy:0.0%\n",
      "Progress:41.6% Speed(reviews/sec):173.7 #Correct:0 #Trained:10001 Training Accuracy:0.0%\n",
      "Progress:52.0% Speed(reviews/sec):174.0 #Correct:0 #Trained:12501 Training Accuracy:0.0%\n",
      "Progress:62.5% Speed(reviews/sec):174.2 #Correct:0 #Trained:15001 Training Accuracy:0.0%\n",
      "Progress:72.9% Speed(reviews/sec):174.8 #Correct:0 #Trained:17501 Training Accuracy:0.0%\n",
      "Progress:83.3% Speed(reviews/sec):175.4 #Correct:0 #Trained:20001 Training Accuracy:0.0%\n",
      "Progress:93.7% Speed(reviews/sec):175.4 #Correct:0 #Trained:22501 Training Accuracy:0.0%\n",
      "Progress:99.9% Speed(reviews/sec):175.6 #Correct:0 #Trained:24000 Training Accuracy:0.0%"
     ]
    }
   ],
   "source": [
    "mlp.train(reviews[:-1000],labels[:-1000])"
   ]
  },
  {
   "cell_type": "markdown",
   "metadata": {},
   "source": [
    "That most likely didn't train very well. Part of the reason may be because the learning rate is too high. Run the following cell to recreate the network with a smaller learning rate, `0.01`, and then train the new network."
   ]
  },
  {
   "cell_type": "code",
   "execution_count": 39,
   "metadata": {
    "collapsed": true
   },
   "outputs": [
    {
     "output_type": "stream",
     "name": "stdout",
     "text": [
      "Progress:0.0% Speed(reviews/sec):0.0 #Correct:0 #Trained:1 Training Accuracy:0.0%\n",
      "Progress:10.4% Speed(reviews/sec):174.5 #Correct:0 #Trained:2501 Training Accuracy:0.0%\n",
      "Progress:20.8% Speed(reviews/sec):173.8 #Correct:0 #Trained:5001 Training Accuracy:0.0%\n",
      "Progress:31.2% Speed(reviews/sec):174.9 #Correct:0 #Trained:7501 Training Accuracy:0.0%\n",
      "Progress:41.6% Speed(reviews/sec):175.6 #Correct:0 #Trained:10001 Training Accuracy:0.0%\n",
      "Progress:52.0% Speed(reviews/sec):175.8 #Correct:0 #Trained:12501 Training Accuracy:0.0%\n",
      "Progress:62.5% Speed(reviews/sec):175.5 #Correct:0 #Trained:15001 Training Accuracy:0.0%\n",
      "Progress:72.9% Speed(reviews/sec):175.9 #Correct:0 #Trained:17501 Training Accuracy:0.0%\n",
      "Progress:83.3% Speed(reviews/sec):176.4 #Correct:0 #Trained:20001 Training Accuracy:0.0%\n",
      "Progress:93.7% Speed(reviews/sec):176.3 #Correct:0 #Trained:22501 Training Accuracy:0.0%\n",
      "Progress:99.9% Speed(reviews/sec):176.6 #Correct:0 #Trained:24000 Training Accuracy:0.0%"
     ]
    }
   ],
   "source": [
    "mlp = SentimentNetwork(reviews[:-1000],labels[:-1000], learning_rate=0.01)\n",
    "mlp.train(reviews[:-1000],labels[:-1000])"
   ]
  },
  {
   "cell_type": "markdown",
   "metadata": {},
   "source": [
    "That probably wasn't much different. Run the following cell to recreate the network one more time with an even smaller learning rate, `0.001`, and then train the new network."
   ]
  },
  {
   "cell_type": "code",
   "execution_count": 40,
   "metadata": {
    "collapsed": true
   },
   "outputs": [
    {
     "output_type": "stream",
     "name": "stdout",
     "text": [
      "Progress:0.0% Speed(reviews/sec):0.0 #Correct:0 #Trained:1 Training Accuracy:0.0%\n",
      "Progress:10.4% Speed(reviews/sec):178.7 #Correct:0 #Trained:2501 Training Accuracy:0.0%\n",
      "Progress:20.8% Speed(reviews/sec):177.8 #Correct:0 #Trained:5001 Training Accuracy:0.0%\n",
      "Progress:31.2% Speed(reviews/sec):177.2 #Correct:0 #Trained:7501 Training Accuracy:0.0%\n",
      "Progress:41.6% Speed(reviews/sec):177.7 #Correct:0 #Trained:10001 Training Accuracy:0.0%\n",
      "Progress:52.0% Speed(reviews/sec):177.3 #Correct:0 #Trained:12501 Training Accuracy:0.0%\n",
      "Progress:62.5% Speed(reviews/sec):176.7 #Correct:0 #Trained:15001 Training Accuracy:0.0%\n",
      "Progress:72.9% Speed(reviews/sec):177.3 #Correct:0 #Trained:17501 Training Accuracy:0.0%\n",
      "Progress:83.3% Speed(reviews/sec):177.1 #Correct:0 #Trained:20001 Training Accuracy:0.0%\n",
      "Progress:93.7% Speed(reviews/sec):177.0 #Correct:0 #Trained:22501 Training Accuracy:0.0%\n",
      "Progress:99.9% Speed(reviews/sec):177.0 #Correct:0 #Trained:24000 Training Accuracy:0.0%"
     ]
    }
   ],
   "source": [
    "mlp = SentimentNetwork(reviews[:-1000],labels[:-1000], learning_rate=0.001)\n",
    "mlp.train(reviews[:-1000],labels[:-1000])"
   ]
  },
  {
   "cell_type": "markdown",
   "metadata": {},
   "source": [
    "With a learning rate of `0.001`, the network should finally have started to improve during training. It's still not very good, but it shows that this solution has potential. We will improve it in the next lesson."
   ]
  },
  {
   "cell_type": "markdown",
   "metadata": {},
   "source": [
    "# End of Project 3. \n",
    "## Watch the next video to see Andrew's solution, then continue on to the next lesson."
   ]
  },
  {
   "cell_type": "markdown",
   "metadata": {},
   "source": [
    "# Understanding Neural Noise<a id='lesson_4'></a>\n",
    "\n",
    "The following cells include includes the code Andrew shows in the next video. We've included it here so you can run the cells along with the video without having to type in everything."
   ]
  },
  {
   "cell_type": "code",
   "execution_count": 41,
   "metadata": {
    "collapsed": true
   },
   "outputs": [
    {
     "output_type": "execute_result",
     "data": {
      "image/png": "[encoded data removed]",
      "text/plain": [
       "<IPython.core.display.Image object>"
      ]
     },
     "metadata": {},
     "execution_count": 41
    }
   ],
   "source": [
    "from IPython.display import Image\n",
    "Image(filename='sentiment_network.png')"
   ]
  },
  {
   "cell_type": "code",
   "execution_count": 42,
   "metadata": {
    "collapsed": true
   },
   "outputs": [],
   "source": [
    "def update_input_layer(review):\n",
    "    \n",
    "    global layer_0\n",
    "    \n",
    "    # clear out previous state, reset the layer to be all 0s\n",
    "    layer_0 *= 0\n",
    "    for word in review.split(\" \"):\n",
    "        layer_0[0][word2index[word]] += 1\n",
    "\n",
    "update_input_layer(reviews[0])"
   ]
  },
  {
   "cell_type": "code",
   "execution_count": 43,
   "metadata": {
    "collapsed": true
   },
   "outputs": [
    {
     "output_type": "execute_result",
     "data": {
      "text/plain": [
       "array([[18.,  0.,  0., ...,  0.,  0.,  0.]])"
      ]
     },
     "metadata": {},
     "execution_count": 43
    }
   ],
   "source": [
    "layer_0"
   ]
  },
  {
   "cell_type": "code",
   "execution_count": 44,
   "metadata": {
    "collapsed": true
   },
   "outputs": [],
   "source": [
    "review_counter = Counter()"
   ]
  },
  {
   "cell_type": "code",
   "execution_count": 45,
   "metadata": {
    "collapsed": true
   },
   "outputs": [],
   "source": [
    "for word in reviews[0].split(\" \"):\n",
    "    review_counter[word] += 1"
   ]
  },
  {
   "cell_type": "code",
   "execution_count": 46,
   "metadata": {
    "collapsed": true
   },
   "outputs": [
    {
     "output_type": "execute_result",
     "data": {
      "text/plain": [
       "[('.', 27),\n",
       " ('', 18),\n",
       " ('the', 9),\n",
       " ('to', 6),\n",
       " ('high', 5),\n",
       " ('i', 5),\n",
       " ('bromwell', 4),\n",
       " ('is', 4),\n",
       " ('a', 4),\n",
       " ('teachers', 4),\n",
       " ('that', 4),\n",
       " ('of', 4),\n",
       " ('it', 2),\n",
       " ('at', 2),\n",
       " ('as', 2),\n",
       " ('school', 2),\n",
       " ('my', 2),\n",
       " ('in', 2),\n",
       " ('me', 2),\n",
       " ('students', 2),\n",
       " ('their', 2),\n",
       " ('student', 2),\n",
       " ('cartoon', 1),\n",
       " ('comedy', 1),\n",
       " ('ran', 1),\n",
       " ('same', 1),\n",
       " ('time', 1),\n",
       " ('some', 1),\n",
       " ('other', 1),\n",
       " ('programs', 1),\n",
       " ('about', 1),\n",
       " ('life', 1),\n",
       " ('such', 1),\n",
       " ('years', 1),\n",
       " ('teaching', 1),\n",
       " ('profession', 1),\n",
       " ('lead', 1),\n",
       " ('believe', 1),\n",
       " ('s', 1),\n",
       " ('satire', 1),\n",
       " ('much', 1),\n",
       " ('closer', 1),\n",
       " ('reality', 1),\n",
       " ('than', 1),\n",
       " ('scramble', 1),\n",
       " ('survive', 1),\n",
       " ('financially', 1),\n",
       " ('insightful', 1),\n",
       " ('who', 1),\n",
       " ('can', 1),\n",
       " ('see', 1),\n",
       " ('right', 1),\n",
       " ('through', 1),\n",
       " ('pathetic', 1),\n",
       " ('pomp', 1),\n",
       " ('pettiness', 1),\n",
       " ('whole', 1),\n",
       " ('situation', 1),\n",
       " ('all', 1),\n",
       " ('remind', 1),\n",
       " ('schools', 1),\n",
       " ('knew', 1),\n",
       " ('and', 1),\n",
       " ('when', 1),\n",
       " ('saw', 1),\n",
       " ('episode', 1),\n",
       " ('which', 1),\n",
       " ('repeatedly', 1),\n",
       " ('tried', 1),\n",
       " ('burn', 1),\n",
       " ('down', 1),\n",
       " ('immediately', 1),\n",
       " ('recalled', 1),\n",
       " ('classic', 1),\n",
       " ('line', 1),\n",
       " ('inspector', 1),\n",
       " ('m', 1),\n",
       " ('here', 1),\n",
       " ('sack', 1),\n",
       " ('one', 1),\n",
       " ('your', 1),\n",
       " ('welcome', 1),\n",
       " ('expect', 1),\n",
       " ('many', 1),\n",
       " ('adults', 1),\n",
       " ('age', 1),\n",
       " ('think', 1),\n",
       " ('far', 1),\n",
       " ('fetched', 1),\n",
       " ('what', 1),\n",
       " ('pity', 1),\n",
       " ('isn', 1),\n",
       " ('t', 1)]"
      ]
     },
     "metadata": {},
     "execution_count": 46
    }
   ],
   "source": [
    "review_counter.most_common()"
   ]
  },
  {
   "cell_type": "markdown",
   "metadata": {},
   "source": [
    "# Project 4: Reducing Noise in Our Input Data<a id='project_4'></a>\n",
    "\n",
    "**TODO:** Attempt to reduce the noise in the input data like Andrew did in the previous video. Specifically, do the following:\n",
    "* Copy the `SentimentNetwork` class you created earlier into the following cell.\n",
    "* Modify `update_input_layer` so it does not count how many times each word is used, but rather just stores whether or not a word was used. "
   ]
  },
  {
   "cell_type": "code",
   "execution_count": 47,
   "metadata": {
    "collapsed": true
   },
   "outputs": [],
   "source": [
    "# TODO: -Copy the SentimentNetwork class from Projet 3 lesson\n",
    "#       -Modify it to reduce noise, like in the video \n",
    "import time\n",
    "import sys\n",
    "import numpy as np\n",
    "\n",
    "# Encapsulate our neural network in a class\n",
    "class SentimentNetwork:\n",
    "    def __init__(self, reviews, labels, hidden_nodes = 10, learning_rate = 0.1):\n",
    "        \"\"\"Create a SentimenNetwork with the given settings\n",
    "        Args:\n",
    "            reviews(list) - List of reviews used for training\n",
    "            labels(list) - List of POSITIVE/NEGATIVE labels associated with the given reviews\n",
    "            hidden_nodes(int) - Number of nodes to create in the hidden layer\n",
    "            learning_rate(float) - Learning rate to use while training\n",
    "        \n",
    "        \"\"\"\n",
    "        # Assign a seed to our random number generator to ensure we get\n",
    "        # reproducable results during development \n",
    "        np.random.seed(1)\n",
    "\n",
    "        # process the reviews and their associated labels so that everything\n",
    "        # is ready for training\n",
    "        self.pre_process_data(reviews, labels)\n",
    "        \n",
    "        # Build the network to have the number of hidden nodes and the learning rate that\n",
    "        # were passed into this initializer. Make the same number of input nodes as\n",
    "        # there are vocabulary words and create a single output node.\n",
    "        self.init_network(len(self.review_vocab),hidden_nodes, 1, learning_rate)\n",
    "\n",
    "    def pre_process_data(self, reviews, labels):\n",
    "        \n",
    "        review_vocab = set()\n",
    "        # TODO: populate review_vocab with all of the words in the given reviews\n",
    "        #       Remember to split reviews into individual words \n",
    "        #       using \"split(' ')\" instead of \"split()\".\n",
    "        for review in reviews:\n",
    "            words = review.split(' ')\n",
    "            review_vocab.update(words)\n",
    "        # Convert the vocabulary set to a list so we can access words via indices\n",
    "        self.review_vocab = list(review_vocab)\n",
    "        \n",
    "        label_vocab = set()\n",
    "        # TODO: populate label_vocab with all of the words in the given labels.\n",
    "        #       There is no need to split the labels because each one is a single word.\n",
    "        label_vocab.update(labels)\n",
    "        # Convert the label vocabulary set to a list so we can access labels via indices\n",
    "        self.label_vocab = list(label_vocab)\n",
    "        \n",
    "        # Store the sizes of the review and label vocabularies.\n",
    "        self.review_vocab_size = len(self.review_vocab)\n",
    "        self.label_vocab_size = len(self.label_vocab)\n",
    "        \n",
    "        # Create a dictionary of words in the vocabulary mapped to index positions\n",
    "        self.word2index = {}\n",
    "        # TODO: populate self.word2index with indices for all the words in self.review_vocab\n",
    "        #       like you saw earlier in the notebook\n",
    "        for i,word in enumerate(self.review_vocab):\n",
    "            self.word2index[word] = i\n",
    "        # Create a dictionary of labels mapped to index positions\n",
    "        self.label2index = {}\n",
    "        # TODO: do the same thing you did for self.word2index and self.review_vocab, \n",
    "        #       but for self.label2index and self.label_vocab instead\n",
    "        for i,label in enumerate(self.label_vocab):\n",
    "            self.label2index[label] = i\n",
    "        \n",
    "    def init_network(self, input_nodes, hidden_nodes, output_nodes, learning_rate):\n",
    "        # Store the number of nodes in input, hidden, and output layers.\n",
    "        self.input_nodes = input_nodes\n",
    "        self.hidden_nodes = hidden_nodes\n",
    "        self.output_nodes = output_nodes\n",
    "\n",
    "        # Store the learning rate\n",
    "        self.learning_rate = learning_rate\n",
    "\n",
    "        # Initialize weights\n",
    "        \n",
    "        # TODO: initialize self.weights_0_1 as a matrix of zeros. These are the weights between\n",
    "        #       the input layer and the hidden layer.\n",
    "        self.weights_0_1 = np.zeros((self.input_nodes, self.hidden_nodes))\n",
    "        \n",
    "        # TODO: initialize self.weights_1_2 as a matrix of random values. \n",
    "        #       These are the weights between the hidden layer and the output layer.\n",
    "        self.weights_1_2 = np.random.normal(\n",
    "            loc=0.0,\n",
    "            scale=self.hidden_nodes ** -0.5,\n",
    "            size=(self.hidden_nodes, self.output_nodes)\n",
    "            )\n",
    "        \n",
    "        # TODO: Create the input layer, a two-dimensional matrix with shape \n",
    "        #       1 x input_nodes, with all values initialized to zero\n",
    "        self.layer_0 = np.zeros((self.input_nodes, 1))\n",
    "    \n",
    "        \n",
    "    def update_input_layer(self,review):\n",
    "        # TODO: You can copy most of the code you wrote for update_input_layer \n",
    "        #       earlier in this notebook. \n",
    "        #\n",
    "        #       However, MAKE SURE YOU CHANGE ALL VARIABLES TO REFERENCE\n",
    "        #       THE VERSIONS STORED IN THIS OBJECT, NOT THE GLOBAL OBJECTS.\n",
    "        #       For example, replace \"layer_0 *= 0\" with \"self.layer_0 *= 0\"\n",
    "        \"\"\" Modify the global layer_0 to represent the vector form of review.\n",
    "        The element at a given index of layer_0 should represent\n",
    "        how many times the given word occurs in the review.\n",
    "        Args:\n",
    "        review(string) - the string of the review\n",
    "        Returns: None\n",
    "        \"\"\"\n",
    "        # clear out previous state by resetting the layer to be all 0s\n",
    "        self.layer_0 *= 0\n",
    "        # identify if a word was used in a given review\n",
    "        words = review.split(' ')\n",
    "        for word in words:\n",
    "            if word in word2index.keys():\n",
    "                # note: some test reviews contain words that are not in training reviews, so that word is not saved into word2index set. You can ignore those unknown words\n",
    "                try:\n",
    "                    ind = self.word2index[word]\n",
    "                    self.layer_0[ind,0] = 1 # not slicing array by row index then column index (layer_0 has dimensions [74074,1])\n",
    "                except:\n",
    "                    pass\n",
    "            \n",
    "\n",
    "                \n",
    "    def get_target_for_label(self,label):\n",
    "        # TODO: Copy the code you wrote for get_target_for_label \n",
    "        #       earlier in this notebook. \n",
    "        if label == \"POSITIVE\":\n",
    "            return 1\n",
    "        else:\n",
    "            return 0\n",
    "        \n",
    "    def sigmoid(self,x):\n",
    "        # TODO: Return the result of calculating the sigmoid activation function\n",
    "        #       shown in the lectures\n",
    "        return 1/(1 + np.exp(-x))\n",
    "    \n",
    "    def sigmoid_output_2_derivative(self,output):\n",
    "        # TODO: Return the derivative of the sigmoid activation function, \n",
    "        #       where \"output\" is the original output from the sigmoid fucntion \n",
    "        return output * (1 - output)\n",
    "\n",
    "    def train(self, training_reviews, training_labels):\n",
    "        \n",
    "        # make sure out we have a matching number of reviews and labels\n",
    "        assert(len(training_reviews) == len(training_labels))\n",
    "        \n",
    "        # Keep track of correct predictions to display accuracy during training \n",
    "        correct_so_far = 0\n",
    "        \n",
    "        # Remember when we started for printing time statistics\n",
    "        start = time.time()\n",
    "\n",
    "        # loop through all the given reviews and run a forward and backward pass,\n",
    "        # updating weights for every item\n",
    "        for i in range(len(training_reviews)):\n",
    "            \n",
    "            # TODO: Get the next review and its correct label\n",
    "            review = training_reviews[i]\n",
    "            label = get_target_for_label(training_labels[i])\n",
    "            # TODO: Implement the forward pass through the network. \n",
    "            #       That means use the given review to update the input layer, \n",
    "            #       then calculate values for the hidden layer,\n",
    "            #       and finally calculate the output layer.\n",
    "            # \n",
    "            #       Do not use an activation function for the hidden layer,\n",
    "            #       but use the sigmoid activation function for the output layer.\n",
    "            self.update_input_layer(review)\n",
    "            hidden_layer_out = np.matmul(self.weights_0_1.T, self.layer_0)\n",
    "            out_layer_out = self.sigmoid(np.matmul(self.weights_1_2.T, hidden_layer_out))\n",
    "            # TODO: Implement the back propagation pass here. \n",
    "            #       That means calculate the error for the forward pass's prediction\n",
    "            #       and update the weights in the network according to their\n",
    "            #       contributions toward the error, as calculated via the\n",
    "            #       gradient descent and back propagation algorithms you \n",
    "            #       learned in class.\n",
    "            out_layer_error = (label - out_layer_out) * self.sigmoid_output_2_derivative(out_layer_out)\n",
    "            hidden_layer_error = self.weights_1_2 * out_layer_error\n",
    "\n",
    "            weights_0_1_delta = self.learning_rate * np.matmul(self.layer_0, hidden_layer_error.T)\n",
    "            weights_1_2_delta = self.learning_rate * np.matmul(hidden_layer_out, out_layer_error.T)\n",
    "\n",
    "            self.weights_0_1 += weights_0_1_delta\n",
    "            self.weights_1_2 += weights_1_2_delta\n",
    "            # TODO: Keep track of correct predictions. To determine if the prediction was\n",
    "            #       correct, check that the absolute value of the output error \n",
    "            #       is less than 0.5. If so, add one to the correct_so_far count.\n",
    "            if(out_layer_error >= 0.5 and label == 1):\n",
    "                correct_so_far += 1\n",
    "            elif(out_layer_error < 0.5 and label == 0):\n",
    "                correct_so_far += 1\n",
    "            # For debug purposes, print out our prediction accuracy and speed \n",
    "            # throughout the training process. \n",
    "\n",
    "            elapsed_time = float(time.time() - start)\n",
    "            reviews_per_second = i / elapsed_time if elapsed_time > 0 else 0\n",
    "            \n",
    "            sys.stdout.write(\"\\rProgress:\" + str(100 * i/float(len(training_reviews)))[:4] \\\n",
    "                             + \"% Speed(reviews/sec):\" + str(reviews_per_second)[0:5] \\\n",
    "                             + \" #Correct:\" + str(correct_so_far) + \" #Trained:\" + str(i+1) \\\n",
    "                             + \" Training Accuracy:\" + str(correct_so_far * 100 / float(i+1))[:4] + \"%\")\n",
    "            if(i % 2500 == 0):\n",
    "                print(\"\")\n",
    "    \n",
    "    def test(self, testing_reviews, testing_labels):\n",
    "        \"\"\"\n",
    "        Attempts to predict the labels for the given testing_reviews,\n",
    "        and uses the test_labels to calculate the accuracy of those predictions.\n",
    "        \"\"\"\n",
    "        \n",
    "        # keep track of how many correct predictions we make\n",
    "        correct = 0\n",
    "\n",
    "        # we'll time how many predictions per second we make\n",
    "        start = time.time()\n",
    "\n",
    "        # Loop through each of the given reviews and call run to predict\n",
    "        # its label. \n",
    "        for i in range(len(testing_reviews)):\n",
    "            pred = self.run(testing_reviews[i])\n",
    "            if(pred == testing_labels[i]):\n",
    "                correct += 1\n",
    "            \n",
    "            # For debug purposes, print out our prediction accuracy and speed \n",
    "            # throughout the prediction process. \n",
    "\n",
    "            elapsed_time = float(time.time() - start)\n",
    "            reviews_per_second = i / elapsed_time if elapsed_time > 0 else 0\n",
    "            \n",
    "            sys.stdout.write(\"\\rProgress:\" + str(100 * i/float(len(testing_reviews)))[:4] \\\n",
    "                             + \"% Speed(reviews/sec):\" + str(reviews_per_second)[0:5] \\\n",
    "                             + \" #Correct:\" + str(correct) + \" #Tested:\" + str(i+1) \\\n",
    "                             + \" Testing Accuracy:\" + str(correct * 100 / float(i+1))[:4] + \"%\")\n",
    "    \n",
    "    def run(self, review):\n",
    "        \"\"\"\n",
    "        Returns a POSITIVE or NEGATIVE prediction for the given review.\n",
    "        \"\"\"\n",
    "        # TODO: Run a forward pass through the network, like you did in the\n",
    "        #       \"train\" function. That means use the given review to \n",
    "        #       update the input layer, then calculate values for the hidden layer,\n",
    "        #       and finally calculate the output layer.\n",
    "        #\n",
    "        #       Note: The review passed into this function for prediction \n",
    "        #             might come from anywhere, so you should convert it \n",
    "        #             to lower case prior to using it.\n",
    "        review = review.lower()\n",
    "        self.update_input_layer(review)\n",
    "        hidden_layer_out = np.matmul(self.weights_0_1.T, self.layer_0)\n",
    "        out_layer_out = self.sigmoid(np.matmul(self.weights_1_2.T, hidden_layer_out))\n",
    "        # TODO: The output layer should now contain a prediction. \n",
    "        #       Return `POSITIVE` for predictions greater-than-or-equal-to `0.5`, \n",
    "        #       and `NEGATIVE` otherwise.\n",
    "        if out_layer_out >= 0.5:\n",
    "            return 'POSITIVE'\n",
    "        else:\n",
    "            return 'NEGATIVE'\n"
   ]
  },
  {
   "cell_type": "markdown",
   "metadata": {},
   "source": [
    "Run the following cell to recreate the network and train it. Notice we've gone back to the higher learning rate of `0.1`."
   ]
  },
  {
   "cell_type": "code",
   "execution_count": 48,
   "metadata": {
    "collapsed": true
   },
   "outputs": [
    {
     "output_type": "stream",
     "name": "stdout",
     "text": [
      "Progress:0.0% Speed(reviews/sec):0.0 #Correct:0 #Trained:1 Training Accuracy:0.0%\n",
      "Progress:10.4% Speed(reviews/sec):177.4 #Correct:0 #Trained:2501 Training Accuracy:0.0%\n",
      "Progress:20.8% Speed(reviews/sec):176.0 #Correct:0 #Trained:5001 Training Accuracy:0.0%\n",
      "Progress:31.2% Speed(reviews/sec):176.6 #Correct:0 #Trained:7501 Training Accuracy:0.0%\n",
      "Progress:41.6% Speed(reviews/sec):176.0 #Correct:0 #Trained:10001 Training Accuracy:0.0%\n",
      "Progress:52.0% Speed(reviews/sec):175.8 #Correct:0 #Trained:12501 Training Accuracy:0.0%\n",
      "Progress:62.5% Speed(reviews/sec):176.0 #Correct:0 #Trained:15001 Training Accuracy:0.0%\n",
      "Progress:72.9% Speed(reviews/sec):175.7 #Correct:0 #Trained:17501 Training Accuracy:0.0%\n",
      "Progress:83.3% Speed(reviews/sec):176.2 #Correct:0 #Trained:20001 Training Accuracy:0.0%\n",
      "Progress:93.7% Speed(reviews/sec):176.3 #Correct:0 #Trained:22501 Training Accuracy:0.0%\n",
      "Progress:99.9% Speed(reviews/sec):176.2 #Correct:0 #Trained:24000 Training Accuracy:0.0%"
     ]
    }
   ],
   "source": [
    "mlp = SentimentNetwork(reviews[:-1000],labels[:-1000], learning_rate=0.1)\n",
    "mlp.train(reviews[:-1000],labels[:-1000])"
   ]
  },
  {
   "cell_type": "markdown",
   "metadata": {},
   "source": [
    "That should have trained much better than the earlier attempts. It's still not wonderful, but it should have improved dramatically. Run the following cell to test your model with 1000 predictions."
   ]
  },
  {
   "cell_type": "code",
   "execution_count": 49,
   "metadata": {
    "collapsed": true
   },
   "outputs": [
    {
     "output_type": "stream",
     "name": "stdout",
     "text": [
      "Progress:99.9% Speed(reviews/sec):1834. #Correct:860 #Tested:1000 Testing Accuracy:86.0%"
     ]
    }
   ],
   "source": [
    "mlp.test(reviews[-1000:],labels[-1000:])"
   ]
  },
  {
   "cell_type": "markdown",
   "metadata": {},
   "source": [
    "# End of Project 4. \n",
    "## Andrew's solution was actually in the previous video, so rewatch that video if you had any problems with that project. Then continue on to the next lesson.\n",
    "# Analyzing Inefficiencies in our Network<a id='lesson_5'></a>\n",
    "The following cells include the code Andrew shows in the next video. We've included it here so you can run the cells along with the video without having to type in everything."
   ]
  },
  {
   "cell_type": "code",
   "execution_count": 50,
   "metadata": {
    "collapsed": true
   },
   "outputs": [
    {
     "output_type": "execute_result",
     "data": {
      "image/png": "[encoded data removed]",
      "text/plain": [
       "<IPython.core.display.Image object>"
      ]
     },
     "metadata": {},
     "execution_count": 50
    }
   ],
   "source": [
    "Image(filename='sentiment_network_sparse.png')"
   ]
  },
  {
   "cell_type": "code",
   "execution_count": 51,
   "metadata": {
    "collapsed": true
   },
   "outputs": [],
   "source": [
    "layer_0 = np.zeros(10)"
   ]
  },
  {
   "cell_type": "code",
   "execution_count": 52,
   "metadata": {
    "collapsed": true
   },
   "outputs": [
    {
     "output_type": "execute_result",
     "data": {
      "text/plain": [
       "array([0., 0., 0., 0., 0., 0., 0., 0., 0., 0.])"
      ]
     },
     "metadata": {},
     "execution_count": 52
    }
   ],
   "source": [
    "layer_0"
   ]
  },
  {
   "cell_type": "code",
   "execution_count": 53,
   "metadata": {
    "collapsed": true
   },
   "outputs": [],
   "source": [
    "layer_0[4] = 1\n",
    "layer_0[9] = 1"
   ]
  },
  {
   "cell_type": "code",
   "execution_count": 54,
   "metadata": {
    "collapsed": true
   },
   "outputs": [
    {
     "output_type": "execute_result",
     "data": {
      "text/plain": [
       "array([0., 0., 0., 0., 1., 0., 0., 0., 0., 1.])"
      ]
     },
     "metadata": {},
     "execution_count": 54
    }
   ],
   "source": [
    "layer_0"
   ]
  },
  {
   "cell_type": "code",
   "execution_count": 55,
   "metadata": {
    "collapsed": true
   },
   "outputs": [],
   "source": [
    "weights_0_1 = np.random.randn(10,5)"
   ]
  },
  {
   "cell_type": "code",
   "execution_count": 56,
   "metadata": {
    "collapsed": true
   },
   "outputs": [
    {
     "output_type": "execute_result",
     "data": {
      "text/plain": [
       "array([-0.10503756,  0.44222989,  0.24392938, -0.55961832,  0.21389503])"
      ]
     },
     "metadata": {},
     "execution_count": 56
    }
   ],
   "source": [
    "layer_0.dot(weights_0_1)"
   ]
  },
  {
   "cell_type": "code",
   "execution_count": 57,
   "metadata": {
    "collapsed": true
   },
   "outputs": [],
   "source": [
    "indices = [4,9]"
   ]
  },
  {
   "cell_type": "code",
   "execution_count": 58,
   "metadata": {
    "collapsed": true
   },
   "outputs": [],
   "source": [
    "layer_1 = np.zeros(5)"
   ]
  },
  {
   "cell_type": "code",
   "execution_count": 59,
   "metadata": {
    "collapsed": true
   },
   "outputs": [],
   "source": [
    "for index in indices:\n",
    "    layer_1 += (1 * weights_0_1[index])"
   ]
  },
  {
   "cell_type": "code",
   "execution_count": 60,
   "metadata": {
    "collapsed": true
   },
   "outputs": [
    {
     "output_type": "execute_result",
     "data": {
      "text/plain": [
       "array([-0.10503756,  0.44222989,  0.24392938, -0.55961832,  0.21389503])"
      ]
     },
     "metadata": {},
     "execution_count": 60
    }
   ],
   "source": [
    "layer_1"
   ]
  },
  {
   "cell_type": "code",
   "execution_count": 61,
   "metadata": {
    "collapsed": true
   },
   "outputs": [
    {
     "output_type": "execute_result",
     "data": {
      "image/png": "[encoded data removed]",
      "text/plain": [
       "<IPython.core.display.Image object>"
      ]
     },
     "metadata": {},
     "execution_count": 61
    }
   ],
   "source": [
    "Image(filename='sentiment_network_sparse_2.png')"
   ]
  },
  {
   "cell_type": "code",
   "execution_count": 62,
   "metadata": {
    "collapsed": true
   },
   "outputs": [],
   "source": [
    "layer_1 = np.zeros(5)"
   ]
  },
  {
   "cell_type": "code",
   "execution_count": 63,
   "metadata": {
    "collapsed": true
   },
   "outputs": [],
   "source": [
    "for index in indices:\n",
    "    layer_1 += (weights_0_1[index])"
   ]
  },
  {
   "cell_type": "code",
   "execution_count": 64,
   "metadata": {
    "collapsed": true
   },
   "outputs": [
    {
     "output_type": "execute_result",
     "data": {
      "text/plain": [
       "array([-0.10503756,  0.44222989,  0.24392938, -0.55961832,  0.21389503])"
      ]
     },
     "metadata": {},
     "execution_count": 64
    }
   ],
   "source": [
    "layer_1"
   ]
  },
  {
   "cell_type": "markdown",
   "metadata": {},
   "source": [
    "# Project 5: Making our Network More Efficient<a id='project_5'></a>\n",
    "**TODO:** Make the `SentimentNetwork` class more efficient by eliminating unnecessary multiplications and additions that occur during forward and backward propagation. To do that, you can do the following:\n",
    "* Copy the `SentimentNetwork` class from the previous project into the following cell.\n",
    "* Remove the `update_input_layer` function - you will not need it in this version.\n",
    "* Modify `init_network`:\n",
    ">* You no longer need a separate input layer, so remove any mention of `self.layer_0`\n",
    ">* You will be dealing with the old hidden layer more directly, so create `self.layer_1`, a two-dimensional matrix with shape 1 x hidden_nodes, with all values initialized to zero\n",
    "* Modify `train`:\n",
    ">* Change the name of the input parameter `training_reviews` to `training_reviews_raw`. This will help with the next step.\n",
    ">* At the beginning of the function, you'll want to preprocess your reviews to convert them to a list of indices (from `word2index`) that are actually used in the review. This is equivalent to what you saw in the video when Andrew set specific indices to 1. Your code should create a local `list` variable named `training_reviews` that should contain a `list` for each review in `training_reviews_raw`. Those lists should contain the indices for words found in the review.\n",
    ">* Remove call to `update_input_layer`\n",
    ">* Use `self`'s  `layer_1` instead of a local `layer_1` object.\n",
    ">* In the forward pass, replace the code that updates `layer_1` with new logic that only adds the weights for the indices used in the review.\n",
    ">* When updating `weights_0_1`, only update the individual weights that were used in the forward pass.\n",
    "* Modify `run`:\n",
    ">* Remove call to `update_input_layer` \n",
    ">* Use `self`'s  `layer_1` instead of a local `layer_1` object.\n",
    ">* Much like you did in `train`, you will need to pre-process the `review` so you can work with word indices, then update `layer_1` by adding weights for the indices used in the review."
   ]
  },
  {
   "cell_type": "code",
   "execution_count": 65,
   "metadata": {
    "collapsed": true
   },
   "outputs": [],
   "source": [
    "# TODO: -Copy the SentimentNetwork class from Project 4 lesson\n",
    "#       -Modify it according to the above instructions \n",
    "import time\n",
    "import sys\n",
    "import numpy as np\n",
    "\n",
    "# Encapsulate our neural network in a class\n",
    "class SentimentNetwork:\n",
    "    def __init__(self, reviews, labels, hidden_nodes = 10, learning_rate = 0.1):\n",
    "        \"\"\"Create a SentimenNetwork with the given settings\n",
    "        Args:\n",
    "            reviews(list) - List of reviews used for training\n",
    "            labels(list) - List of POSITIVE/NEGATIVE labels associated with the given reviews\n",
    "            hidden_nodes(int) - Number of nodes to create in the hidden layer\n",
    "            learning_rate(float) - Learning rate to use while training\n",
    "        \n",
    "        \"\"\"\n",
    "        # Assign a seed to our random number generator to ensure we get\n",
    "        # reproducable results during development \n",
    "        np.random.seed(1)\n",
    "\n",
    "        # process the reviews and their associated labels so that everything\n",
    "        # is ready for training\n",
    "        self.pre_process_data(reviews, labels)\n",
    "        \n",
    "        # Build the network to have the number of hidden nodes and the learning rate that\n",
    "        # were passed into this initializer. Make the same number of input nodes as\n",
    "        # there are vocabulary words and create a single output node.\n",
    "        self.init_network(len(self.review_vocab),hidden_nodes, 1, learning_rate)\n",
    "\n",
    "    def pre_process_data(self, reviews, labels):\n",
    "        \n",
    "        review_vocab = set()\n",
    "        # populate review_vocab with all of the words in the given reviews\n",
    "        # Remember to split reviews into individual words \n",
    "        # using \"split(' ')\" instead of \"split()\".\n",
    "        for review in reviews:\n",
    "            words = review.split(' ')\n",
    "            review_vocab.update(words)\n",
    "        # Convert the vocabulary set to a list so we can access words via indices\n",
    "        self.review_vocab = list(review_vocab)\n",
    "        \n",
    "        label_vocab = set()\n",
    "        # populate label_vocab with all of the words in the given labels.\n",
    "        # There is no need to split the labels because each one is a single word.\n",
    "        label_vocab.update(labels)\n",
    "        # Convert the label vocabulary set to a list so we can access labels via indices\n",
    "        self.label_vocab = list(label_vocab)\n",
    "        \n",
    "        # Store the sizes of the review and label vocabularies.\n",
    "        self.review_vocab_size = len(self.review_vocab)\n",
    "        self.label_vocab_size = len(self.label_vocab)\n",
    "        \n",
    "        # Create a dictionary of words in the vocabulary mapped to index positions\n",
    "        self.word2index = {}\n",
    "        # populate self.word2index with indices for all the words in self.review_vocab\n",
    "        # like you saw earlier in the notebook\n",
    "        for i,word in enumerate(self.review_vocab):\n",
    "            self.word2index[word] = i\n",
    "        # Create a dictionary of labels mapped to index positions\n",
    "        self.label2index = {}\n",
    "        # do the same thing you did for self.word2index and self.review_vocab, \n",
    "        # but for self.label2index and self.label_vocab instead\n",
    "        for i,label in enumerate(self.label_vocab):\n",
    "            self.label2index[label] = i\n",
    "        \n",
    "    def init_network(self, input_nodes, hidden_nodes, output_nodes, learning_rate):\n",
    "        # Store the number of nodes in input, hidden, and output layers.\n",
    "        self.input_nodes = input_nodes\n",
    "        self.hidden_nodes = hidden_nodes\n",
    "        self.output_nodes = output_nodes\n",
    "\n",
    "        # Store the learning rate\n",
    "        self.learning_rate = learning_rate\n",
    "\n",
    "        # Initialize weights\n",
    "        \n",
    "        # initialize self.weights_0_1 as a matrix of zeros. These are the weights between\n",
    "        # the input layer and the hidden layer.\n",
    "        self.weights_0_1 = np.zeros((self.input_nodes, self.hidden_nodes))\n",
    "        \n",
    "        # initialize self.weights_1_2 as a matrix of random values. \n",
    "        # These are the weights between the hidden layer and the output layer.\n",
    "        self.weights_1_2 = np.random.normal(\n",
    "            loc=0.0,\n",
    "            scale=self.hidden_nodes ** -0.5,\n",
    "            size=(self.hidden_nodes, self.output_nodes)\n",
    "            )\n",
    "        \n",
    "        # Create the hidden layer, a two-dimensional matrix with shape \n",
    "        # hidden_nodes x 1, with all values initialized to zero\n",
    "        self.layer_1 = np.zeros((self.hidden_nodes, 1))\n",
    "    \n",
    "            \n",
    "            \n",
    "    def get_target_for_label(self,label):\n",
    "        # Copy the code you wrote for get_target_for_label \n",
    "        # earlier in this notebook. \n",
    "        if label == \"POSITIVE\":\n",
    "            return 1\n",
    "        else:\n",
    "            return 0\n",
    "        \n",
    "    def sigmoid(self,x):\n",
    "        # Return the result of calculating the sigmoid activation function\n",
    "        # shown in the lectures\n",
    "        return 1/(1 + np.exp(-x))\n",
    "    \n",
    "    def sigmoid_output_2_derivative(self,output):\n",
    "        # Return the derivative of the sigmoid activation function, \n",
    "        # where \"output\" is the original output from the sigmoid fucntion \n",
    "        return output * (1 - output)\n",
    "\n",
    "    def train(self, training_reviews_raw, training_labels):\n",
    "        ## New for Project 5: pre-process training reviews so we can deal \n",
    "        #                     directly with the indices of non-zero inputs\n",
    "        training_reviews = list()\n",
    "        for review in training_reviews_raw:\n",
    "            indices = set()\n",
    "            for word in review.split(\" \"):\n",
    "                if(word in self.word2index.keys()):\n",
    "                    indices.add(self.word2index[word])\n",
    "            training_reviews.append(list(indices))\n",
    "    \n",
    "        # make sure out we have a matching number of reviews and labels\n",
    "        assert(len(training_reviews) == len(training_labels))\n",
    "        \n",
    "        # Keep track of correct predictions to display accuracy during training \n",
    "        correct_so_far = 0\n",
    "        \n",
    "        # Remember when we started for printing time statistics\n",
    "        start = time.time()\n",
    "\n",
    "        # loop through all the given reviews and run a forward and backward pass,\n",
    "        # updating weights for every item\n",
    "        for i in range(len(training_reviews)):\n",
    "            # Now the review is a list of indexes for each word in that review\n",
    "            review = training_reviews[i]\n",
    "            label = get_target_for_label(training_labels[i])\n",
    "            # Implement the forward pass through the network. \n",
    "            ## New for Project 5: Removed call to 'update_input_layer' function\n",
    "            #                     because 'layer_0' is no longer used\n",
    "\n",
    "            # Hidden layer\n",
    "            ## New for Project 5: Add in only the weights for non-zero items\n",
    "            self.layer_1 *= 0\n",
    "            for index in review:\n",
    "                # slicing 2D array by one index returns that row\n",
    "                # so weights_0_1[index] would return the row for index, but without any dimensions\n",
    "                # to maintain dimensionality, use None in place of the dimension you're slicing by\n",
    "                self.layer_1 += self.weights_0_1[index:index+1].T\n",
    "            # Output layer\n",
    "            layer_2 = self.sigmoid(np.matmul(self.weights_1_2.T, self.layer_1))\n",
    "            # Implement the back propagation pass here. \n",
    "            layer_2_error = (label - layer_2) * self.sigmoid_output_2_derivative(layer_2)\n",
    "            layer_1_error = self.weights_1_2 * layer_2_error\n",
    "\n",
    "            # Update the weights\n",
    "            ## New for Project 5: changed to use 'self.layer_1' instead of local 'layer_1'\n",
    "            self.weights_1_2 += self.learning_rate * np.matmul(self.layer_1, layer_2_error.T) # update hidden-to-output weights with gradient descent step\n",
    "            \n",
    "            ## New for Project 5: Only update the weights that were used in the forward pass\n",
    "            for index in review:\n",
    "                # self.weights_0_1 += layer_1_error[0] * self.learning_rate # update input-to-hidden weights with gradient descent step\n",
    "                weights_0_1 = self.weights_0_1[index:index+1].T  # array slicing and transpose do not create copy, meaning changes to weights_0_1 will also change self.weights_0_1 in place\n",
    "                weights_0_1 += layer_1_error * self.learning_rate\n",
    "\n",
    "            # Keep track of correct predictions.\n",
    "            if(layer_2 >= 0.5 and label == 1):\n",
    "                correct_so_far += 1\n",
    "            elif(layer_2 < 0.5 and label == 0):\n",
    "                correct_so_far += 1\n",
    "\n",
    "            # For debug purposes, print out our prediction accuracy and speed \n",
    "            # throughout the training process. \n",
    "\n",
    "            elapsed_time = float(time.time() - start)\n",
    "            reviews_per_second = i / elapsed_time if elapsed_time > 0 else 0\n",
    "            \n",
    "            sys.stdout.write(\"\\rProgress:\" + str(100 * i/float(len(training_reviews)))[:4] \\\n",
    "                             + \"% Speed(reviews/sec):\" + str(reviews_per_second)[0:5] \\\n",
    "                             + \" #Correct:\" + str(correct_so_far) + \" #Trained:\" + str(i+1) \\\n",
    "                             + \" Training Accuracy:\" + str(correct_so_far * 100 / float(i+1))[:4] + \"%\")\n",
    "            if(i % 2500 == 0):\n",
    "                print(\"\")\n",
    "    \n",
    "    def test(self, testing_reviews, testing_labels):\n",
    "        \"\"\"\n",
    "        Attempts to predict the labels for the given testing_reviews,\n",
    "        and uses the test_labels to calculate the accuracy of those predictions.\n",
    "        \"\"\"\n",
    "        \n",
    "        # keep track of how many correct predictions we make\n",
    "        correct = 0\n",
    "\n",
    "        # we'll time how many predictions per second we make\n",
    "        start = time.time()\n",
    "\n",
    "        # Loop through each of the given reviews and call run to predict\n",
    "        # its label. \n",
    "        for i in range(len(testing_reviews)):\n",
    "            pred = self.run(testing_reviews[i])\n",
    "            if(pred == testing_labels[i]):\n",
    "                correct += 1\n",
    "            \n",
    "            # For debug purposes, print out our prediction accuracy and speed \n",
    "            # throughout the prediction process. \n",
    "\n",
    "            elapsed_time = float(time.time() - start)\n",
    "            reviews_per_second = i / elapsed_time if elapsed_time > 0 else 0\n",
    "            \n",
    "            sys.stdout.write(\"\\rProgress:\" + str(100 * i/float(len(testing_reviews)))[:4] \\\n",
    "                             + \"% Speed(reviews/sec):\" + str(reviews_per_second)[0:5] \\\n",
    "                             + \" #Correct:\" + str(correct) + \" #Tested:\" + str(i+1) \\\n",
    "                             + \" Testing Accuracy:\" + str(correct * 100 / float(i+1))[:4] + \"%\")\n",
    "    \n",
    "    def run(self, review):\n",
    "        \"\"\"\n",
    "        Returns a POSITIVE or NEGATIVE prediction for the given review.\n",
    "        \"\"\"\n",
    "        # Run a forward pass through the network, like in the \"train\" function.\n",
    "        \n",
    "        ## New for Project 5: Removed call to update_input_layer function\n",
    "        #                     because layer_0 is no longer used\n",
    "\n",
    "        # Hidden layer\n",
    "        ## New for Project 5: Identify the indices used in the review and then add\n",
    "        #                     just those weights to layer_1 \n",
    "        self.layer_1 *= 0\n",
    "        unique_indices = set()\n",
    "        for word in review.lower().split(\" \"):\n",
    "            if word in self.word2index.keys():\n",
    "                unique_indices.add(self.word2index[word])\n",
    "        for index in unique_indices:\n",
    "            self.layer_1 += self.weights_0_1[index:index+1].T \n",
    "\n",
    "        \n",
    "        # Output layer\n",
    "        ## New for Project 5: changed to use self.layer_1 instead of local layer_1\n",
    "        layer_2 = self.sigmoid(np.matmul(self.weights_1_2.T, self.layer_1))\n",
    "        \n",
    "        # Return POSITIVE for values above greater-than-or-equal-to 0.5 in the output layer;\n",
    "        # return NEGATIVE for other values\n",
    "        if(layer_2[0] >= 0.5):\n",
    "            return \"POSITIVE\"\n",
    "        else:\n",
    "            return \"NEGATIVE\""
   ]
  },
  {
   "cell_type": "markdown",
   "metadata": {},
   "source": [
    "Run the following cell to recreate the network and train it once again."
   ]
  },
  {
   "cell_type": "code",
   "execution_count": 66,
   "metadata": {},
   "outputs": [
    {
     "output_type": "stream",
     "name": "stdout",
     "text": [
      "[[0.]\n [0.]\n [0.]\n [0.]\n [0.]\n [0.]\n [0.]\n [0.]\n [0.]\n [0.]]\n<class 'numpy.ndarray'>\n2\n(10, 1)\n"
     ]
    }
   ],
   "source": [
    "a1 = np.zeros((5, 10))\n",
    "a2 = a1[3:4].T\n",
    "print(a2)\n",
    "print(type(a2))\n",
    "print(a2.ndim)\n",
    "print(a2.shape)"
   ]
  },
  {
   "cell_type": "code",
   "execution_count": 67,
   "metadata": {
    "collapsed": true
   },
   "outputs": [
    {
     "output_type": "stream",
     "name": "stdout",
     "text": [
      "Progress:0.0% Speed(reviews/sec):0.0 #Correct:1 #Trained:1 Training Accuracy:100.%\n",
      "Progress:10.4% Speed(reviews/sec):1623. #Correct:1949 #Trained:2501 Training Accuracy:77.9%\n",
      "Progress:20.8% Speed(reviews/sec):1596. #Correct:3994 #Trained:5001 Training Accuracy:79.8%\n",
      "Progress:31.2% Speed(reviews/sec):1607. #Correct:6121 #Trained:7501 Training Accuracy:81.6%\n",
      "Progress:41.6% Speed(reviews/sec):1625. #Correct:8278 #Trained:10001 Training Accuracy:82.7%\n",
      "Progress:52.0% Speed(reviews/sec):1623. #Correct:10439 #Trained:12501 Training Accuracy:83.5%\n",
      "Progress:62.5% Speed(reviews/sec):1628. #Correct:12580 #Trained:15001 Training Accuracy:83.8%\n",
      "Progress:72.9% Speed(reviews/sec):1625. #Correct:14694 #Trained:17501 Training Accuracy:83.9%\n",
      "Progress:83.3% Speed(reviews/sec):1623. #Correct:16868 #Trained:20001 Training Accuracy:84.3%\n",
      "Progress:93.7% Speed(reviews/sec):1616. #Correct:19055 #Trained:22501 Training Accuracy:84.6%\n",
      "Progress:99.9% Speed(reviews/sec):1618. #Correct:20375 #Trained:24000 Training Accuracy:84.8%"
     ]
    }
   ],
   "source": [
    "mlp = SentimentNetwork(reviews[:-1000],labels[:-1000], learning_rate=0.1)\n",
    "mlp.train(reviews[:-1000],labels[:-1000])"
   ]
  },
  {
   "cell_type": "markdown",
   "metadata": {},
   "source": [
    "That should have trained much better than the earlier attempts. Run the following cell to test your model with 1000 predictions."
   ]
  },
  {
   "cell_type": "code",
   "execution_count": 68,
   "metadata": {
    "collapsed": true
   },
   "outputs": [
    {
     "output_type": "stream",
     "name": "stdout",
     "text": [
      "Progress:99.9% Speed(reviews/sec):2484. #Correct:860 #Tested:1000 Testing Accuracy:86.0%"
     ]
    }
   ],
   "source": [
    "mlp.test(reviews[-1000:],labels[-1000:])"
   ]
  },
  {
   "cell_type": "markdown",
   "metadata": {},
   "source": [
    "# End of Project 5. \n",
    "## Watch the next video to see Andrew's solution, then continue on to the next lesson.\n",
    "# Further Noise Reduction<a id='lesson_6'></a>"
   ]
  },
  {
   "cell_type": "code",
   "execution_count": null,
   "metadata": {
    "collapsed": true
   },
   "outputs": [],
   "source": [
    "Image(filename='sentiment_network_sparse_2.png')"
   ]
  },
  {
   "cell_type": "code",
   "execution_count": null,
   "metadata": {
    "collapsed": true
   },
   "outputs": [],
   "source": [
    "# words most frequently seen in a review with a \"POSITIVE\" label\n",
    "pos_neg_ratios.most_common()"
   ]
  },
  {
   "cell_type": "code",
   "execution_count": null,
   "metadata": {
    "collapsed": true
   },
   "outputs": [],
   "source": [
    "# words most frequently seen in a review with a \"NEGATIVE\" label\n",
    "list(reversed(pos_neg_ratios.most_common()))[0:30]"
   ]
  },
  {
   "cell_type": "code",
   "execution_count": null,
   "metadata": {
    "collapsed": true
   },
   "outputs": [],
   "source": [
    "from bokeh.models import ColumnDataSource, LabelSet\n",
    "from bokeh.plotting import figure, show, output_file\n",
    "from bokeh.io import output_notebook\n",
    "output_notebook()"
   ]
  },
  {
   "cell_type": "code",
   "execution_count": null,
   "metadata": {
    "collapsed": true
   },
   "outputs": [],
   "source": [
    "hist, edges = np.histogram(list(map(lambda x:x[1],pos_neg_ratios.most_common())), density=True, bins=100, normed=True)\n",
    "\n",
    "p = figure(tools=\"pan,wheel_zoom,reset,save\",\n",
    "           toolbar_location=\"above\",\n",
    "           title=\"Word Positive/Negative Affinity Distribution\")\n",
    "p.quad(top=hist, bottom=0, left=edges[:-1], right=edges[1:], line_color=\"#555555\")\n",
    "show(p)"
   ]
  },
  {
   "cell_type": "code",
   "execution_count": null,
   "metadata": {
    "collapsed": true
   },
   "outputs": [],
   "source": [
    "frequency_frequency = Counter()\n",
    "\n",
    "for word, cnt in total_counts.most_common():\n",
    "    frequency_frequency[cnt] += 1"
   ]
  },
  {
   "cell_type": "code",
   "execution_count": null,
   "metadata": {
    "collapsed": true
   },
   "outputs": [],
   "source": [
    "hist, edges = np.histogram(list(map(lambda x:x[1],frequency_frequency.most_common())), density=True, bins=100, normed=True)\n",
    "\n",
    "p = figure(tools=\"pan,wheel_zoom,reset,save\",\n",
    "           toolbar_location=\"above\",\n",
    "           title=\"The frequency distribution of the words in our corpus\")\n",
    "p.quad(top=hist, bottom=0, left=edges[:-1], right=edges[1:], line_color=\"#555555\")\n",
    "show(p)"
   ]
  },
  {
   "cell_type": "markdown",
   "metadata": {},
   "source": [
    "# Project 6: Reducing Noise by Strategically Reducing the Vocabulary<a id='project_6'></a>\n",
    "\n",
    "**TODO:** Improve `SentimentNetwork`'s performance by reducing more noise in the vocabulary. Specifically, do the following:\n",
    "* Copy the `SentimentNetwork` class from the previous project into the following cell.\n",
    "* Modify `pre_process_data`:\n",
    ">* Add two additional parameters: `min_count` and `polarity_cutoff`\n",
    ">* Calculate the positive-to-negative ratios of words used in the reviews. (You can use code you've written elsewhere in the notebook, but we are moving it into the class like we did with other helper code earlier.)\n",
    ">* Andrew's solution only calculates a postive-to-negative ratio for words that occur at least 50 times. This keeps the network from attributing too much sentiment to rarer words. You can choose to add this to your solution if you would like.  \n",
    ">* Change so words are only added to the vocabulary if they occur in the vocabulary more than `min_count` times.\n",
    ">* Change so words are only added to the vocabulary if the absolute value of their postive-to-negative ratio is at least `polarity_cutoff`\n",
    "* Modify `__init__`:\n",
    ">* Add the same two parameters (`min_count` and `polarity_cutoff`) and use them when you call `pre_process_data`"
   ]
  },
  {
   "cell_type": "code",
   "execution_count": 15,
   "metadata": {
    "collapsed": true
   },
   "outputs": [],
   "source": [
    "# TODO: -Copy the SentimentNetwork class from Project 5 lesson\n",
    "#       -Modify it according to the above instructions\n",
    "import time\n",
    "import sys\n",
    "import numpy as np\n",
    "\n",
    "# Encapsulate our neural network in a class\n",
    "class SentimentNetwork:\n",
    "    def __init__(self, reviews, labels, hidden_nodes = 10, learning_rate = 0.1, min_count=1, polarity_cutoff=1):\n",
    "        \"\"\"Create a SentimenNetwork with the given settings\n",
    "        Args:\n",
    "            reviews(list) - List of reviews used for training\n",
    "            labels(list) - List of POSITIVE/NEGATIVE labels associated with the given reviews\n",
    "            hidden_nodes(int) - Number of nodes to create in the hidden layer\n",
    "            learning_rate(float) - Learning rate to use while training\n",
    "        \n",
    "        \"\"\"\n",
    "        # Assign a seed to our random number generator to ensure we get\n",
    "        # reproducable results during development \n",
    "        np.random.seed(1)\n",
    "\n",
    "        # process the reviews and their associated labels so that everything\n",
    "        # is ready for training\n",
    "        self.pre_process_data(reviews, labels, min_count, polarity_cutoff)\n",
    "        \n",
    "        # Build the network to have the number of hidden nodes and the learning rate that\n",
    "        # were passed into this initializer. Make the same number of input nodes as\n",
    "        # there are vocabulary words and create a single output node.\n",
    "        self.init_network(len(self.review_vocab),hidden_nodes, 1, learning_rate)\n",
    "\n",
    "    def pre_process_data(self, reviews, labels, min_count, polarity_cutoff):\n",
    "        positive_counts = Counter()\n",
    "        negative_counts = Counter()\n",
    "        total_counts = Counter()\n",
    "        # count the number of times each word is in a positive or negative review\n",
    "        for i in range(0, len(reviews)):\n",
    "            words = reviews[i].split(' ')\n",
    "            if labels[i] == 'POSITIVE':\n",
    "                positive_counts.update(words)\n",
    "                total_counts.update(words)\n",
    "            else:\n",
    "                negative_counts.update(words)\n",
    "                total_counts.update(words)\n",
    "\n",
    "        words = {word for review in reviews for word in review.split(' ')} # set comprehension\n",
    "        pos_neg_ratio = {word:positive_counts[word]/float(negative_counts[word] + 1) for word in words} # dictionary comprehension\n",
    "        review_vocab = {word for word in words if (np.absolute(pos_neg_ratio[word]) >= polarity_cutoff) and (total_counts[word] > min_count)} # set comprehension\n",
    "\n",
    "        # Convert the vocabulary set to a list so we can access words via indices\n",
    "        self.review_vocab = list(review_vocab)\n",
    "        \n",
    "        label_vocab = set()\n",
    "        # populate label_vocab with all of the words in the given labels.\n",
    "        # There is no need to split the labels because each one is a single word.\n",
    "        label_vocab.update(labels)\n",
    "        # Convert the label vocabulary set to a list so we can access labels via indices\n",
    "        self.label_vocab = list(label_vocab)\n",
    "        \n",
    "        # Store the sizes of the review and label vocabularies.\n",
    "        self.review_vocab_size = len(self.review_vocab)\n",
    "        self.label_vocab_size = len(self.label_vocab)\n",
    "        \n",
    "        # Create a dictionary of words in the vocabulary mapped to index positions\n",
    "        self.word2index = {}\n",
    "        # populate self.word2index with indices for all the words in self.review_vocab\n",
    "        # like you saw earlier in the notebook\n",
    "        for i,word in enumerate(self.review_vocab):\n",
    "            self.word2index[word] = i\n",
    "        # Create a dictionary of labels mapped to index positions\n",
    "        self.label2index = {}\n",
    "        # do the same thing you did for self.word2index and self.review_vocab, \n",
    "        # but for self.label2index and self.label_vocab instead\n",
    "        for i,label in enumerate(self.label_vocab):\n",
    "            self.label2index[label] = i\n",
    "        \n",
    "    def init_network(self, input_nodes, hidden_nodes, output_nodes, learning_rate):\n",
    "        # Store the number of nodes in input, hidden, and output layers.\n",
    "        self.input_nodes = input_nodes\n",
    "        self.hidden_nodes = hidden_nodes\n",
    "        self.output_nodes = output_nodes\n",
    "\n",
    "        # Store the learning rate\n",
    "        self.learning_rate = learning_rate\n",
    "\n",
    "        # Initialize weights\n",
    "        \n",
    "        # initialize self.weights_0_1 as a matrix of zeros. These are the weights between\n",
    "        # the input layer and the hidden layer.\n",
    "        self.weights_0_1 = np.zeros((self.input_nodes, self.hidden_nodes))\n",
    "        \n",
    "        # initialize self.weights_1_2 as a matrix of random values. \n",
    "        # These are the weights between the hidden layer and the output layer.\n",
    "        self.weights_1_2 = np.random.normal(\n",
    "            loc=0.0,\n",
    "            scale=self.hidden_nodes ** -0.5,\n",
    "            size=(self.hidden_nodes, self.output_nodes)\n",
    "            )\n",
    "        \n",
    "        # Create the hidden layer, a two-dimensional matrix with shape \n",
    "        # hidden_nodes x 1, with all values initialized to zero\n",
    "        self.layer_1 = np.zeros((self.hidden_nodes, 1))\n",
    "    \n",
    "            \n",
    "            \n",
    "    def get_target_for_label(self,label):\n",
    "        # Copy the code you wrote for get_target_for_label \n",
    "        # earlier in this notebook. \n",
    "        if label == \"POSITIVE\":\n",
    "            return 1\n",
    "        else:\n",
    "            return 0\n",
    "        \n",
    "    def sigmoid(self,x):\n",
    "        # Return the result of calculating the sigmoid activation function\n",
    "        # shown in the lectures\n",
    "        return 1/(1 + np.exp(-x))\n",
    "    \n",
    "    def sigmoid_output_2_derivative(self,output):\n",
    "        # Return the derivative of the sigmoid activation function, \n",
    "        # where \"output\" is the original output from the sigmoid fucntion \n",
    "        return output * (1 - output)\n",
    "\n",
    "    def train(self, training_reviews_raw, training_labels):\n",
    "        ## New for Project 5: pre-process training reviews so we can deal \n",
    "        #                     directly with the indices of non-zero inputs\n",
    "        training_reviews = list()\n",
    "        for review in training_reviews_raw:\n",
    "            indices = set()\n",
    "            for word in review.split(\" \"):\n",
    "                if(word in self.word2index.keys()):\n",
    "                    indices.add(self.word2index[word])\n",
    "            training_reviews.append(list(indices))\n",
    "    \n",
    "        # make sure out we have a matching number of reviews and labels\n",
    "        assert(len(training_reviews) == len(training_labels))\n",
    "        \n",
    "        # Keep track of correct predictions to display accuracy during training \n",
    "        correct_so_far = 0\n",
    "        \n",
    "        # Remember when we started for printing time statistics\n",
    "        start = time.time()\n",
    "\n",
    "        # loop through all the given reviews and run a forward and backward pass,\n",
    "        # updating weights for every item\n",
    "        for i in range(len(training_reviews)):\n",
    "            # Now the review is a list of indexes for each word in that review\n",
    "            review = training_reviews[i]\n",
    "            label = self.get_target_for_label(training_labels[i])\n",
    "            # Implement the forward pass through the network. \n",
    "            ## New for Project 5: Removed call to 'update_input_layer' function\n",
    "            #                     because 'layer_0' is no longer used\n",
    "\n",
    "            # Hidden layer\n",
    "            ## New for Project 5: Add in only the weights for non-zero items\n",
    "            self.layer_1 *= 0\n",
    "            for index in review:\n",
    "                # slicing 2D array by one index returns that row\n",
    "                # so weights_0_1[index] would return the row for index, but without any dimensions\n",
    "                # to maintain dimensionality, use None in place of the dimension you're slicing by\n",
    "                self.layer_1 += self.weights_0_1[index:index+1].T\n",
    "            # Output layer\n",
    "            layer_2 = self.sigmoid(np.matmul(self.weights_1_2.T, self.layer_1))\n",
    "            # Implement the back propagation pass here. \n",
    "            layer_2_error = (label - layer_2) * self.sigmoid_output_2_derivative(layer_2)\n",
    "            layer_1_error = self.weights_1_2 * layer_2_error\n",
    "\n",
    "            # Update the weights\n",
    "            ## New for Project 5: changed to use 'self.layer_1' instead of local 'layer_1'\n",
    "            self.weights_1_2 += self.learning_rate * np.matmul(self.layer_1, layer_2_error.T) # update hidden-to-output weights with gradient descent step\n",
    "            \n",
    "            ## New for Project 5: Only update the weights that were used in the forward pass\n",
    "            for index in review:\n",
    "                # self.weights_0_1 += layer_1_error[0] * self.learning_rate # update input-to-hidden weights with gradient descent step\n",
    "                weights_0_1 = self.weights_0_1[index:index+1].T  # array slicing and transpose do not create copy, meaning changes to weights_0_1 will also change self.weights_0_1 in place\n",
    "                weights_0_1 += layer_1_error * self.learning_rate\n",
    "\n",
    "            # Keep track of correct predictions.\n",
    "            if(layer_2 >= 0.5 and label == 1):\n",
    "                correct_so_far += 1\n",
    "            elif(layer_2 < 0.5 and label == 0):\n",
    "                correct_so_far += 1\n",
    "\n",
    "            # For debug purposes, print out our prediction accuracy and speed \n",
    "            # throughout the training process. \n",
    "\n",
    "            elapsed_time = float(time.time() - start)\n",
    "            reviews_per_second = i / elapsed_time if elapsed_time > 0 else 0\n",
    "            \n",
    "            sys.stdout.write(\"\\rProgress:\" + str(100 * i/float(len(training_reviews)))[:4] \\\n",
    "                             + \"% Speed(reviews/sec):\" + str(reviews_per_second)[0:5] \\\n",
    "                             + \" #Correct:\" + str(correct_so_far) + \" #Trained:\" + str(i+1) \\\n",
    "                             + \" Training Accuracy:\" + str(correct_so_far * 100 / float(i+1))[:4] + \"%\")\n",
    "            if(i % 2500 == 0):\n",
    "                print(\"\")\n",
    "    \n",
    "    def test(self, testing_reviews, testing_labels):\n",
    "        \"\"\"\n",
    "        Attempts to predict the labels for the given testing_reviews,\n",
    "        and uses the test_labels to calculate the accuracy of those predictions.\n",
    "        \"\"\"\n",
    "        \n",
    "        # keep track of how many correct predictions we make\n",
    "        correct = 0\n",
    "\n",
    "        # we'll time how many predictions per second we make\n",
    "        start = time.time()\n",
    "\n",
    "        # Loop through each of the given reviews and call run to predict\n",
    "        # its label. \n",
    "        for i in range(len(testing_reviews)):\n",
    "            pred = self.run(testing_reviews[i])\n",
    "            if(pred == testing_labels[i]):\n",
    "                correct += 1\n",
    "            \n",
    "            # For debug purposes, print out our prediction accuracy and speed \n",
    "            # throughout the prediction process. \n",
    "\n",
    "            elapsed_time = float(time.time() - start)\n",
    "            reviews_per_second = i / elapsed_time if elapsed_time > 0 else 0\n",
    "            \n",
    "            sys.stdout.write(\"\\rProgress:\" + str(100 * i/float(len(testing_reviews)))[:4] \\\n",
    "                             + \"% Speed(reviews/sec):\" + str(reviews_per_second)[0:5] \\\n",
    "                             + \" #Correct:\" + str(correct) + \" #Tested:\" + str(i+1) \\\n",
    "                             + \" Testing Accuracy:\" + str(correct * 100 / float(i+1))[:4] + \"%\")\n",
    "    \n",
    "    def run(self, review):\n",
    "        \"\"\"\n",
    "        Returns a POSITIVE or NEGATIVE prediction for the given review.\n",
    "        \"\"\"\n",
    "        # Run a forward pass through the network, like in the \"train\" function.\n",
    "        \n",
    "        ## New for Project 5: Removed call to update_input_layer function\n",
    "        #                     because layer_0 is no longer used\n",
    "\n",
    "        # Hidden layer\n",
    "        ## New for Project 5: Identify the indices used in the review and then add\n",
    "        #                     just those weights to layer_1 \n",
    "        self.layer_1 *= 0\n",
    "        unique_indices = set()\n",
    "        for word in review.lower().split(\" \"):\n",
    "            if word in self.word2index.keys():\n",
    "                unique_indices.add(self.word2index[word])\n",
    "        for index in unique_indices:\n",
    "            self.layer_1 += self.weights_0_1[index:index+1].T \n",
    "\n",
    "        \n",
    "        # Output layer\n",
    "        ## New for Project 5: changed to use self.layer_1 instead of local layer_1\n",
    "        layer_2 = self.sigmoid(np.matmul(self.weights_1_2.T, self.layer_1))\n",
    "        \n",
    "        # Return POSITIVE for values above greater-than-or-equal-to 0.5 in the output layer;\n",
    "        # return NEGATIVE for other values\n",
    "        if(layer_2[0] >= 0.5):\n",
    "            return \"POSITIVE\"\n",
    "        else:\n",
    "            return \"NEGATIVE\""
   ]
  },
  {
   "cell_type": "markdown",
   "metadata": {},
   "source": [
    "Run the following cell to train your network with a small polarity cutoff."
   ]
  },
  {
   "cell_type": "code",
   "execution_count": 16,
   "metadata": {
    "collapsed": true
   },
   "outputs": [
    {
     "output_type": "stream",
     "name": "stdout",
     "text": [
      "Progress:0.0% Speed(reviews/sec):0.0 #Correct:1 #Trained:1 Training Accuracy:100.%\n",
      "Progress:10.4% Speed(reviews/sec):1701. #Correct:1936 #Trained:2501 Training Accuracy:77.4%\n",
      "Progress:20.8% Speed(reviews/sec):1696. #Correct:3995 #Trained:5001 Training Accuracy:79.8%\n",
      "Progress:31.2% Speed(reviews/sec):1702. #Correct:6109 #Trained:7501 Training Accuracy:81.4%\n",
      "Progress:41.6% Speed(reviews/sec):1718. #Correct:8262 #Trained:10001 Training Accuracy:82.6%\n",
      "Progress:52.0% Speed(reviews/sec):1717. #Correct:10418 #Trained:12501 Training Accuracy:83.3%\n",
      "Progress:62.5% Speed(reviews/sec):1721. #Correct:12536 #Trained:15001 Training Accuracy:83.5%\n",
      "Progress:72.9% Speed(reviews/sec):1714. #Correct:14659 #Trained:17501 Training Accuracy:83.7%\n",
      "Progress:83.3% Speed(reviews/sec):1712. #Correct:16846 #Trained:20001 Training Accuracy:84.2%\n",
      "Progress:93.7% Speed(reviews/sec):1705. #Correct:19030 #Trained:22501 Training Accuracy:84.5%\n",
      "Progress:99.9% Speed(reviews/sec):1702. #Correct:20354 #Trained:24000 Training Accuracy:84.8%"
     ]
    }
   ],
   "source": [
    "mlp = SentimentNetwork(reviews[:-1000],labels[:-1000],min_count=20,polarity_cutoff=0.05,learning_rate=0.01)\n",
    "mlp.train(reviews[:-1000],labels[:-1000])"
   ]
  },
  {
   "cell_type": "markdown",
   "metadata": {},
   "source": [
    "And run the following cell to test it's performance. It should be "
   ]
  },
  {
   "cell_type": "code",
   "execution_count": 17,
   "metadata": {
    "collapsed": true
   },
   "outputs": [
    {
     "output_type": "stream",
     "name": "stdout",
     "text": [
      "Progress:99.9% Speed(reviews/sec):3035. #Correct:853 #Tested:1000 Testing Accuracy:85.3%"
     ]
    }
   ],
   "source": [
    "mlp.test(reviews[-1000:],labels[-1000:])"
   ]
  },
  {
   "cell_type": "markdown",
   "metadata": {},
   "source": [
    "Run the following cell to train your network with a much larger polarity cutoff."
   ]
  },
  {
   "cell_type": "code",
   "execution_count": 18,
   "metadata": {
    "collapsed": true
   },
   "outputs": [
    {
     "output_type": "stream",
     "name": "stdout",
     "text": [
      "Progress:0.0% Speed(reviews/sec):0 #Correct:1 #Trained:1 Training Accuracy:100.%\n",
      "Progress:10.4% Speed(reviews/sec):2227. #Correct:1742 #Trained:2501 Training Accuracy:69.6%\n",
      "Progress:20.8% Speed(reviews/sec):2157. #Correct:3568 #Trained:5001 Training Accuracy:71.3%\n",
      "Progress:31.2% Speed(reviews/sec):2174. #Correct:5476 #Trained:7501 Training Accuracy:73.0%\n",
      "Progress:41.6% Speed(reviews/sec):2175. #Correct:7442 #Trained:10001 Training Accuracy:74.4%\n",
      "Progress:52.0% Speed(reviews/sec):2177. #Correct:9370 #Trained:12501 Training Accuracy:74.9%\n",
      "Progress:62.5% Speed(reviews/sec):2172. #Correct:11309 #Trained:15001 Training Accuracy:75.3%\n",
      "Progress:72.9% Speed(reviews/sec):2162. #Correct:13224 #Trained:17501 Training Accuracy:75.5%\n",
      "Progress:83.3% Speed(reviews/sec):2162. #Correct:15200 #Trained:20001 Training Accuracy:75.9%\n",
      "Progress:93.7% Speed(reviews/sec):2153. #Correct:17189 #Trained:22501 Training Accuracy:76.3%\n",
      "Progress:99.9% Speed(reviews/sec):2153. #Correct:18371 #Trained:24000 Training Accuracy:76.5%"
     ]
    }
   ],
   "source": [
    "mlp = SentimentNetwork(reviews[:-1000],labels[:-1000],min_count=20,polarity_cutoff=0.8,learning_rate=0.01)\n",
    "mlp.train(reviews[:-1000],labels[:-1000])"
   ]
  },
  {
   "cell_type": "markdown",
   "metadata": {},
   "source": [
    "And run the following cell to test it's performance."
   ]
  },
  {
   "cell_type": "code",
   "execution_count": 19,
   "metadata": {
    "collapsed": true
   },
   "outputs": [
    {
     "output_type": "stream",
     "name": "stdout",
     "text": [
      "Progress:99.9% Speed(reviews/sec):3492. #Correct:770 #Tested:1000 Testing Accuracy:77.0%"
     ]
    }
   ],
   "source": [
    "mlp.test(reviews[-1000:],labels[-1000:])"
   ]
  },
  {
   "cell_type": "markdown",
   "metadata": {},
   "source": [
    "# End of Project 6. \n",
    "## Watch the next video to see Andrew's solution, then continue on to the next lesson."
   ]
  },
  {
   "cell_type": "markdown",
   "metadata": {
    "collapsed": true
   },
   "source": [
    "# Analysis: What's Going on in the Weights?<a id='lesson_7'></a>"
   ]
  },
  {
   "cell_type": "code",
   "execution_count": null,
   "metadata": {
    "collapsed": true
   },
   "outputs": [],
   "source": [
    "mlp_full = SentimentNetwork(reviews[:-1000],labels[:-1000],min_count=0,polarity_cutoff=0,learning_rate=0.01)"
   ]
  },
  {
   "cell_type": "code",
   "execution_count": null,
   "metadata": {
    "collapsed": true
   },
   "outputs": [],
   "source": [
    "mlp_full.train(reviews[:-1000],labels[:-1000])"
   ]
  },
  {
   "cell_type": "code",
   "execution_count": null,
   "metadata": {
    "collapsed": true
   },
   "outputs": [],
   "source": [
    "Image(filename='sentiment_network_sparse.png')"
   ]
  },
  {
   "cell_type": "code",
   "execution_count": null,
   "metadata": {
    "collapsed": true
   },
   "outputs": [],
   "source": [
    "def get_most_similar_words(focus = \"horrible\"):\n",
    "    most_similar = Counter()\n",
    "\n",
    "    for word in mlp_full.word2index.keys():\n",
    "        most_similar[word] = np.dot(mlp_full.weights_0_1[mlp_full.word2index[word]],mlp_full.weights_0_1[mlp_full.word2index[focus]])\n",
    "    \n",
    "    return most_similar.most_common()"
   ]
  },
  {
   "cell_type": "code",
   "execution_count": null,
   "metadata": {
    "collapsed": true
   },
   "outputs": [],
   "source": [
    "get_most_similar_words(\"excellent\")"
   ]
  },
  {
   "cell_type": "code",
   "execution_count": null,
   "metadata": {
    "collapsed": true
   },
   "outputs": [],
   "source": [
    "get_most_similar_words(\"terrible\")"
   ]
  },
  {
   "cell_type": "code",
   "execution_count": null,
   "metadata": {
    "collapsed": true
   },
   "outputs": [],
   "source": [
    "import matplotlib.colors as colors\n",
    "\n",
    "words_to_visualize = list()\n",
    "for word, ratio in pos_neg_ratios.most_common(500):\n",
    "    if(word in mlp_full.word2index.keys()):\n",
    "        words_to_visualize.append(word)\n",
    "    \n",
    "for word, ratio in list(reversed(pos_neg_ratios.most_common()))[0:500]:\n",
    "    if(word in mlp_full.word2index.keys()):\n",
    "        words_to_visualize.append(word)"
   ]
  },
  {
   "cell_type": "code",
   "execution_count": null,
   "metadata": {
    "collapsed": true
   },
   "outputs": [],
   "source": [
    "pos = 0\n",
    "neg = 0\n",
    "\n",
    "colors_list = list()\n",
    "vectors_list = list()\n",
    "for word in words_to_visualize:\n",
    "    if word in pos_neg_ratios.keys():\n",
    "        vectors_list.append(mlp_full.weights_0_1[mlp_full.word2index[word]])\n",
    "        if(pos_neg_ratios[word] > 0):\n",
    "            pos+=1\n",
    "            colors_list.append(\"#00ff00\")\n",
    "        else:\n",
    "            neg+=1\n",
    "            colors_list.append(\"#000000\")"
   ]
  },
  {
   "cell_type": "code",
   "execution_count": null,
   "metadata": {
    "collapsed": true
   },
   "outputs": [],
   "source": [
    "from sklearn.manifold import TSNE\n",
    "tsne = TSNE(n_components=2, random_state=0)\n",
    "words_top_ted_tsne = tsne.fit_transform(vectors_list)"
   ]
  },
  {
   "cell_type": "code",
   "execution_count": null,
   "metadata": {
    "collapsed": true
   },
   "outputs": [],
   "source": [
    "p = figure(tools=\"pan,wheel_zoom,reset,save\",\n",
    "           toolbar_location=\"above\",\n",
    "           title=\"vector T-SNE for most polarized words\")\n",
    "\n",
    "source = ColumnDataSource(data=dict(x1=words_top_ted_tsne[:,0],\n",
    "                                    x2=words_top_ted_tsne[:,1],\n",
    "                                    names=words_to_visualize,\n",
    "                                    color=colors_list))\n",
    "\n",
    "p.scatter(x=\"x1\", y=\"x2\", size=8, source=source, fill_color=\"color\")\n",
    "\n",
    "word_labels = LabelSet(x=\"x1\", y=\"x2\", text=\"names\", y_offset=6,\n",
    "                  text_font_size=\"8pt\", text_color=\"#555555\",\n",
    "                  source=source, text_align='center')\n",
    "p.add_layout(word_labels)\n",
    "\n",
    "show(p)\n",
    "\n",
    "# green indicates positive words, black indicates negative words"
   ]
  }
 ],
 "metadata": {
  "anaconda-cloud": {},
  "kernelspec": {
   "name": "python3",
   "display_name": "Python 3.8.5 64-bit ('python_38': conda)",
   "metadata": {
    "interpreter": {
     "hash": "0e818cdeeaa6ff7d39f4a47e7382e5e82790aa3160482f0c42e2c18450bf2f3a"
    }
   }
  },
  "language_info": {
   "codemirror_mode": {
    "name": "ipython",
    "version": 3
   },
   "file_extension": ".py",
   "mimetype": "text/x-python",
   "name": "python",
   "nbconvert_exporter": "python",
   "pygments_lexer": "ipython3",
   "version": "3.8.5-final"
  }
 },
 "nbformat": 4,
 "nbformat_minor": 1
}