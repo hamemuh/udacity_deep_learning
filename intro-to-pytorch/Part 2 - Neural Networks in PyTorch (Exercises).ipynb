{
 "cells": [
  {
   "cell_type": "markdown",
   "metadata": {},
   "source": [
    "# Neural networks with PyTorch\n",
    "\n",
    "Deep learning networks tend to be massive with dozens or hundreds of layers, that's where the term \"deep\" comes from. You can build one of these deep networks using only weight matrices as we did in the previous notebook, but in general it's very cumbersome and difficult to implement. PyTorch has a nice module `nn` that provides a nice way to efficiently build large neural networks."
   ]
  },
  {
   "cell_type": "code",
   "execution_count": 2,
   "metadata": {
    "collapsed": true
   },
   "outputs": [],
   "source": [
    "# Import necessary packages\n",
    "\n",
    "%matplotlib inline\n",
    "%config InlineBackend.figure_format = 'retina'\n",
    "\n",
    "import numpy as np\n",
    "import torch\n",
    "\n",
    "import helper\n",
    "\n",
    "import matplotlib.pyplot as plt"
   ]
  },
  {
   "cell_type": "markdown",
   "metadata": {},
   "source": [
    "\n",
    "Now we're going to build a larger network that can solve a (formerly) difficult problem, identifying text in an image. Here we'll use the MNIST dataset which consists of greyscale handwritten digits. Each image is 28x28 pixels, you can see a sample below\n",
    "\n",
    "<img src='assets/mnist.png'>\n",
    "\n",
    "Our goal is to build a neural network that can take one of these images and predict the digit in the image.\n",
    "\n",
    "First up, we need to get our dataset. This is provided through the `torchvision` package. The code below will download the MNIST dataset, then create training and test datasets for us. Don't worry too much about the details here, you'll learn more about this later."
   ]
  },
  {
   "cell_type": "code",
   "execution_count": 4,
   "metadata": {
    "collapsed": true
   },
   "outputs": [
    {
     "output_type": "stream",
     "name": "stdout",
     "text": [
      "Downloading http://yann.lecun.com/exdb/mnist/train-images-idx3-ubyte.gz to C:\\Users\\muham/.pytorch/MNIST_data/MNIST\\raw\\train-images-idx3-ubyte.gz\n",
      "100.1%Extracting C:\\Users\\muham/.pytorch/MNIST_data/MNIST\\raw\\train-images-idx3-ubyte.gz to C:\\Users\\muham/.pytorch/MNIST_data/MNIST\\raw\n",
      "0.0%Downloading http://yann.lecun.com/exdb/mnist/train-labels-idx1-ubyte.gz to C:\\Users\\muham/.pytorch/MNIST_data/MNIST\\raw\\train-labels-idx1-ubyte.gz\n",
      "113.5%Extracting C:\\Users\\muham/.pytorch/MNIST_data/MNIST\\raw\\train-labels-idx1-ubyte.gz to C:\\Users\\muham/.pytorch/MNIST_data/MNIST\\raw\n",
      "Downloading http://yann.lecun.com/exdb/mnist/t10k-images-idx3-ubyte.gz to C:\\Users\\muham/.pytorch/MNIST_data/MNIST\\raw\\t10k-images-idx3-ubyte.gz\n",
      "100.4%Extracting C:\\Users\\muham/.pytorch/MNIST_data/MNIST\\raw\\t10k-images-idx3-ubyte.gz to C:\\Users\\muham/.pytorch/MNIST_data/MNIST\\raw\n",
      "Downloading http://yann.lecun.com/exdb/mnist/t10k-labels-idx1-ubyte.gz to C:\\Users\\muham/.pytorch/MNIST_data/MNIST\\raw\\t10k-labels-idx1-ubyte.gz\n",
      "180.4%Extracting C:\\Users\\muham/.pytorch/MNIST_data/MNIST\\raw\\t10k-labels-idx1-ubyte.gz to C:\\Users\\muham/.pytorch/MNIST_data/MNIST\\raw\n",
      "Processing...\n",
      "Done!\n"
     ]
    }
   ],
   "source": [
    "### Run this cell\n",
    "\n",
    "from torchvision import datasets, transforms\n",
    "\n",
    "# Define a transform to normalize the data\n",
    "transform = transforms.Compose([transforms.ToTensor(),\n",
    "                              transforms.Normalize((0.5,), (0.5,)),\n",
    "                              ])\n",
    "\n",
    "# Download and load the training data\n",
    "trainset = datasets.MNIST('~/.pytorch/MNIST_data/', download=True, train=True, transform=transform)\n",
    "trainloader = torch.utils.data.DataLoader(trainset, batch_size=64, shuffle=True)"
   ]
  },
  {
   "cell_type": "markdown",
   "metadata": {},
   "source": [
    "We have the training data loaded into `trainloader` and we make that an iterator with `iter(trainloader)`. Later, we'll use this to loop through the dataset for training, like\n",
    "\n",
    "```python\n",
    "for image, label in trainloader:\n",
    "    ## do things with images and labels\n",
    "```\n",
    "\n",
    "You'll notice I created the `trainloader` with a batch size of 64, and `shuffle=True`. The batch size is the number of images we get in one iteration from the data loader and pass through our network, often called a *batch*. And `shuffle=True` tells it to shuffle the dataset every time we start going through the data loader again. But here I'm just grabbing the first batch so we can check out the data. We can see below that `images` is just a tensor with size `(64, 1, 28, 28)`. So, 64 images per batch, 1 color channel, and 28x28 images."
   ]
  },
  {
   "cell_type": "code",
   "execution_count": 5,
   "metadata": {
    "collapsed": true
   },
   "outputs": [
    {
     "output_type": "stream",
     "name": "stdout",
     "text": [
      "<class 'torch.Tensor'>\ntorch.Size([64, 1, 28, 28])\ntorch.Size([64])\n"
     ]
    }
   ],
   "source": [
    "dataiter = iter(trainloader)\n",
    "images, labels = dataiter.next()\n",
    "print(type(images))\n",
    "print(images.shape)\n",
    "print(labels.shape)"
   ]
  },
  {
   "cell_type": "markdown",
   "metadata": {},
   "source": [
    "This is what one of the images looks like. "
   ]
  },
  {
   "cell_type": "code",
   "execution_count": 6,
   "metadata": {
    "collapsed": true
   },
   "outputs": [
    {
     "output_type": "display_data",
     "data": {
      "text/plain": "<Figure size 432x288 with 1 Axes>",
      "image/png": "[encoded data removed]"
     },
     "metadata": {
      "image/png": {
       "width": 251,
       "height": 248
      },
      "needs_background": "light"
     }
    }
   ],
   "source": [
    "plt.imshow(images[1].numpy().squeeze(), cmap='Greys_r');"
   ]
  },
  {
   "cell_type": "markdown",
   "metadata": {},
   "source": [
    "First, let's try to build a simple network for this dataset using weight matrices and matrix multiplications. Then, we'll see how to do it using PyTorch's `nn` module which provides a much more convenient and powerful method for defining network architectures.\n",
    "\n",
    "The networks you've seen so far are called *fully-connected* or *dense* networks. Each unit in one layer is connected to each unit in the next layer. In fully-connected networks, the input to each layer must be a one-dimensional vector (which can be stacked into a 2D tensor as a batch of multiple examples). However, our images are 28x28 2D tensors, so we need to convert them into 1D vectors. Thinking about sizes, we need to convert the batch of images with shape `(64, 1, 28, 28)` to a have a shape of `(64, 784)`, 784 is 28 times 28. This is typically called *flattening*, we flattened the 2D images into 1D vectors.\n",
    "\n",
    "Previously you built a network with one output unit. Here we need 10 output units, one for each digit. We want our network to predict the digit shown in an image, so what we'll do is calculate probabilities that the image is of any one digit or class. This ends up being a discrete probability distribution over the classes (digits) that tells us the most likely class for the image. That means we need 10 output units for the 10 classes (digits). We'll see how to convert the network output into a probability distribution next.\n",
    "\n",
    "> **Exercise:** Flatten the batch of images `images`. Then build a multi-layer network with 784 input units, 256 hidden units, and 10 output units using random tensors for the weights and biases. For now, use a sigmoid activation for the hidden layer. Leave the output layer without an activation, we'll add one that gives us a probability distribution next."
   ]
  },
  {
   "cell_type": "code",
   "execution_count": 10,
   "metadata": {
    "collapsed": true
   },
   "outputs": [],
   "source": [
    "## Your solution\n",
    "import torch\n",
    "def sigmoid_func(x):\n",
    "    return 1 / (1 + torch.exp(-x))\n",
    "\n",
    "n_inputs = 784\n",
    "n_hidden = 256\n",
    "n_output = 10\n",
    "\n",
    "weights_i_h = torch.randn(n_inputs, n_hidden)\n",
    "weights_h_o = torch.randn(n_hidden, n_output)\n",
    "bias_i_h = torch.randn((1,n_hidden))\n",
    "bias_h_o = torch.randn((1,n_output))\n",
    "\n",
    "inputs = images.view(64, 784)\n",
    "# pytorch can infer what the flattened size should be using images.view(images.shape[0], -1)\n",
    "hidden_units = sigmoid_func(torch.mm(inputs, weights_i_h) + bias_i_h)\n",
    "out = torch.mm(hidden_units, weights_h_o) + bias_h_o"
   ]
  },
  {
   "cell_type": "code",
   "execution_count": 15,
   "metadata": {},
   "outputs": [
    {
     "output_type": "stream",
     "name": "stdout",
     "text": [
      "torch.Size([64, 10])\ntensor([[-1.1154e+00,  6.9811e+00,  5.1766e+00, -7.8968e+00,  5.2220e+00,\n          4.8078e+00,  8.6053e-01,  2.3082e+01, -4.0287e+00,  2.7995e-01],\n        [-2.4215e+00,  1.0102e+01,  1.5100e+01, -8.9018e+00,  4.7136e+00,\n         -5.9292e+00, -1.2099e+01,  2.7667e+01, -6.4005e+00, -8.6527e-01],\n        [-1.4922e+01,  1.6798e+01,  1.7350e+01, -1.3265e+01,  5.7880e+00,\n          3.7599e+00, -8.9042e+00,  2.4254e+01, -5.6328e+00,  1.9291e+00],\n        [ 3.9546e+00, -1.1278e+00,  1.2747e+01,  4.8007e+00,  1.8935e+01,\n          1.7638e+00,  2.9815e+00,  2.4106e+01, -1.7654e+01,  1.1017e+01],\n        [-7.3716e+00, -3.3671e+00,  2.6072e+00, -8.2463e+00,  1.3857e+01,\n         -4.3876e+00,  7.5597e+00,  1.9599e+01, -5.5144e+00,  6.6345e+00],\n        [ 4.0008e+00, -8.2847e-01,  8.7725e-01, -8.3661e+00,  1.4173e+01,\n          8.0361e-01, -1.6443e+00,  1.1754e+01, -5.8263e+00, -5.7332e+00],\n        [ 5.2787e+00,  4.1682e+00,  1.8060e+01, -9.3915e+00,  7.5863e+00,\n          3.8133e+00, -3.0475e+00,  3.4714e+01, -7.8501e+00,  4.1263e+00],\n        [ 4.5001e+00,  7.5026e+00,  1.0069e+01, -2.6280e+00,  7.2717e+00,\n         -3.2069e+00, -8.1762e+00,  1.5079e+01,  6.5937e-01, -8.1164e-01],\n        [-7.6464e+00,  1.3052e+00,  8.4470e+00, -7.9678e+00,  1.0243e+01,\n         -6.8745e+00, -1.2933e+00,  1.9397e+01, -8.8785e+00,  4.2030e+00],\n        [-1.8916e+00,  1.0291e+01,  1.5860e+01, -5.2202e+00,  1.0345e+01,\n          5.7574e+00, -6.1909e+00,  1.9762e+01, -3.5138e+00,  3.7881e+00],\n        [-4.4907e+00,  4.6177e+00,  6.9343e+00, -7.5164e+00, -7.0004e+00,\n         -3.5580e-01,  7.0905e+00,  2.0840e+01, -8.6520e+00,  2.8930e+00],\n        [ 7.9979e-01,  5.2426e+00,  8.0841e+00, -1.0031e+01,  8.6186e+00,\n         -8.6886e+00, -8.3837e+00,  1.9332e+01, -1.3303e+01,  1.0769e+01],\n        [-8.0164e+00,  1.0706e+01,  1.2651e+01, -9.2502e+00,  7.8414e+00,\n         -3.4481e+00,  3.9509e+00,  2.6956e+01, -1.5997e-01, -1.1212e+00],\n        [ 2.0310e+00, -1.2251e+00,  9.9435e+00, -9.6607e+00,  2.1526e+01,\n         -3.3096e+00,  4.4746e-01,  2.6561e+01, -1.5056e+01,  7.3103e+00],\n        [-9.1840e+00,  1.7598e+01,  1.6260e+01, -5.4026e+00,  1.7873e+00,\n         -1.3351e+00, -5.9417e+00,  3.0865e+01, -7.2846e+00, -4.4820e+00],\n        [-1.1008e+01,  2.2395e+00,  8.0016e+00, -9.7438e+00,  4.0140e+00,\n          9.0253e-01,  1.9606e+00,  2.2493e+01, -2.0680e+00,  4.0702e+00],\n        [-3.5527e+00,  2.7825e+00,  9.4448e+00, -1.5905e+01, -2.5607e-01,\n         -2.4689e+00, -7.8512e-01,  2.1633e+01, -8.9238e+00,  3.0318e+00],\n        [-3.8875e+00,  9.7742e+00,  1.0607e+01, -8.4298e+00,  1.3089e+01,\n          2.4702e+00, -4.8651e+00,  2.6779e+01, -1.3029e+01, -2.1631e+00],\n        [ 4.7503e+00,  4.4230e+00,  1.5436e+01,  5.4387e+00,  1.6168e+01,\n         -3.4132e+00,  3.4118e+00,  2.5848e+01, -1.0235e+01,  2.4929e+00],\n        [-7.0452e+00,  7.0864e+00,  1.4776e+01, -3.9283e+00,  8.6382e+00,\n          1.0818e+00,  2.4174e+00,  2.1542e+01, -1.4312e+01, -7.1285e+00],\n        [ 1.2551e+00,  1.1512e+01,  1.0710e+01, -7.3041e+00,  1.1240e+00,\n          2.2504e+00,  2.2709e+00,  1.8313e+01, -2.9148e+00, -3.1592e-01],\n        [-5.5399e+00, -3.1145e+00,  4.3071e+00, -3.6445e+00,  8.1589e+00,\n          5.9842e+00, -1.3617e+00,  6.6772e+00, -7.2287e+00,  1.0147e+01],\n        [-4.8195e-01,  1.4718e+01,  1.2092e+01, -5.4505e+00,  9.9861e+00,\n          2.0902e+00, -3.5271e+00,  3.5192e+01, -1.1487e+01,  1.3503e+01],\n        [-3.3768e+00,  2.9588e+00,  7.0969e+00, -6.2001e+00,  6.8874e+00,\n         -1.3947e+00,  1.3884e+00,  1.4935e+01, -7.6306e+00,  9.7533e+00],\n        [-8.6190e+00,  1.3647e+01,  1.6080e+00, -8.5743e+00,  7.6147e+00,\n          3.5254e+00, -9.5471e+00,  2.3648e+01,  8.2981e-01,  1.0894e+01],\n        [-4.2821e+00,  2.7985e+00,  1.7488e+01, -6.2028e+00,  1.5678e+01,\n          6.4783e+00, -2.5540e+00,  1.9927e+01, -1.3114e+01,  1.3177e+01],\n        [-3.9993e+00,  2.6262e+00,  1.7453e+01, -9.9027e+00,  1.0791e+01,\n          9.1217e-01,  4.0225e+00,  3.1043e+01, -9.4991e+00,  2.7964e+00],\n        [-6.4273e+00,  5.3080e+00,  5.0983e+00, -7.9013e+00,  7.3261e+00,\n          7.3154e-01, -3.1432e+00,  1.7967e+01, -3.5624e+00,  2.7907e-01],\n        [-7.1312e+00,  3.3273e+00,  9.3835e+00, -5.2686e+00,  1.1397e+01,\n          3.5852e-01, -1.3450e+00,  1.7306e+01, -8.6391e+00,  1.5046e+01],\n        [-5.7862e+00,  3.8964e+00,  1.5088e+01, -3.1319e+00,  2.7605e+00,\n         -5.4000e+00, -9.2185e+00,  2.7434e+01, -1.4602e+01,  2.1904e+00],\n        [-6.5267e+00,  7.3235e+00,  1.7301e+01, -1.8167e+00,  1.0132e+01,\n         -5.7957e+00,  5.3559e+00,  2.0831e+01, -4.0907e+00,  2.3486e+00],\n        [-9.6912e+00,  8.5640e+00,  1.5479e+00, -7.2417e+00,  6.7461e+00,\n          6.9349e+00, -3.2787e+00,  2.3245e+01,  1.6281e+00,  7.6758e+00],\n        [-5.8252e+00,  2.8190e+00,  1.5257e+01, -6.6057e-01,  3.5224e+00,\n         -5.6992e-01, -1.3279e+00,  2.4327e+01, -1.0971e+01,  5.5834e+00],\n        [-6.0968e+00, -2.1699e-01,  1.2113e+01, -5.7098e+00,  1.1813e+01,\n         -1.1850e+01,  5.5829e-01,  2.6885e+01, -2.2430e+00,  5.0513e+00],\n        [-4.0118e-02,  1.1239e+01,  1.8790e+01, -8.1622e+00,  1.2822e+01,\n         -1.1444e+01,  1.9076e+00,  2.1011e+01, -4.6130e+00,  8.6057e-01],\n        [-3.2895e+00,  4.1032e+00,  1.6063e+01, -1.8828e+00,  7.1813e+00,\n          1.0918e+01,  2.5895e+00,  2.2704e+01, -8.1475e+00,  1.0354e+01],\n        [-1.2502e+00,  1.0465e+00,  3.1141e+00, -1.4143e+01,  1.1835e+01,\n          2.5316e+00,  6.5973e+00,  2.1134e+01, -2.2860e+00,  5.4605e+00],\n        [-1.9668e+00,  1.1648e+01,  1.2591e+01, -4.6975e+00,  7.4628e+00,\n          1.1435e+00, -6.2316e+00,  2.7175e+01, -5.9091e+00, -1.0961e+00],\n        [-1.3524e+00, -1.5897e+00,  1.0152e+01, -9.7374e-01,  1.4698e+00,\n          9.2227e-03,  5.7952e-01,  1.8999e+01, -8.1733e+00, -2.9435e-01],\n        [-1.2403e+00,  3.2296e+00,  6.0363e+00, -8.8598e+00,  1.7882e+01,\n         -9.0602e-01,  7.2696e+00,  1.6000e+01, -1.1686e+01,  8.2474e+00],\n        [-3.3289e+00,  1.9138e+00,  7.6259e+00, -2.0666e+00,  7.4634e+00,\n          1.0684e+01, -7.5635e+00,  2.2657e+01, -1.0006e+01,  5.1607e+00],\n        [ 3.1000e+00, -1.2589e+00,  1.1187e+01,  1.4222e+00,  1.8143e+01,\n          1.1812e+00,  5.3234e+00,  1.7959e+01, -1.4264e+01,  1.9426e+00],\n        [-1.3575e+00,  2.2402e+00,  1.7039e+01,  5.2510e-01,  1.4750e+01,\n          4.7685e+00,  6.7140e+00,  1.3836e+01, -1.7225e+01,  2.5088e+00],\n        [-3.7789e+00,  2.7910e+00,  9.0889e+00, -2.1497e+00,  8.1974e+00,\n         -1.4603e+00, -1.0998e+01,  1.9661e+01, -6.7608e+00,  6.6324e+00],\n        [ 5.8606e-01,  1.8513e+00,  6.9828e+00,  1.5448e+00,  1.9957e+01,\n          1.9840e+00,  1.7028e+00,  2.3072e+01, -1.0990e+01,  8.2530e+00],\n        [-2.0630e+00,  2.9403e+00,  6.3410e+00, -5.4846e+00,  8.0508e+00,\n          6.5192e+00, -4.1175e+00,  2.2731e+01, -6.5656e+00,  1.0764e+00],\n        [-1.6446e+01,  9.9443e+00,  1.7460e+01, -5.0919e+00,  9.5512e-02,\n          3.0453e+00, -4.5770e+00,  3.1327e+01, -1.1004e+01,  9.6175e+00],\n        [ 5.0014e+00,  1.7995e+00,  7.6442e+00,  2.1747e+00,  1.6961e+01,\n          2.7505e+00, -5.9961e+00,  1.8116e+01,  6.0228e-02,  1.9083e+00],\n        [-1.9087e+00,  1.0297e+01,  1.3078e+01, -3.8065e+00,  1.2380e+01,\n         -2.3306e+00,  6.1089e+00,  2.1047e+01, -1.0381e+01,  1.4025e+00],\n        [ 8.3347e+00,  1.4172e+01,  8.3501e+00, -7.7717e+00,  7.7521e+00,\n          5.5208e+00, -9.2408e+00,  2.2988e+01, -5.6256e+00,  2.9856e+00],\n        [-5.1788e+00,  6.0566e+00,  1.2163e+01, -5.4408e+00,  2.3756e+00,\n          5.3061e+00,  7.4332e-01,  2.1967e+01, -4.2107e+00, -5.9566e+00],\n        [-2.8565e+00,  1.4115e+01,  1.4323e+01, -3.4097e-01,  1.1577e+01,\n         -1.2317e+01,  1.1099e+00,  2.8312e+01, -2.5456e+00,  2.3373e+00],\n        [ 3.6166e+00,  9.8897e+00,  1.7367e+01, -6.4542e+00,  1.6878e+01,\n         -5.1429e+00,  6.5600e+00,  2.1144e+01, -1.0068e+01,  4.7483e+00],\n        [ 5.7946e-01,  4.9769e+00,  1.2174e+01,  2.5453e+00,  9.9775e+00,\n          2.5727e+00,  6.9286e+00,  9.0117e+00, -1.0248e+01,  5.1488e+00],\n        [-5.9392e+00,  1.1304e+01,  1.2368e+01, -8.9883e-01, -6.5168e-01,\n          2.0794e+00, -8.3480e+00,  3.2435e+01, -5.6779e+00,  2.9881e+00],\n        [ 2.8495e+00,  1.6199e+01,  1.5343e+01, -3.2940e+00,  4.5130e+00,\n          3.0865e+00, -1.0832e+00,  2.0764e+01, -7.6530e+00, -2.5629e+00],\n        [-3.7471e+00,  5.6457e+00,  2.1850e+01, -1.8352e+01,  1.2124e+01,\n         -5.4644e-01,  4.1390e+00,  2.7023e+01, -5.5407e+00, -8.8277e+00],\n        [-7.2849e+00,  1.8469e+00,  1.1269e+01, -3.7265e+00,  1.0405e+01,\n         -1.3530e+01,  6.5099e+00,  1.8199e+01, -4.4808e+00,  1.3113e+01],\n        [-1.9109e+00,  2.0377e+00,  3.2573e+00,  6.6351e-01,  1.6640e+01,\n          7.4194e+00, -4.8710e+00,  2.4530e+01, -3.3531e+00, -6.5494e-01],\n        [-6.8315e+00,  1.4421e+01,  1.6860e+01, -8.3904e+00,  1.0208e+01,\n          2.2728e+00, -3.0998e+00,  2.3889e+01, -3.7382e+00,  7.9013e+00],\n        [-8.6351e+00,  7.3353e+00,  1.1929e+01, -8.7450e+00,  1.3309e+01,\n         -5.8443e+00, -1.9373e+00,  2.5596e+01, -9.9684e+00,  1.1461e+01],\n        [-8.4808e-02, -1.7372e+00,  1.4694e+01, -3.3385e+00,  1.1290e+01,\n         -1.7846e+00,  1.6883e-01,  1.5396e+01, -7.8778e+00,  2.1727e+00],\n        [-1.0927e+01,  4.0949e+00,  1.0589e+01, -9.2375e+00,  1.0249e+01,\n         -2.0761e-01, -2.9122e+00,  2.0221e+01, -2.4199e-02, -2.3273e+00],\n        [ 2.5850e-01,  1.0585e+01,  7.0965e+00, -3.6202e+00,  1.3108e+01,\n          4.6730e+00, -9.8361e-01,  2.8368e+01, -8.2919e+00,  1.2336e+00]])\n"
     ]
    }
   ],
   "source": [
    "print(out.shape)\n",
    "print(out)"
   ]
  },
  {
   "cell_type": "markdown",
   "metadata": {},
   "source": [
    "Now we have 10 outputs for our network. We want to pass in an image to our network and get out a probability distribution over the classes that tells us the likely class(es) the image belongs to. Something that looks like this:\n",
    "<img src='assets/image_distribution.png' width=500px>\n",
    "\n",
    "Here we see that the probability for each class is roughly the same. This is representing an untrained network, it hasn't seen any data yet so it just returns a uniform distribution with equal probabilities for each class.\n",
    "\n",
    "To calculate this probability distribution, we often use the [**softmax** function](https://en.wikipedia.org/wiki/Softmax_function). Mathematically this looks like\n",
    "\n",
    "$$\n",
    "\\Large \\sigma(x_i) = \\cfrac{e^{x_i}}{\\sum_k^K{e^{x_k}}}\n",
    "$$\n",
    "\n",
    "What this does is squish each input $x_i$ between 0 and 1 and normalizes the values to give you a proper probability distribution where the probabilites sum up to one.\n",
    "\n",
    "> **Exercise:** Implement a function `softmax` that performs the softmax calculation and returns probability distributions for each example in the batch. Note that you'll need to pay attention to the shapes when doing this. If you have a tensor `a` with shape `(64, 10)` and a tensor `b` with shape `(64,)`, doing `a/b` will give you an error because PyTorch will try to do the division across the columns (called broadcasting) but you'll get a size mismatch. The way to think about this is for each of the 64 examples, you only want to divide by one value, the sum in the denominator. So you need `b` to have a shape of `(64, 1)`. This way PyTorch will divide the 10 values in each row of `a` by the one value in each row of `b`. Pay attention to how you take the sum as well. You'll need to define the `dim` keyword in `torch.sum`. Setting `dim=0` takes the sum across the rows while `dim=1` takes the sum across the columns."
   ]
  },
  {
   "cell_type": "code",
   "execution_count": 28,
   "metadata": {},
   "outputs": [
    {
     "output_type": "stream",
     "name": "stdout",
     "text": [
      "torch.Size([64, 10])\ntensor([1.0579e+10, 1.0364e+12, 3.4197e+10, 2.9631e+10, 3.2600e+08, 1.5575e+06,\n        1.1921e+15, 3.5663e+06, 2.6547e+08, 3.9007e+08, 1.1239e+09, 2.4878e+08,\n        5.0893e+11, 3.4536e+11, 2.5372e+13, 5.8713e+09, 2.4847e+09, 4.2653e+11,\n        1.6817e+11, 2.2704e+09, 8.9902e+07, 3.0273e+04, 1.9221e+15, 3.0823e+06,\n        1.8636e+10, 4.9727e+08, 3.0314e+13, 6.3527e+07, 3.6325e+07, 8.2108e+11,\n        1.1461e+09, 1.2451e+10, 3.6733e+10, 4.7432e+11, 1.4789e+09, 7.2554e+09,\n        1.5077e+09, 6.3373e+11, 1.7833e+08, 6.7241e+07, 6.9141e+09, 1.3884e+08,\n        2.8684e+07, 3.4585e+08, 1.0932e+10, 7.4470e+09, 4.0277e+13, 9.6994e+07,\n        1.3836e+09, 9.6313e+09, 3.4674e+09, 1.9763e+12, 1.5787e+09, 2.2479e+05,\n        1.2203e+14, 1.0574e+09, 5.4735e+11, 8.0752e+07, 4.5026e+10, 2.3720e+10,\n        1.3068e+11, 7.3454e+06, 6.0550e+08, 2.0888e+12])\ntorch.Size([64])\n"
     ]
    }
   ],
   "source": [
    "# To sum over all rows (i.e. for each column) - torch.sum(outputs, dim=0) # size = [1, ncol]\n",
    "# To sum over all columns (i.e. for each row) - torch.sum(outputs, dim=1) # size = [nrow, 1]\n",
    "# in our case each row is an image with 10 columns indicating how probable the image is to be a digit from 1-10\n",
    "print(torch.exp(out).shape)\n",
    "print(torch.sum(torch.exp(out), dim=1))\n",
    "print(torch.sum(torch.exp(out), dim=1).shape)"
   ]
  },
  {
   "cell_type": "code",
   "execution_count": 32,
   "metadata": {
    "collapsed": true
   },
   "outputs": [
    {
     "output_type": "stream",
     "name": "stdout",
     "text": [
      "torch.Size([64, 10])\ntensor([1.0000, 1.0000, 1.0000, 1.0000, 1.0000, 1.0000, 1.0000, 1.0000, 1.0000,\n        1.0000, 1.0000, 1.0000, 1.0000, 1.0000, 1.0000, 1.0000, 1.0000, 1.0000,\n        1.0000, 1.0000, 1.0000, 1.0000, 1.0000, 1.0000, 1.0000, 1.0000, 1.0000,\n        1.0000, 1.0000, 1.0000, 1.0000, 1.0000, 1.0000, 1.0000, 1.0000, 1.0000,\n        1.0000, 1.0000, 1.0000, 1.0000, 1.0000, 1.0000, 1.0000, 1.0000, 1.0000,\n        1.0000, 1.0000, 1.0000, 1.0000, 1.0000, 1.0000, 1.0000, 1.0000, 1.0000,\n        1.0000, 1.0000, 1.0000, 1.0000, 1.0000, 1.0000, 1.0000, 1.0000, 1.0000,\n        1.0000])\n"
     ]
    }
   ],
   "source": [
    "def softmax(x):\n",
    "    num = torch.exp(x)\n",
    "    denom = torch.sum(torch.exp(x), dim=1).view((x.shape[0],1))\n",
    "    return num/denom\n",
    "\n",
    "# Here, out should be the output of the network in the previous excercise with shape (64,10)\n",
    "probabilities = softmax(out)\n",
    "\n",
    "# Does it have the right shape? Should be (64, 10)\n",
    "print(probabilities.shape)\n",
    "# Does it sum to 1?\n",
    "print(probabilities.sum(dim=1))"
   ]
  },
  {
   "cell_type": "markdown",
   "metadata": {},
   "source": [
    "## Building networks with PyTorch\n",
    "\n",
    "PyTorch provides a module `nn` that makes building networks much simpler. Here I'll show you how to build the same one as above with 784 inputs, 256 hidden units, 10 output units and a softmax output."
   ]
  },
  {
   "cell_type": "code",
   "execution_count": 33,
   "metadata": {
    "collapsed": true
   },
   "outputs": [],
   "source": [
    "from torch import nn"
   ]
  },
  {
   "cell_type": "code",
   "execution_count": 34,
   "metadata": {
    "collapsed": true
   },
   "outputs": [],
   "source": [
    "class Network(nn.Module):\n",
    "    def __init__(self):\n",
    "        super().__init__()\n",
    "        \n",
    "        # Inputs to hidden layer linear transformation\n",
    "        self.hidden = nn.Linear(784, 256)\n",
    "        # Output layer, 10 units - one for each digit\n",
    "        self.output = nn.Linear(256, 10)\n",
    "        \n",
    "        # Define sigmoid activation and softmax output \n",
    "        self.sigmoid = nn.Sigmoid()\n",
    "        self.softmax = nn.Softmax(dim=1)\n",
    "        \n",
    "    def forward(self, x):\n",
    "        # Pass the input tensor through each of our operations\n",
    "        x = self.hidden(x)\n",
    "        x = self.sigmoid(x)\n",
    "        x = self.output(x)\n",
    "        x = self.softmax(x)\n",
    "        \n",
    "        return x"
   ]
  },
  {
   "cell_type": "markdown",
   "metadata": {},
   "source": [
    "Let's go through this bit by bit.\n",
    "\n",
    "```python\n",
    "class Network(nn.Module):\n",
    "```\n",
    "\n",
    "Here we're inheriting from `nn.Module`. Combined with `super().__init__()` this creates a class that tracks the architecture and provides a lot of useful methods and attributes. It is mandatory to inherit from `nn.Module` when you're creating a class for your network. The name of the class itself can be anything.\n",
    "\n",
    "```python\n",
    "self.hidden = nn.Linear(784, 256)\n",
    "```\n",
    "\n",
    "This line creates a module for a linear transformation, $x\\mathbf{W} + b$, with 784 inputs and 256 outputs and assigns it to `self.hidden`. The module automatically creates the weight and bias tensors which we'll use in the `forward` method. You can access the weight and bias tensors once the network (`net`) is created with `net.hidden.weight` and `net.hidden.bias`.\n",
    "\n",
    "```python\n",
    "self.output = nn.Linear(256, 10)\n",
    "```\n",
    "\n",
    "Similarly, this creates another linear transformation with 256 inputs and 10 outputs.\n",
    "\n",
    "```python\n",
    "self.sigmoid = nn.Sigmoid()\n",
    "self.softmax = nn.Softmax(dim=1)\n",
    "```\n",
    "\n",
    "Here I defined operations for the sigmoid activation and softmax output. Setting `dim=1` in `nn.Softmax(dim=1)` calculates softmax across the columns.\n",
    "\n",
    "```python\n",
    "def forward(self, x):\n",
    "```\n",
    "\n",
    "PyTorch networks created with `nn.Module` must have a `forward` method defined. It takes in a tensor `x` and passes it through the operations you defined in the `__init__` method.\n",
    "\n",
    "```python\n",
    "x = self.hidden(x)\n",
    "x = self.sigmoid(x)\n",
    "x = self.output(x)\n",
    "x = self.softmax(x)\n",
    "```\n",
    "\n",
    "Here the input tensor `x` is passed through each operation and reassigned to `x`. We can see that the input tensor goes through the hidden layer, then a sigmoid function, then the output layer, and finally the softmax function. It doesn't matter what you name the variables here, as long as the inputs and outputs of the operations match the network architecture you want to build. The order in which you define things in the `__init__` method doesn't matter, but you'll need to sequence the operations correctly in the `forward` method.\n",
    "\n",
    "Now we can create a `Network` object."
   ]
  },
  {
   "cell_type": "code",
   "execution_count": 35,
   "metadata": {
    "collapsed": true
   },
   "outputs": [
    {
     "output_type": "execute_result",
     "data": {
      "text/plain": [
       "Network(\n",
       "  (hidden): Linear(in_features=784, out_features=256, bias=True)\n",
       "  (output): Linear(in_features=256, out_features=10, bias=True)\n",
       "  (sigmoid): Sigmoid()\n",
       "  (softmax): Softmax(dim=1)\n",
       ")"
      ]
     },
     "metadata": {},
     "execution_count": 35
    }
   ],
   "source": [
    "# Create the network and look at it's text representation\n",
    "model = Network()\n",
    "model"
   ]
  },
  {
   "cell_type": "markdown",
   "metadata": {},
   "source": [
    "You can define the network somewhat more concisely and clearly using the `torch.nn.functional` module. This is the most common way you'll see networks defined as many operations are simple element-wise functions. We normally import this module as `F`, `import torch.nn.functional as F`."
   ]
  },
  {
   "cell_type": "code",
   "execution_count": 36,
   "metadata": {
    "collapsed": true
   },
   "outputs": [],
   "source": [
    "import torch.nn.functional as F\n",
    "\n",
    "class Network(nn.Module):\n",
    "    def __init__(self):\n",
    "        super().__init__()\n",
    "        # Inputs to hidden layer linear transformation\n",
    "        self.hidden = nn.Linear(784, 256)\n",
    "        # Output layer, 10 units - one for each digit\n",
    "        self.output = nn.Linear(256, 10)\n",
    "        \n",
    "    def forward(self, x):\n",
    "        # Hidden layer with sigmoid activation\n",
    "        x = F.sigmoid(self.hidden(x))\n",
    "        # Output layer with softmax activation\n",
    "        x = F.softmax(self.output(x), dim=1)\n",
    "        \n",
    "        return x"
   ]
  },
  {
   "cell_type": "markdown",
   "metadata": {},
   "source": [
    "### Activation functions\n",
    "\n",
    "So far we've only been looking at the sigmoid activation function, but in general any function can be used as an activation function. The only requirement is that for a network to approximate a non-linear function, the activation functions must be non-linear. Here are a few more examples of common activation functions: Tanh (hyperbolic tangent), and ReLU (rectified linear unit).\n",
    "\n",
    "<img src=\"assets/activation.png\" width=700px>\n",
    "\n",
    "In practice, the ReLU function is used almost exclusively as the activation function for hidden layers."
   ]
  },
  {
   "cell_type": "markdown",
   "metadata": {},
   "source": [
    "### Your Turn to Build a Network\n",
    "\n",
    "<img src=\"assets/mlp_mnist.png\" width=600px>\n",
    "\n",
    "> **Exercise:** Create a network with 784 input units, a hidden layer with 128 units and a ReLU activation, then a hidden layer with 64 units and a ReLU activation, and finally an output layer with a softmax activation as shown above. You can use a ReLU activation with the `nn.ReLU` module or `F.relu` function.\n",
    "\n",
    "It's good practice to name your layers by their type of network, for instance 'fc' to represent a fully-connected layer. As you code your solution, use `fc1`, `fc2`, and `fc3` as your layer names."
   ]
  },
  {
   "cell_type": "code",
   "execution_count": 37,
   "metadata": {
    "collapsed": true,
    "scrolled": true
   },
   "outputs": [],
   "source": [
    "## Your solution here\n",
    "from torch import nn\n",
    "import torch.nn.functional as F\n",
    "\n",
    "class NeuralNet(nn.Module):\n",
    "    def __init__(self):\n",
    "        super().__init__() # inheriting methods and attributes from torch base class (nn.Module)\n",
    "        self.fc1 = nn.Linear(784, 128) # inputs to hidden_layer_1 via linear transformation\n",
    "        self.fc2 = nn.Linear(128, 64) \n",
    "        self.fc3 = nn.Linear(64, 10)\n",
    "\n",
    "    def forward_pass(self, x):\n",
    "        \"\"\"\n",
    "        x: input tensor to pass into neural network\n",
    "        \"\"\"\n",
    "        hidden_1_out = F.relu(self.fc1(x))\n",
    "        hidden_2_out = F.relu(self.fc2(hidden_1_out))\n",
    "        output_out = F.softmax(self.fc3(hidden_2_out), dim=1)\n",
    "\n",
    "        return output_out"
   ]
  },
  {
   "cell_type": "markdown",
   "metadata": {},
   "source": [
    "### Initializing weights and biases\n",
    "\n",
    "The weights and such are automatically initialized for you, but it's possible to customize how they are initialized. The weights and biases are tensors attached to the layer you defined, you can get them with `model.fc1.weight` for instance."
   ]
  },
  {
   "cell_type": "code",
   "execution_count": 39,
   "metadata": {
    "collapsed": true
   },
   "outputs": [
    {
     "output_type": "stream",
     "name": "stdout",
     "text": [
      "Parameter containing:\ntensor([[ 0.0267, -0.0339,  0.0235,  ..., -0.0078, -0.0084, -0.0223],\n        [ 0.0336, -0.0036, -0.0249,  ..., -0.0210, -0.0321,  0.0007],\n        [-0.0253,  0.0083, -0.0257,  ...,  0.0226,  0.0073,  0.0347],\n        ...,\n        [ 0.0236,  0.0144, -0.0072,  ..., -0.0171,  0.0120, -0.0340],\n        [ 0.0306, -0.0096, -0.0117,  ..., -0.0025, -0.0117, -0.0058],\n        [-0.0184, -0.0003, -0.0210,  ..., -0.0300, -0.0084, -0.0329]],\n       requires_grad=True)\nParameter containing:\ntensor([ 0.0197, -0.0257,  0.0116,  0.0211,  0.0173,  0.0013,  0.0129,  0.0174,\n        -0.0127,  0.0100,  0.0056, -0.0122,  0.0154, -0.0286,  0.0122,  0.0110,\n        -0.0235, -0.0269,  0.0333,  0.0300,  0.0189,  0.0040,  0.0090,  0.0150,\n         0.0243,  0.0013, -0.0150, -0.0011, -0.0231, -0.0271, -0.0329,  0.0203,\n        -0.0100,  0.0152,  0.0332, -0.0275,  0.0016,  0.0296,  0.0191,  0.0303,\n         0.0352, -0.0067, -0.0133, -0.0104, -0.0210, -0.0103, -0.0228,  0.0335,\n         0.0278, -0.0265, -0.0024,  0.0066,  0.0093,  0.0299,  0.0186,  0.0280,\n         0.0028, -0.0015, -0.0106,  0.0173,  0.0281,  0.0056, -0.0075,  0.0136,\n         0.0005, -0.0342,  0.0234, -0.0120,  0.0106, -0.0030, -0.0042, -0.0119,\n         0.0248, -0.0201, -0.0337,  0.0173, -0.0266,  0.0188,  0.0303, -0.0008,\n        -0.0216, -0.0093,  0.0195, -0.0041,  0.0350, -0.0211, -0.0310,  0.0134,\n        -0.0198, -0.0141,  0.0058, -0.0283,  0.0037, -0.0005,  0.0085,  0.0030,\n        -0.0133,  0.0067,  0.0297, -0.0274,  0.0185,  0.0209, -0.0021,  0.0226,\n        -0.0034, -0.0256,  0.0119, -0.0051, -0.0069,  0.0300,  0.0210, -0.0117,\n        -0.0276, -0.0173,  0.0175,  0.0162,  0.0327, -0.0027,  0.0021,  0.0180,\n        -0.0055, -0.0003,  0.0171, -0.0145, -0.0274, -0.0113,  0.0049,  0.0071],\n       requires_grad=True)\n"
     ]
    }
   ],
   "source": [
    "model = NeuralNet()\n",
    "print(model.fc1.weight)\n",
    "print(model.fc1.bias)"
   ]
  },
  {
   "cell_type": "markdown",
   "metadata": {},
   "source": [
    "For custom initialization, we want to modify these tensors in place. These are actually autograd *Variables*, so we need to get back the actual tensors with `model.fc1.weight.data`. Once we have the tensors, we can fill them with zeros (for biases) or random normal values."
   ]
  },
  {
   "cell_type": "code",
   "execution_count": 40,
   "metadata": {
    "collapsed": true
   },
   "outputs": [
    {
     "output_type": "execute_result",
     "data": {
      "text/plain": [
       "tensor([0., 0., 0., 0., 0., 0., 0., 0., 0., 0., 0., 0., 0., 0., 0., 0., 0., 0., 0., 0., 0., 0., 0., 0.,\n",
       "        0., 0., 0., 0., 0., 0., 0., 0., 0., 0., 0., 0., 0., 0., 0., 0., 0., 0., 0., 0., 0., 0., 0., 0.,\n",
       "        0., 0., 0., 0., 0., 0., 0., 0., 0., 0., 0., 0., 0., 0., 0., 0., 0., 0., 0., 0., 0., 0., 0., 0.,\n",
       "        0., 0., 0., 0., 0., 0., 0., 0., 0., 0., 0., 0., 0., 0., 0., 0., 0., 0., 0., 0., 0., 0., 0., 0.,\n",
       "        0., 0., 0., 0., 0., 0., 0., 0., 0., 0., 0., 0., 0., 0., 0., 0., 0., 0., 0., 0., 0., 0., 0., 0.,\n",
       "        0., 0., 0., 0., 0., 0., 0., 0.])"
      ]
     },
     "metadata": {},
     "execution_count": 40
    }
   ],
   "source": [
    "# Set biases to all zeros\n",
    "model.fc1.bias.data.fill_(0)"
   ]
  },
  {
   "cell_type": "code",
   "execution_count": 41,
   "metadata": {
    "collapsed": true
   },
   "outputs": [
    {
     "output_type": "execute_result",
     "data": {
      "text/plain": [
       "tensor([[ 1.4070e-03, -4.5274e-03, -1.6785e-02,  ...,  6.6781e-03,\n",
       "         -4.2713e-03,  8.3108e-03],\n",
       "        [-7.1718e-03,  9.9071e-03,  2.1266e-02,  ...,  7.1006e-03,\n",
       "         -1.1418e-02,  1.9237e-02],\n",
       "        [-5.4999e-03, -2.1945e-02, -3.2589e-05,  ...,  1.3726e-02,\n",
       "         -5.1530e-03,  9.2300e-03],\n",
       "        ...,\n",
       "        [ 1.1143e-03, -1.3339e-02, -4.4554e-03,  ..., -2.7487e-03,\n",
       "         -1.9604e-02, -4.3438e-03],\n",
       "        [ 3.6689e-04,  1.9892e-02,  3.2693e-03,  ...,  1.3354e-02,\n",
       "         -2.9016e-03, -3.6868e-03],\n",
       "        [ 7.4161e-04, -9.6842e-03,  1.8198e-03,  ...,  1.5614e-02,\n",
       "         -6.3068e-03, -2.0147e-02]])"
      ]
     },
     "metadata": {},
     "execution_count": 41
    }
   ],
   "source": [
    "# sample from random normal with standard dev = 0.01\n",
    "model.fc1.weight.data.normal_(std=0.01)"
   ]
  },
  {
   "cell_type": "markdown",
   "metadata": {},
   "source": [
    "### Forward pass\n",
    "\n",
    "Now that we have a network, let's see what happens when we pass in an image."
   ]
  },
  {
   "cell_type": "code",
   "execution_count": 43,
   "metadata": {
    "collapsed": true
   },
   "outputs": [
    {
     "output_type": "display_data",
     "data": {
      "text/plain": "<Figure size 432x648 with 2 Axes>",
      "image/png": "[encoded data removed]"
     },
     "metadata": {
      "image/png": {
       "width": 424,
       "height": 235
      },
      "needs_background": "light"
     }
    }
   ],
   "source": [
    "# Grab some data \n",
    "dataiter = iter(trainloader)\n",
    "images, labels = dataiter.next()\n",
    "\n",
    "# Resize images into a 1D vector, new shape is (batch size, color channels, image pixels) \n",
    "images.resize_(64, 1, 784)\n",
    "# or images.resize_(images.shape[0], 1, 784) to automatically get batch size\n",
    "\n",
    "# Forward pass through the network\n",
    "img_idx = 0\n",
    "ps = model.forward_pass(images[img_idx,:])\n",
    "\n",
    "img = images[img_idx]\n",
    "helper.view_classify(img.view(1, 28, 28), ps)"
   ]
  },
  {
   "cell_type": "markdown",
   "metadata": {},
   "source": [
    "As you can see above, our network has basically no idea what this digit is. It's because we haven't trained it yet, all the weights are random!\n",
    "\n",
    "### Using `nn.Sequential`\n",
    "\n",
    "PyTorch provides a convenient way to build networks like this where a tensor is passed sequentially through operations, `nn.Sequential` ([documentation](https://pytorch.org/docs/master/nn.html#torch.nn.Sequential)). Using this to build the equivalent network:"
   ]
  },
  {
   "cell_type": "code",
   "execution_count": 45,
   "metadata": {
    "collapsed": true
   },
   "outputs": [
    {
     "output_type": "stream",
     "name": "stdout",
     "text": [
      "Sequential(\n  (0): Linear(in_features=784, out_features=128, bias=True)\n  (1): ReLU()\n  (2): Linear(in_features=128, out_features=64, bias=True)\n  (3): ReLU()\n  (4): Linear(in_features=64, out_features=10, bias=True)\n  (5): Softmax(dim=1)\n)\n"
     ]
    },
    {
     "output_type": "display_data",
     "data": {
      "text/plain": "<Figure size 432x648 with 2 Axes>",
      "image/png": "[encoded data removed]"
     },
     "metadata": {
      "image/png": {
       "width": 424,
       "height": 235
      },
      "needs_background": "light"
     }
    }
   ],
   "source": [
    "# Hyperparameters for our network\n",
    "input_size = 784\n",
    "hidden_sizes = [128, 64]\n",
    "output_size = 10\n",
    "\n",
    "# Build a feed-forward network\n",
    "model = nn.Sequential(nn.Linear(input_size, hidden_sizes[0]),\n",
    "                      nn.ReLU(),\n",
    "                      nn.Linear(hidden_sizes[0], hidden_sizes[1]),\n",
    "                      nn.ReLU(),\n",
    "                      nn.Linear(hidden_sizes[1], output_size),\n",
    "                      nn.Softmax(dim=1))\n",
    "print(model)\n",
    "\n",
    "# Forward pass through the network and display output\n",
    "images, labels = next(iter(trainloader))\n",
    "images.resize_(images.shape[0], 1, 784)\n",
    "ps = model.forward(images[0,:])\n",
    "helper.view_classify(images[0].view(1, 28, 28), ps)"
   ]
  },
  {
   "cell_type": "markdown",
   "metadata": {},
   "source": [
    "Here our model is the same as before: 784 input units, a hidden layer with 128 units, ReLU activation, 64 unit hidden layer, another ReLU, then the output layer with 10 units, and the softmax output.\n",
    "\n",
    "The operations are available by passing in the appropriate index. For example, if you want to get first Linear operation and look at the weights, you'd use `model[0]`."
   ]
  },
  {
   "cell_type": "code",
   "execution_count": 46,
   "metadata": {
    "collapsed": true
   },
   "outputs": [
    {
     "output_type": "stream",
     "name": "stdout",
     "text": [
      "Linear(in_features=784, out_features=128, bias=True)\n"
     ]
    },
    {
     "output_type": "execute_result",
     "data": {
      "text/plain": [
       "Parameter containing:\n",
       "tensor([[ 0.0355,  0.0184,  0.0187,  ...,  0.0011,  0.0058,  0.0224],\n",
       "        [-0.0280,  0.0153, -0.0093,  ..., -0.0086,  0.0230,  0.0321],\n",
       "        [ 0.0094, -0.0209,  0.0257,  ..., -0.0155,  0.0025, -0.0311],\n",
       "        ...,\n",
       "        [ 0.0253,  0.0248, -0.0285,  ...,  0.0305,  0.0159, -0.0016],\n",
       "        [-0.0356, -0.0344, -0.0084,  ...,  0.0099, -0.0165,  0.0121],\n",
       "        [ 0.0090, -0.0146, -0.0052,  ...,  0.0271, -0.0353, -0.0248]],\n",
       "       requires_grad=True)"
      ]
     },
     "metadata": {},
     "execution_count": 46
    }
   ],
   "source": [
    "print(model[0])\n",
    "model[0].weight"
   ]
  },
  {
   "cell_type": "markdown",
   "metadata": {},
   "source": [
    "You can also pass in an `OrderedDict` to name the individual layers and operations, instead of using incremental integers. Note that dictionary keys must be unique, so _each operation must have a different name_."
   ]
  },
  {
   "cell_type": "code",
   "execution_count": 47,
   "metadata": {
    "collapsed": true
   },
   "outputs": [
    {
     "output_type": "execute_result",
     "data": {
      "text/plain": [
       "Sequential(\n",
       "  (fc1): Linear(in_features=784, out_features=128, bias=True)\n",
       "  (relu1): ReLU()\n",
       "  (fc2): Linear(in_features=128, out_features=64, bias=True)\n",
       "  (relu2): ReLU()\n",
       "  (output): Linear(in_features=64, out_features=10, bias=True)\n",
       "  (softmax): Softmax(dim=1)\n",
       ")"
      ]
     },
     "metadata": {},
     "execution_count": 47
    }
   ],
   "source": [
    "from collections import OrderedDict\n",
    "model = nn.Sequential(OrderedDict([\n",
    "                      ('fc1', nn.Linear(input_size, hidden_sizes[0])),\n",
    "                      ('relu1', nn.ReLU()),\n",
    "                      ('fc2', nn.Linear(hidden_sizes[0], hidden_sizes[1])),\n",
    "                      ('relu2', nn.ReLU()),\n",
    "                      ('output', nn.Linear(hidden_sizes[1], output_size)),\n",
    "                      ('softmax', nn.Softmax(dim=1))]))\n",
    "model"
   ]
  },
  {
   "cell_type": "markdown",
   "metadata": {},
   "source": [
    "Now you can access layers either by integer or the name"
   ]
  },
  {
   "cell_type": "code",
   "execution_count": 48,
   "metadata": {
    "collapsed": true
   },
   "outputs": [
    {
     "output_type": "stream",
     "name": "stdout",
     "text": [
      "Linear(in_features=784, out_features=128, bias=True)\nLinear(in_features=784, out_features=128, bias=True)\n"
     ]
    }
   ],
   "source": [
    "print(model[0])\n",
    "print(model.fc1)"
   ]
  },
  {
   "cell_type": "markdown",
   "metadata": {},
   "source": [
    "In the next notebook, we'll see how we can train a neural network to accuractly predict the numbers appearing in the MNIST images."
   ]
  }
 ],
 "metadata": {
  "kernelspec": {
   "name": "python3",
   "display_name": "Python 3.8.5 64-bit ('python_38': conda)",
   "metadata": {
    "interpreter": {
     "hash": "0e818cdeeaa6ff7d39f4a47e7382e5e82790aa3160482f0c42e2c18450bf2f3a"
    }
   }
  },
  "language_info": {
   "codemirror_mode": {
    "name": "ipython",
    "version": 3
   },
   "file_extension": ".py",
   "mimetype": "text/x-python",
   "name": "python",
   "nbconvert_exporter": "python",
   "pygments_lexer": "ipython3",
   "version": "3.8.5-final"
  }
 },
 "nbformat": 4,
 "nbformat_minor": 2
}