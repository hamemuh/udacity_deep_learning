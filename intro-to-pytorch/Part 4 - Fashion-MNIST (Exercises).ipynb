{
 "cells": [
  {
   "cell_type": "markdown",
   "metadata": {},
   "source": [
    "# Classifying Fashion-MNIST\n",
    "\n",
    "Now it's your turn to build and train a neural network. You'll be using the [Fashion-MNIST dataset](https://github.com/zalandoresearch/fashion-mnist), a drop-in replacement for the MNIST dataset. MNIST is actually quite trivial with neural networks where you can easily achieve better than 97% accuracy. Fashion-MNIST is a set of 28x28 greyscale images of clothes. It's more complex than MNIST, so it's a better representation of the actual performance of your network, and a better representation of datasets you'll use in the real world.\n",
    "\n",
    "<img src='assets/fashion-mnist-sprite.png' width=500px>\n",
    "\n",
    "In this notebook, you'll build your own neural network. For the most part, you could just copy and paste the code from Part 3, but you wouldn't be learning. It's important for you to write the code yourself and get it to work. Feel free to consult the previous notebooks though as you work through this.\n",
    "\n",
    "First off, let's load the dataset through torchvision."
   ]
  },
  {
   "cell_type": "code",
   "execution_count": 1,
   "metadata": {},
   "outputs": [
    {
     "output_type": "stream",
     "name": "stderr",
     "text": [
      "0.4%Downloading http://fashion-mnist.s3-website.eu-central-1.amazonaws.com/train-images-idx3-ubyte.gz to C:\\Users\\muham/.pytorch/F_MNIST_data/FashionMNIST\\raw\\train-images-idx3-ubyte.gz\n",
      "100.0%Extracting C:\\Users\\muham/.pytorch/F_MNIST_data/FashionMNIST\\raw\\train-images-idx3-ubyte.gz to C:\\Users\\muham/.pytorch/F_MNIST_data/FashionMNIST\\raw\n",
      "111.0%Downloading http://fashion-mnist.s3-website.eu-central-1.amazonaws.com/train-labels-idx1-ubyte.gz to C:\\Users\\muham/.pytorch/F_MNIST_data/FashionMNIST\\raw\\train-labels-idx1-ubyte.gz\n",
      "Extracting C:\\Users\\muham/.pytorch/F_MNIST_data/FashionMNIST\\raw\\train-labels-idx1-ubyte.gz to C:\\Users\\muham/.pytorch/F_MNIST_data/FashionMNIST\\raw\n",
      "Downloading http://fashion-mnist.s3-website.eu-central-1.amazonaws.com/t10k-images-idx3-ubyte.gz to C:\\Users\\muham/.pytorch/F_MNIST_data/FashionMNIST\\raw\\t10k-images-idx3-ubyte.gz\n",
      "159.1%Extracting C:\\Users\\muham/.pytorch/F_MNIST_data/FashionMNIST\\raw\\t10k-images-idx3-ubyte.gz to C:\\Users\\muham/.pytorch/F_MNIST_data/FashionMNIST\\raw\n",
      "Downloading http://fashion-mnist.s3-website.eu-central-1.amazonaws.com/t10k-labels-idx1-ubyte.gz to C:\\Users\\muham/.pytorch/F_MNIST_data/FashionMNIST\\raw\\t10k-labels-idx1-ubyte.gz\n",
      "Extracting C:\\Users\\muham/.pytorch/F_MNIST_data/FashionMNIST\\raw\\t10k-labels-idx1-ubyte.gz to C:\\Users\\muham/.pytorch/F_MNIST_data/FashionMNIST\\raw\n",
      "Processing...\n",
      "Done!\n"
     ]
    }
   ],
   "source": [
    "import torch\n",
    "from torchvision import datasets, transforms\n",
    "import helper\n",
    "\n",
    "# Define a transform to normalize the data\n",
    "transform = transforms.Compose([transforms.ToTensor(),\n",
    "                                transforms.Normalize((0.5,), (0.5,))])\n",
    "# Download and load the training data\n",
    "trainset = datasets.FashionMNIST('~/.pytorch/F_MNIST_data/', download=True, train=True, transform=transform)\n",
    "trainloader = torch.utils.data.DataLoader(trainset, batch_size=64, shuffle=True)\n",
    "\n",
    "# Download and load the test data\n",
    "testset = datasets.FashionMNIST('~/.pytorch/F_MNIST_data/', download=True, train=False, transform=transform)\n",
    "testloader = torch.utils.data.DataLoader(testset, batch_size=64, shuffle=True)"
   ]
  },
  {
   "cell_type": "markdown",
   "metadata": {},
   "source": [
    "Here we can see one of the images."
   ]
  },
  {
   "cell_type": "code",
   "execution_count": 21,
   "metadata": {},
   "outputs": [
    {
     "output_type": "display_data",
     "data": {
      "text/plain": "<Figure size 432x288 with 1 Axes>",
      "image/svg+xml": "<?xml version=\"1.0\" encoding=\"utf-8\" standalone=\"no\"?>\r\n<!DOCTYPE svg PUBLIC \"-//W3C//DTD SVG 1.1//EN\"\r\n  \"http://www.w3.org/Graphics/SVG/1.1/DTD/svg11.dtd\">\r\n<!-- Created with matplotlib (https://matplotlib.org/) -->\r\n<svg height=\"231.84pt\" version=\"1.1\" viewBox=\"0 0 231.84 231.84\" width=\"231.84pt\" xmlns=\"http://www.w3.org/2000/svg\" xmlns:xlink=\"http://www.w3.org/1999/xlink\">\r\n <metadata>\r\n  <rdf:RDF xmlns:cc=\"http://creativecommons.org/ns#\" xmlns:dc=\"http://purl.org/dc/elements/1.1/\" xmlns:rdf=\"http://www.w3.org/1999/02/22-rdf-syntax-ns#\">\r\n   <cc:Work>\r\n    <dc:type rdf:resource=\"http://purl.org/dc/dcmitype/StillImage\"/>\r\n    <dc:date>2021-01-13T22:32:19.598935</dc:date>\r\n    <dc:format>image/svg+xml</dc:format>\r\n    <dc:creator>\r\n     <cc:Agent>\r\n      <dc:title>Matplotlib v3.3.2, https://matplotlib.org/</dc:title>\r\n     </cc:Agent>\r\n    </dc:creator>\r\n   </cc:Work>\r\n  </rdf:RDF>\r\n </metadata>\r\n <defs>\r\n  <style type=\"text/css\">*{stroke-linecap:butt;stroke-linejoin:round;}</style>\r\n </defs>\r\n <g id=\"figure_1\">\r\n  <g id=\"patch_1\">\r\n   <path d=\"M 0 231.84 \r\nL 231.84 231.84 \r\nL 231.84 0 \r\nL 0 0 \r\nz\r\n\" style=\"fill:none;\"/>\r\n  </g>\r\n  <g id=\"axes_1\">\r\n   <g id=\"patch_2\">\r\n    <path d=\"M 7.2 224.64 \r\nL 224.64 224.64 \r\nL 224.64 7.2 \r\nL 7.2 7.2 \r\nz\r\n\" style=\"fill:#ffffff;\"/>\r\n   </g>\r\n   <g clip-path=\"url(#pf8654bfc76)\">\r\n    <image height=\"218\" id=\"imagef3590a2435\" transform=\"scale(1 -1)translate(0 -218)\" width=\"218\" x=\"7.2\" xlink:href=\"data:image/png;base64,\r\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\" y=\"-6.64\"/>\r\n   </g>\r\n   <g id=\"matplotlib.axis_1\">\r\n    <g id=\"xtick_1\">\r\n     <g id=\"line2d_1\"/>\r\n    </g>\r\n    <g id=\"xtick_2\">\r\n     <g id=\"line2d_2\"/>\r\n    </g>\r\n    <g id=\"xtick_3\">\r\n     <g id=\"line2d_3\"/>\r\n    </g>\r\n    <g id=\"xtick_4\">\r\n     <g id=\"line2d_4\"/>\r\n    </g>\r\n    <g id=\"xtick_5\">\r\n     <g id=\"line2d_5\"/>\r\n    </g>\r\n    <g id=\"xtick_6\">\r\n     <g id=\"line2d_6\"/>\r\n    </g>\r\n   </g>\r\n   <g id=\"matplotlib.axis_2\">\r\n    <g id=\"ytick_1\">\r\n     <g id=\"line2d_7\"/>\r\n    </g>\r\n    <g id=\"ytick_2\">\r\n     <g id=\"line2d_8\"/>\r\n    </g>\r\n    <g id=\"ytick_3\">\r\n     <g id=\"line2d_9\"/>\r\n    </g>\r\n    <g id=\"ytick_4\">\r\n     <g id=\"line2d_10\"/>\r\n    </g>\r\n    <g id=\"ytick_5\">\r\n     <g id=\"line2d_11\"/>\r\n    </g>\r\n    <g id=\"ytick_6\">\r\n     <g id=\"line2d_12\"/>\r\n    </g>\r\n   </g>\r\n  </g>\r\n </g>\r\n <defs>\r\n  <clipPath id=\"pf8654bfc76\">\r\n   <rect height=\"217.44\" width=\"217.44\" x=\"7.2\" y=\"7.2\"/>\r\n  </clipPath>\r\n </defs>\r\n</svg>\r\n",
      "image/png": "[encoded data removed]"
     },
     "metadata": {
      "needs_background": "light"
     }
    }
   ],
   "source": [
    "image, label = next(iter(trainloader))\n",
    "helper.imshow(image[0,:]);"
   ]
  },
  {
   "cell_type": "code",
   "execution_count": 22,
   "metadata": {
    "tags": []
   },
   "outputs": [],
   "source": [
    "image = torch.tensor(image, requires_grad=True)"
   ]
  },
  {
   "cell_type": "markdown",
   "metadata": {},
   "source": [
    "## Building the network\n",
    "\n",
    "Here you should define your network. As with MNIST, each image is 28x28 which is a total of 784 pixels, and there are 10 classes. You should include at least one hidden layer. We suggest you use ReLU activations for the layers and to return the logits or log-softmax from the forward pass. It's up to you how many layers you add and the size of those layers."
   ]
  },
  {
   "cell_type": "code",
   "execution_count": 27,
   "metadata": {},
   "outputs": [],
   "source": [
    "# TODO: Define your network architecture here\n",
    "\n",
    "from torch import nn, optim\n",
    "import collections\n",
    "# Specify nodes to be used in network\n",
    "n_inputs = image.size()[-1] * image.size()[-2]\n",
    "n_hidden = 20\n",
    "n_output = 10\n",
    "# define model using torch.nn.Sequential\n",
    "# note: this will initialise the weights and bias for each layer automatically\n",
    "model = nn.Sequential(collections.OrderedDict([\n",
    "    ('i_h_linear', nn.Linear(n_inputs, n_hidden)),\n",
    "    ('i_h_activation', nn.ReLU()),\n",
    "    ('h_o_linear', nn.Linear(n_hidden, n_output)),\n",
    "    ('h_o_activation', nn.LogSoftmax(dim=1))\n",
    "]))\n"
   ]
  },
  {
   "cell_type": "code",
   "execution_count": 29,
   "metadata": {},
   "outputs": [
    {
     "output_type": "execute_result",
     "data": {
      "text/plain": [
       "<bound method Module.parameters of Sequential(\n",
       "  (i_h_linear): Linear(in_features=784, out_features=20, bias=True)\n",
       "  (i_h_activation): ReLU()\n",
       "  (h_o_linear): Linear(in_features=20, out_features=10, bias=True)\n",
       "  (h_o_activation): LogSoftmax()\n",
       ")>"
      ]
     },
     "metadata": {},
     "execution_count": 29
    }
   ],
   "source": [
    "model.parameters"
   ]
  },
  {
   "cell_type": "markdown",
   "metadata": {},
   "source": [
    "# Train the network\n",
    "\n",
    "Now you should create your network and train it. First you'll want to define [the criterion](http://pytorch.org/docs/master/nn.html#loss-functions) ( something like `nn.CrossEntropyLoss`) and [the optimizer](http://pytorch.org/docs/master/optim.html) (typically `optim.SGD` or `optim.Adam`).\n",
    "\n",
    "Then write the training code. Remember the training pass is a fairly straightforward process:\n",
    "\n",
    "* Make a forward pass through the network to get the logits \n",
    "* Use the logits to calculate the loss\n",
    "* Perform a backward pass through the network with `loss.backward()` to calculate the gradients\n",
    "* Take a step with the optimizer to update the weights\n",
    "\n",
    "By adjusting the hyperparameters (hidden units, learning rate, etc), you should be able to get the training loss below 0.4."
   ]
  },
  {
   "cell_type": "code",
   "execution_count": 31,
   "metadata": {
    "tags": []
   },
   "outputs": [
    {
     "output_type": "stream",
     "name": "stdout",
     "text": [
      "Training loss: 0.43015042479549137\n",
      "Training loss: 0.419979605625179\n",
      "Training loss: 0.4111863626345897\n",
      "Training loss: 0.4042456564364403\n",
      "Training loss: 0.3983723138854193\n"
     ]
    }
   ],
   "source": [
    "# TODO: Create the network, define the criterion and optimizer\n",
    "\n",
    "criterion = nn.NLLLoss()  # loss function\n",
    "optimizer = optim.SGD(model.parameters(), lr=0.01)  # optimizer used to adjust weights in back prop\n",
    "\n",
    "epochs = 5\n",
    "for e in range(epochs):\n",
    "    running_loss = 0\n",
    "    for images, labels in trainloader:\n",
    "        # flatten image and enable gradient calc\n",
    "        images = images.view(images.size()[0], n_inputs)\n",
    "        images = torch.tensor(images, requires_grad=True)\n",
    "        # perform forward pass\n",
    "        predictions = model(images)\n",
    "        # perform backwards pass\n",
    "        loss = criterion(predictions, labels)\n",
    "        optimizer.zero_grad()\n",
    "        loss.backward()\n",
    "        optimizer.step()\n",
    "\n",
    "        running_loss += loss.item()\n",
    "    else:\n",
    "        print(f\"Training loss: {running_loss/len(trainloader)}\")"
   ]
  },
  {
   "cell_type": "code",
   "execution_count": 36,
   "metadata": {},
   "outputs": [
    {
     "output_type": "display_data",
     "data": {
      "text/plain": "<Figure size 432x648 with 2 Axes>",
      "image/png": "[encoded data removed]"
     },
     "metadata": {
      "image/png": {
       "width": 424,
       "height": 216
      },
      "needs_background": "light"
     }
    }
   ],
   "source": [
    "%matplotlib inline\n",
    "%config InlineBackend.figure_format = 'retina'\n",
    "\n",
    "import helper\n",
    "\n",
    "# Test out your network!\n",
    "\n",
    "dataiter = iter(testloader)\n",
    "images, labels = dataiter.next()\n",
    "img = images[0]\n",
    "# Convert 2D image to 1D vector\n",
    "img = img.resize_(1, 784)\n",
    "\n",
    "# TODO: Calculate the class probabilities (softmax) for img\n",
    "ps = torch.exp(model(img))\n",
    "\n",
    "# Plot the image and probabilities\n",
    "helper.view_classify(img.resize_(1, 28, 28), ps, version='Fashion')"
   ]
  },
  {
   "cell_type": "code",
   "execution_count": null,
   "metadata": {},
   "outputs": [],
   "source": []
  }
 ],
 "metadata": {
  "kernelspec": {
   "display_name": "Python 3",
   "language": "python",
   "name": "python3"
  },
  "language_info": {
   "codemirror_mode": {
    "name": "ipython",
    "version": 3
   },
   "file_extension": ".py",
   "mimetype": "text/x-python",
   "name": "python",
   "nbconvert_exporter": "python",
   "pygments_lexer": "ipython3",
   "version": "3.8.5-final"
  }
 },
 "nbformat": 4,
 "nbformat_minor": 2
}